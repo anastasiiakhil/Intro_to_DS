{
 "cells": [
  {
   "cell_type": "markdown",
   "id": "emerging-grenada",
   "metadata": {},
   "source": [
    "## Description"
   ]
  },
  {
   "cell_type": "markdown",
   "id": "modular-bermuda",
   "metadata": {},
   "source": [
    "The tasks of this work are aimed at getting acquainted with the Python programming language and the peculiarities of working with its main data types (str, dict, set, tuple etc)."
   ]
  },
  {
   "cell_type": "markdown",
   "id": "awful-parallel",
   "metadata": {},
   "source": [
    "## Tasks"
   ]
  },
  {
   "cell_type": "markdown",
   "id": "boxed-fruit",
   "metadata": {},
   "source": [
    "Task 1. A function that sorts the dictionary by values."
   ]
  },
  {
   "cell_type": "code",
   "execution_count": 1,
   "id": "champion-elite",
   "metadata": {},
   "outputs": [],
   "source": [
    "def sort_dict_by_value(dictionary):\n",
    "    dictionary = ({k: v for k, v in sorted(dictionary.items(), key=lambda item: item[1])})\n",
    "    return dictionary"
   ]
  },
  {
   "cell_type": "code",
   "execution_count": 2,
   "id": "similar-preference",
   "metadata": {},
   "outputs": [
    {
     "data": {
      "text/plain": [
       "{2: 0, 3: 1, 1: 2, 5: 3, 6: 4, 4: 5}"
      ]
     },
     "execution_count": 2,
     "metadata": {},
     "output_type": "execute_result"
    }
   ],
   "source": [
    "sort_dict_by_value({1:2, 2:0, 3:1, 4:5, 5:3, 6:4})"
   ]
  },
  {
   "cell_type": "markdown",
   "id": "renewable-guatemala",
   "metadata": {},
   "source": [
    "Task 2. A function that adds a key to the dictionary."
   ]
  },
  {
   "cell_type": "code",
   "execution_count": 3,
   "id": "dietary-reality",
   "metadata": {},
   "outputs": [],
   "source": [
    "def dict_add_value(dictionary, value):\n",
    "    dictionary[list(dictionary.keys())[-1]+1] = value\n",
    "    return dictionary"
   ]
  },
  {
   "cell_type": "code",
   "execution_count": 4,
   "id": "independent-render",
   "metadata": {},
   "outputs": [
    {
     "data": {
      "text/plain": [
       "{0: 10, 1: 20, 2: 30}"
      ]
     },
     "execution_count": 4,
     "metadata": {},
     "output_type": "execute_result"
    }
   ],
   "source": [
    "dict_add_value({0: 10, 1: 20}, 30)"
   ]
  },
  {
   "cell_type": "markdown",
   "id": "latter-senate",
   "metadata": {},
   "source": [
    "Task 3. A function that combines dictionaries and creates a new one."
   ]
  },
  {
   "cell_type": "code",
   "execution_count": 5,
   "id": "theoretical-builder",
   "metadata": {},
   "outputs": [],
   "source": [
    "def combine_dicts(*dicts):\n",
    "    new_dictionary = {}\n",
    "    for dict in dicts:\n",
    "        new_dictionary.update(dict)\n",
    "        \n",
    "    return new_dictionary"
   ]
  },
  {
   "cell_type": "code",
   "execution_count": 6,
   "id": "elementary-albania",
   "metadata": {},
   "outputs": [
    {
     "data": {
      "text/plain": [
       "{1: 10, 2: 20, 3: 30, 4: 40, 5: 50, 6: 60}"
      ]
     },
     "execution_count": 6,
     "metadata": {},
     "output_type": "execute_result"
    }
   ],
   "source": [
    "combine_dicts({1:10, 2:20}, {3:30, 4:40}, {5:50,6:60})"
   ]
  },
  {
   "cell_type": "markdown",
   "id": "operating-wholesale",
   "metadata": {},
   "source": [
    "Task 4. A function that checks whether a key is included in the dictionary."
   ]
  },
  {
   "cell_type": "code",
   "execution_count": 7,
   "id": "sunrise-pound",
   "metadata": {},
   "outputs": [],
   "source": [
    "def check_dict_key(dictionary, key_value):\n",
    "    dict_keys = list(dictionary.keys())\n",
    "    return key_value in dict_keys"
   ]
  },
  {
   "cell_type": "code",
   "execution_count": 8,
   "id": "declared-gentleman",
   "metadata": {},
   "outputs": [
    {
     "data": {
      "text/plain": [
       "True"
      ]
     },
     "execution_count": 8,
     "metadata": {},
     "output_type": "execute_result"
    }
   ],
   "source": [
    "check_dict_key({1:'cat', 2:'dog', 3:'fish'}, 2)"
   ]
  },
  {
   "cell_type": "markdown",
   "id": "adopted-tanzania",
   "metadata": {},
   "source": [
    "Task 5. A function that iterates through a dictionary using __for loops__."
   ]
  },
  {
   "cell_type": "code",
   "execution_count": 9,
   "id": "abandoned-accreditation",
   "metadata": {},
   "outputs": [],
   "source": [
    "def dict_iteration(dictionary):\n",
    "    for k, v in dictionary.items():\n",
    "        print(k, ':', v)"
   ]
  },
  {
   "cell_type": "code",
   "execution_count": 10,
   "id": "stuffed-drink",
   "metadata": {},
   "outputs": [
    {
     "name": "stdout",
     "output_type": "stream",
     "text": [
      "1 : cat\n",
      "2 : dog\n",
      "3 : fish\n"
     ]
    }
   ],
   "source": [
    "dict_iteration({1:'cat', 2:'dog', 3:'fish'})"
   ]
  },
  {
   "cell_type": "markdown",
   "id": "collected-compensation",
   "metadata": {},
   "source": [
    "Task 6. A function that generates and outputs a dictionary consisting of numbers from 1 to n in the form (x, x * x)."
   ]
  },
  {
   "cell_type": "code",
   "execution_count": 11,
   "id": "social-withdrawal",
   "metadata": {},
   "outputs": [],
   "source": [
    "def dict_generator(n: int):\n",
    "    result_dict = {x: x*x for x in range(1, n+1)}\n",
    "    return result_dict"
   ]
  },
  {
   "cell_type": "code",
   "execution_count": 12,
   "id": "lasting-glass",
   "metadata": {},
   "outputs": [
    {
     "data": {
      "text/plain": [
       "{1: 1, 2: 4, 3: 9, 4: 16, 5: 25}"
      ]
     },
     "execution_count": 12,
     "metadata": {},
     "output_type": "execute_result"
    }
   ],
   "source": [
    "dict_generator(5)"
   ]
  },
  {
   "cell_type": "markdown",
   "id": "novel-affairs",
   "metadata": {},
   "source": [
    "Task 7. A function that generates a dictionary in which keys are numbers from 1 to 15, and the values are the squares of the keys."
   ]
  },
  {
   "cell_type": "code",
   "execution_count": 13,
   "id": "talented-backing",
   "metadata": {},
   "outputs": [],
   "source": [
    "def dict_generator2(n=15):\n",
    "    result_dict = {x: x**2 for x in range(1, n+1)}\n",
    "    return result_dict"
   ]
  },
  {
   "cell_type": "code",
   "execution_count": 14,
   "id": "given-boring",
   "metadata": {},
   "outputs": [
    {
     "data": {
      "text/plain": [
       "{1: 1,\n",
       " 2: 4,\n",
       " 3: 9,\n",
       " 4: 16,\n",
       " 5: 25,\n",
       " 6: 36,\n",
       " 7: 49,\n",
       " 8: 64,\n",
       " 9: 81,\n",
       " 10: 100,\n",
       " 11: 121,\n",
       " 12: 144,\n",
       " 13: 169,\n",
       " 14: 196,\n",
       " 15: 225}"
      ]
     },
     "execution_count": 14,
     "metadata": {},
     "output_type": "execute_result"
    }
   ],
   "source": [
    "dict_generator2()"
   ]
  },
  {
   "cell_type": "markdown",
   "id": "nominated-excess",
   "metadata": {},
   "source": [
    "Task 8. A function that creates any set."
   ]
  },
  {
   "cell_type": "code",
   "execution_count": 15,
   "id": "conscious-closer",
   "metadata": {},
   "outputs": [],
   "source": [
    "def create_set(*args):\n",
    "    new_set = {x for x in args}\n",
    "    return new_set"
   ]
  },
  {
   "cell_type": "code",
   "execution_count": 16,
   "id": "attached-intersection",
   "metadata": {},
   "outputs": [
    {
     "data": {
      "text/plain": [
       "{1, 2, 7, 'cat', 'dog'}"
      ]
     },
     "execution_count": 16,
     "metadata": {},
     "output_type": "execute_result"
    }
   ],
   "source": [
    "create_set(1, 2, 'cat', 'dog', 7)"
   ]
  },
  {
   "cell_type": "markdown",
   "id": "romance-hierarchy",
   "metadata": {},
   "source": [
    "Task 9. A function that iterates through a set."
   ]
  },
  {
   "cell_type": "code",
   "execution_count": 17,
   "id": "fuzzy-pearl",
   "metadata": {},
   "outputs": [],
   "source": [
    "def set_iteration(set_):\n",
    "    for item in set_:\n",
    "        print(item)"
   ]
  },
  {
   "cell_type": "code",
   "execution_count": 18,
   "id": "random-france",
   "metadata": {},
   "outputs": [
    {
     "name": "stdout",
     "output_type": "stream",
     "text": [
      "1\n",
      "2\n",
      "dog\n",
      "7\n",
      "cat\n"
     ]
    }
   ],
   "source": [
    "set_iteration({1, 2, 'cat', 'dog', 7})"
   ]
  },
  {
   "cell_type": "markdown",
   "id": "focal-football",
   "metadata": {},
   "source": [
    "Task 10. A function that adds value to a set."
   ]
  },
  {
   "cell_type": "code",
   "execution_count": 19,
   "id": "choice-poster",
   "metadata": {},
   "outputs": [],
   "source": [
    "def set_add_value(set_, value):\n",
    "    set_.add(value)\n",
    "    return set_"
   ]
  },
  {
   "cell_type": "code",
   "execution_count": 20,
   "id": "advisory-proposition",
   "metadata": {},
   "outputs": [
    {
     "data": {
      "text/plain": [
       "{1, 10, 2, 7, 'cat', 'dog'}"
      ]
     },
     "execution_count": 20,
     "metadata": {},
     "output_type": "execute_result"
    }
   ],
   "source": [
    "set_add_value({1, 2, 'cat', 'dog', 7}, 10)"
   ]
  },
  {
   "cell_type": "markdown",
   "id": "southern-union",
   "metadata": {},
   "source": [
    "Task 11. A function that removes an element from a set."
   ]
  },
  {
   "cell_type": "code",
   "execution_count": 21,
   "id": "sonic-marketing",
   "metadata": {},
   "outputs": [],
   "source": [
    "def set_remove_value(set_, value):\n",
    "    set_.remove(value)\n",
    "    return set_"
   ]
  },
  {
   "cell_type": "code",
   "execution_count": 22,
   "id": "numerous-revolution",
   "metadata": {},
   "outputs": [
    {
     "data": {
      "text/plain": [
       "{1, 2, 'cat', 'dog'}"
      ]
     },
     "execution_count": 22,
     "metadata": {},
     "output_type": "execute_result"
    }
   ],
   "source": [
    "set_remove_value({1, 2, 'cat', 'dog', 7}, 7)"
   ]
  },
  {
   "cell_type": "markdown",
   "id": "raising-remains",
   "metadata": {},
   "source": [
    "Task 12. A function that deletes an element if it is in set."
   ]
  },
  {
   "cell_type": "code",
   "execution_count": 23,
   "id": "agricultural-bench",
   "metadata": {},
   "outputs": [],
   "source": [
    "def set_remove_existing_value(set_, value):\n",
    "    if value in set_:\n",
    "        set_.remove(value)\n",
    "    return set_"
   ]
  },
  {
   "cell_type": "code",
   "execution_count": 24,
   "id": "viral-essay",
   "metadata": {},
   "outputs": [
    {
     "data": {
      "text/plain": [
       "{1, 2, 7, 'dog'}"
      ]
     },
     "execution_count": 24,
     "metadata": {},
     "output_type": "execute_result"
    }
   ],
   "source": [
    "set_remove_existing_value({1, 2, 'cat', 'dog', 7}, 'cat')"
   ]
  },
  {
   "cell_type": "markdown",
   "id": "fundamental-opinion",
   "metadata": {},
   "source": [
    "Task 13. A function that uses the intersection method for sets."
   ]
  },
  {
   "cell_type": "code",
   "execution_count": 25,
   "id": "advised-guyana",
   "metadata": {},
   "outputs": [],
   "source": [
    "def set_intersection(set_1, set_2):\n",
    "    new_set = set_1.intersection(set_2)\n",
    "    return new_set"
   ]
  },
  {
   "cell_type": "code",
   "execution_count": 26,
   "id": "mighty-distribution",
   "metadata": {},
   "outputs": [
    {
     "data": {
      "text/plain": [
       "{2, 'cat'}"
      ]
     },
     "execution_count": 26,
     "metadata": {},
     "output_type": "execute_result"
    }
   ],
   "source": [
    "set_intersection({1, 2, 'cat', 'dog', 7}, {8, 2, 10, 'cat'})"
   ]
  },
  {
   "cell_type": "markdown",
   "id": "north-closure",
   "metadata": {},
   "source": [
    "Task 14. A function that finds the sum of all list items."
   ]
  },
  {
   "cell_type": "code",
   "execution_count": 27,
   "id": "ahead-record",
   "metadata": {},
   "outputs": [],
   "source": [
    "def list_sum(list_):\n",
    "    s = sum(list_)\n",
    "    return s"
   ]
  },
  {
   "cell_type": "code",
   "execution_count": 28,
   "id": "sufficient-dealer",
   "metadata": {},
   "outputs": [
    {
     "data": {
      "text/plain": [
       "17"
      ]
     },
     "execution_count": 28,
     "metadata": {},
     "output_type": "execute_result"
    }
   ],
   "source": [
    "list_sum([1, 3, 5, 8])"
   ]
  },
  {
   "cell_type": "markdown",
   "id": "continuing-smell",
   "metadata": {},
   "source": [
    "Task 15. A function that multiplies all list items."
   ]
  },
  {
   "cell_type": "code",
   "execution_count": 29,
   "id": "warming-length",
   "metadata": {},
   "outputs": [],
   "source": [
    "def multiply_list(list_):\n",
    "    result = 1\n",
    "    for item in list_:\n",
    "         result *= item \n",
    "    return result"
   ]
  },
  {
   "cell_type": "code",
   "execution_count": 30,
   "id": "blond-atlas",
   "metadata": {},
   "outputs": [
    {
     "data": {
      "text/plain": [
       "30"
      ]
     },
     "execution_count": 30,
     "metadata": {},
     "output_type": "execute_result"
    }
   ],
   "source": [
    "multiply_list([1, 2, 3, 5])"
   ]
  },
  {
   "cell_type": "markdown",
   "id": "parliamentary-parker",
   "metadata": {},
   "source": [
    "Task 16. A function that displays the largest and smallest values in the list."
   ]
  },
  {
   "cell_type": "code",
   "execution_count": 31,
   "id": "leading-canadian",
   "metadata": {},
   "outputs": [],
   "source": [
    "def display_values(list_):\n",
    "    print('Max value:', max(list_), \n",
    "          '\\nMin value:', min(list_))"
   ]
  },
  {
   "cell_type": "code",
   "execution_count": 32,
   "id": "exceptional-isolation",
   "metadata": {},
   "outputs": [
    {
     "name": "stdout",
     "output_type": "stream",
     "text": [
      "Max value: 10 \n",
      "Min value: 1\n"
     ]
    }
   ],
   "source": [
    "display_values([1, 5, 3, 4, 9, 10])"
   ]
  },
  {
   "cell_type": "markdown",
   "id": "proof-scale",
   "metadata": {},
   "source": [
    "Task 17. A function to get a list sorted in ascending order by the last element in each tuple from the specified list of non-empty tuples."
   ]
  },
  {
   "cell_type": "code",
   "execution_count": 33,
   "id": "infinite-origin",
   "metadata": {},
   "outputs": [],
   "source": [
    "def sort_list_of_sets(inp_list):\n",
    "    inp_list.sort(key=lambda tup: tup[1])\n",
    "    return inp_list"
   ]
  },
  {
   "cell_type": "code",
   "execution_count": 34,
   "id": "vocal-framing",
   "metadata": {},
   "outputs": [
    {
     "data": {
      "text/plain": [
       "[(2, 1), (1, 2), (2, 3), (4, 4), (2, 5)]"
      ]
     },
     "execution_count": 34,
     "metadata": {},
     "output_type": "execute_result"
    }
   ],
   "source": [
    "sort_list_of_sets([(2, 5), (1, 2), (4, 4), (2, 3), (2, 1)])"
   ]
  },
  {
   "cell_type": "markdown",
   "id": "changed-junior",
   "metadata": {},
   "source": [
    "Task 18. A function that removes repeating elements."
   ]
  },
  {
   "cell_type": "code",
   "execution_count": 35,
   "id": "joint-leather",
   "metadata": {},
   "outputs": [],
   "source": [
    "def delete_duplication(list_):\n",
    "    return list(set(list_))"
   ]
  },
  {
   "cell_type": "code",
   "execution_count": 36,
   "id": "czech-newsletter",
   "metadata": {},
   "outputs": [
    {
     "data": {
      "text/plain": [
       "[0, 1, 2, 3, 4, 7, 10]"
      ]
     },
     "execution_count": 36,
     "metadata": {},
     "output_type": "execute_result"
    }
   ],
   "source": [
    "delete_duplication([0, 0, 1, 2, 3, 10, 10, 3, 4, 7])"
   ]
  },
  {
   "cell_type": "markdown",
   "id": "laughing-murder",
   "metadata": {},
   "source": [
    "Task 19. A function that prints a list after deleting 0th, 4th and 5th items."
   ]
  },
  {
   "cell_type": "code",
   "execution_count": 37,
   "id": "streaming-inclusion",
   "metadata": {},
   "outputs": [],
   "source": [
    "def delete_items(list_):\n",
    "    list_.pop(0)\n",
    "    list_.pop(4-1)\n",
    "    list_.pop(5-2)\n",
    "    print(list_)"
   ]
  },
  {
   "cell_type": "code",
   "execution_count": 38,
   "id": "backed-reasoning",
   "metadata": {},
   "outputs": [
    {
     "name": "stdout",
     "output_type": "stream",
     "text": [
      "['Green', 'White', 'Black', 'Brown']\n"
     ]
    }
   ],
   "source": [
    "delete_items(['Red', 'Green', 'White', 'Black', 'Pink', 'Yellow', 'Brown'])"
   ]
  },
  {
   "cell_type": "markdown",
   "id": "prospective-carroll",
   "metadata": {},
   "source": [
    "Task 20. A function that multiplies all values in a tuple."
   ]
  },
  {
   "cell_type": "code",
   "execution_count": 39,
   "id": "magnetic-accused",
   "metadata": {},
   "outputs": [],
   "source": [
    "from functools import reduce\n",
    "import operator\n",
    "\n",
    "\n",
    "def multiply_tuple(tuple_):\n",
    "    result = reduce(operator.mul, tuple_)\n",
    "    return result"
   ]
  },
  {
   "cell_type": "code",
   "execution_count": 40,
   "id": "embedded-neighbor",
   "metadata": {},
   "outputs": [
    {
     "data": {
      "text/plain": [
       "-336"
      ]
     },
     "execution_count": 40,
     "metadata": {},
     "output_type": "execute_result"
    }
   ],
   "source": [
    "multiply_tuple((8, 2, 3, -1, 7))"
   ]
  },
  {
   "cell_type": "markdown",
   "id": "respiratory-potato",
   "metadata": {},
   "source": [
    "Task 21. A function that calculates the factorial of a number."
   ]
  },
  {
   "cell_type": "code",
   "execution_count": 41,
   "id": "dynamic-metro",
   "metadata": {},
   "outputs": [],
   "source": [
    "def my_factorial(x):\n",
    "    fact_x = 1\n",
    "    for item in range(1, x+1):\n",
    "        fact_x *= item\n",
    "    return fact_x"
   ]
  },
  {
   "cell_type": "code",
   "execution_count": 42,
   "id": "recognized-spokesman",
   "metadata": {},
   "outputs": [
    {
     "data": {
      "text/plain": [
       "120"
      ]
     },
     "execution_count": 42,
     "metadata": {},
     "output_type": "execute_result"
    }
   ],
   "source": [
    "my_factorial(5)"
   ]
  },
  {
   "cell_type": "markdown",
   "id": "classical-david",
   "metadata": {},
   "source": [
    "Task 22. A function that takes a string and counts the number of upper case letters and lower case letters."
   ]
  },
  {
   "cell_type": "code",
   "execution_count": 43,
   "id": "genetic-sarah",
   "metadata": {},
   "outputs": [],
   "source": [
    "def count_upper_lower(str_: str):\n",
    "    upper = len([l for l in str_ if l.isupper()])\n",
    "    lower = len([l for l in str_ if l.islower()])\n",
    "    print('No. of Upper case characters:', f'{upper}',\n",
    "          '\\nNo. of Lower case Characters:', f'{lower}')"
   ]
  },
  {
   "cell_type": "code",
   "execution_count": 44,
   "id": "wireless-conversion",
   "metadata": {},
   "outputs": [
    {
     "name": "stdout",
     "output_type": "stream",
     "text": [
      "No. of Upper case characters: 3 \n",
      "No. of Lower case Characters: 12\n"
     ]
    }
   ],
   "source": [
    "count_upper_lower('The quick Brow Fox')"
   ]
  },
  {
   "cell_type": "markdown",
   "id": "electoral-heating",
   "metadata": {},
   "source": [
    "Task 23. A function that prints the pattern using loops."
   ]
  },
  {
   "cell_type": "code",
   "execution_count": 45,
   "id": "included-brighton",
   "metadata": {},
   "outputs": [],
   "source": [
    "def pattern(x):\n",
    "    x_steps = 2*x\n",
    "    element = '*'\n",
    "    for i in range(1, x_steps):\n",
    "        if i <= x:\n",
    "            print(element*i)\n",
    "        else:\n",
    "            print(element*(x_steps-i))"
   ]
  },
  {
   "cell_type": "code",
   "execution_count": 46,
   "id": "mediterranean-milton",
   "metadata": {},
   "outputs": [
    {
     "name": "stdout",
     "output_type": "stream",
     "text": [
      "*\n",
      "**\n",
      "***\n",
      "****\n",
      "*****\n",
      "****\n",
      "***\n",
      "**\n",
      "*\n"
     ]
    }
   ],
   "source": [
    "pattern(5)"
   ]
  },
  {
   "cell_type": "code",
   "execution_count": null,
   "id": "neural-kuwait",
   "metadata": {},
   "outputs": [],
   "source": []
  }
 ],
 "metadata": {
  "kernelspec": {
   "display_name": "Python 3",
   "language": "python",
   "name": "python3"
  },
  "language_info": {
   "codemirror_mode": {
    "name": "ipython",
    "version": 3
   },
   "file_extension": ".py",
   "mimetype": "text/x-python",
   "name": "python",
   "nbconvert_exporter": "python",
   "pygments_lexer": "ipython3",
   "version": "3.6.9"
  }
 },
 "nbformat": 4,
 "nbformat_minor": 5
}
