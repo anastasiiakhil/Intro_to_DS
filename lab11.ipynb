{
 "cells": [
  {
   "cell_type": "markdown",
   "id": "f19ab9e3",
   "metadata": {
    "id": "f19ab9e3"
   },
   "source": [
    "# Description"
   ]
  },
  {
   "cell_type": "markdown",
   "id": "78a8a5ec",
   "metadata": {
    "id": "78a8a5ec"
   },
   "source": [
    "In this lab, we'll learn how to use the three main PyTorch building blocks to build neural networks: Module, Sequences, and ModuleList."
   ]
  },
  {
   "cell_type": "code",
   "execution_count": 1,
   "id": "5943e911",
   "metadata": {
    "id": "5943e911"
   },
   "outputs": [],
   "source": [
    "import numpy as np\n",
    "import matplotlib.pyplot as plt\n",
    "\n",
    "import torch\n",
    "import torch.nn as nn\n",
    "import torch.nn.functional as F\n",
    "import torchvision.datasets\n",
    "\n",
    "import warnings\n",
    "warnings.filterwarnings(\"ignore\")"
   ]
  },
  {
   "cell_type": "markdown",
   "id": "e362feb2",
   "metadata": {
    "id": "e362feb2"
   },
   "source": [
    "# Tasks"
   ]
  },
  {
   "cell_type": "markdown",
   "id": "c9743bab",
   "metadata": {
    "id": "c9743bab"
   },
   "source": [
    "Task 1. Create a classic CNN classifier (nn.Module)."
   ]
  },
  {
   "cell_type": "code",
   "execution_count": 2,
   "id": "567039fd",
   "metadata": {
    "id": "567039fd"
   },
   "outputs": [],
   "source": [
    "class MyCNNClassifier(nn.Module):\n",
    "    \n",
    "    def __init__(self, in_c, n_classes):\n",
    "        super().__init__()\n",
    "        \n",
    "        self.conv1 = nn.Conv2d(in_c, 32, kernel_size=3, stride=1, padding=1)\n",
    "        self.bn1 = nn.BatchNorm2d(32)\n",
    "        \n",
    "        self.conv2 = nn.Conv2d(32, 64, kernel_size=3, stride=1, padding=1)\n",
    "        self.bn2 = nn.BatchNorm2d(32)\n",
    "\n",
    "        self.fc1 = nn.Linear(32*28*28, 1024)\n",
    "        self.fc2 = nn.Linear(1024, n_classes)\n",
    "    \n",
    "    def forward(self, x):\n",
    "        x = self.conv1(x)\n",
    "        x = self.bn1(x)\n",
    "        x = F.relu(x)\n",
    "\n",
    "        x = self.conv2(x)\n",
    "        x = self.bn2(x)\n",
    "        x = F.relu(x)\n",
    "        \n",
    "        x = x.view(x.size(0), -1)\n",
    "        \n",
    "        x = self.fc1(x)\n",
    "        x = F.sigmoid(x)\n",
    "        \n",
    "        x = self.fc2(x)\n",
    "        \n",
    "        return x"
   ]
  },
  {
   "cell_type": "code",
   "execution_count": 3,
   "id": "5e4c9149",
   "metadata": {
    "colab": {
     "base_uri": "https://localhost:8080/"
    },
    "id": "5e4c9149",
    "outputId": "2a924d21-bd2e-4968-be37-0e0f4c376dd0"
   },
   "outputs": [
    {
     "data": {
      "text/plain": [
       "MyCNNClassifier(\n",
       "  (conv1): Conv2d(1, 32, kernel_size=(3, 3), stride=(1, 1), padding=(1, 1))\n",
       "  (bn1): BatchNorm2d(32, eps=1e-05, momentum=0.1, affine=True, track_running_stats=True)\n",
       "  (conv2): Conv2d(32, 64, kernel_size=(3, 3), stride=(1, 1), padding=(1, 1))\n",
       "  (bn2): BatchNorm2d(32, eps=1e-05, momentum=0.1, affine=True, track_running_stats=True)\n",
       "  (fc1): Linear(in_features=25088, out_features=1024, bias=True)\n",
       "  (fc2): Linear(in_features=1024, out_features=10, bias=True)\n",
       ")"
      ]
     },
     "execution_count": 3,
     "metadata": {
      "tags": []
     },
     "output_type": "execute_result"
    }
   ],
   "source": [
    "model = MyCNNClassifier(1, 10)\n",
    "model"
   ]
  },
  {
   "cell_type": "markdown",
   "id": "c07c61bb",
   "metadata": {
    "id": "c07c61bb"
   },
   "source": [
    "Task 2. Create a classic CNN classifier (nn.Sequences)."
   ]
  },
  {
   "cell_type": "code",
   "execution_count": 4,
   "id": "fb40b115",
   "metadata": {
    "id": "fb40b115"
   },
   "outputs": [],
   "source": [
    "class MyCNNClassifier(nn.Module):\n",
    "    \n",
    "    def __init__(self, in_c, n_classes):\n",
    "        super().__init__()\n",
    "        \n",
    "        self.conv_block1 = nn.Sequential(nn.Conv2d(in_c, 32, kernel_size=3, stride=1, padding=1),\n",
    "                                         nn.BatchNorm2d(32),\n",
    "                                         nn.ReLU())\n",
    "        \n",
    "        self.conv_block2 = nn.Sequential(nn.Conv2d(32, 64, kernel_size=3, stride=1, padding=1),\n",
    "                                         nn.BatchNorm2d(64),\n",
    "                                         nn.ReLU())\n",
    "        \n",
    "        self.decoder = nn.Sequential(nn.Linear(32*28*28, 1024),\n",
    "                                     nn.Sigmoid(),\n",
    "                                     nn.Linear(1024, n_classes))\n",
    "        \n",
    "    def forward(self, x):\n",
    "        x = self.conv_block1(x)\n",
    "        x = self.conv_block2(x)\n",
    "        \n",
    "        x = x.view(x.size(0), -1)\n",
    "        \n",
    "        x = self.decoder(x)\n",
    "        \n",
    "        return x"
   ]
  },
  {
   "cell_type": "code",
   "execution_count": 5,
   "id": "184e69ca",
   "metadata": {
    "colab": {
     "base_uri": "https://localhost:8080/"
    },
    "id": "184e69ca",
    "outputId": "5121a514-fc03-48ec-b43c-d1ae93f69aef"
   },
   "outputs": [
    {
     "data": {
      "text/plain": [
       "MyCNNClassifier(\n",
       "  (conv_block1): Sequential(\n",
       "    (0): Conv2d(1, 32, kernel_size=(3, 3), stride=(1, 1), padding=(1, 1))\n",
       "    (1): BatchNorm2d(32, eps=1e-05, momentum=0.1, affine=True, track_running_stats=True)\n",
       "    (2): ReLU()\n",
       "  )\n",
       "  (conv_block2): Sequential(\n",
       "    (0): Conv2d(32, 64, kernel_size=(3, 3), stride=(1, 1), padding=(1, 1))\n",
       "    (1): BatchNorm2d(64, eps=1e-05, momentum=0.1, affine=True, track_running_stats=True)\n",
       "    (2): ReLU()\n",
       "  )\n",
       "  (decoder): Sequential(\n",
       "    (0): Linear(in_features=25088, out_features=1024, bias=True)\n",
       "    (1): Sigmoid()\n",
       "    (2): Linear(in_features=1024, out_features=10, bias=True)\n",
       "  )\n",
       ")"
      ]
     },
     "execution_count": 5,
     "metadata": {
      "tags": []
     },
     "output_type": "execute_result"
    }
   ],
   "source": [
    "model = MyCNNClassifier(1, 10)\n",
    "model"
   ]
  },
  {
   "cell_type": "markdown",
   "id": "6495ce14",
   "metadata": {
    "id": "6495ce14"
   },
   "source": [
    "Task 3. Create a function that overwrites nn.Sequences to simplify the code (nn.Sequences)."
   ]
  },
  {
   "cell_type": "code",
   "execution_count": 6,
   "id": "7612c70c",
   "metadata": {
    "id": "7612c70c"
   },
   "outputs": [],
   "source": [
    "def conv_block(in_f, out_f, *args, **kwargs):\n",
    "    return nn.Sequential(nn.Conv2d(in_f, out_f, *args, **kwargs),\n",
    "                         nn.BatchNorm2d(out_f),\n",
    "                         nn.ReLU())"
   ]
  },
  {
   "cell_type": "code",
   "execution_count": 7,
   "id": "200a25f4",
   "metadata": {
    "id": "200a25f4"
   },
   "outputs": [],
   "source": [
    "class MyCNNClassifier(nn.Module):\n",
    "    \n",
    "    def __init__(self, in_c, n_classes):\n",
    "        super().__init__()\n",
    "        \n",
    "        self.conv_block1 = conv_block(in_c, 32, kernel_size=3, padding=1)\n",
    "        self.conv_block2 = conv_block(32, 64, kernel_size=3, padding=1)\n",
    "        \n",
    "        self.decoder = nn.Sequential(nn.Linear(32*28*28, 1024),\n",
    "                                     nn.Sigmoid(),\n",
    "                                     nn.Linear(1024, n_classes))\n",
    "        \n",
    "        def forward(self, x):\n",
    "            x = self.conv_block1(x)\n",
    "            x = self.conv_block2(x)\n",
    "            x = x.view(x.size(0), -1)\n",
    "            x = self.decoder(x)\n",
    "            return x"
   ]
  },
  {
   "cell_type": "code",
   "execution_count": 8,
   "id": "41a3aafe",
   "metadata": {
    "colab": {
     "base_uri": "https://localhost:8080/"
    },
    "id": "41a3aafe",
    "outputId": "e66fa357-d106-4956-fd3b-70af958ff60a"
   },
   "outputs": [
    {
     "data": {
      "text/plain": [
       "MyCNNClassifier(\n",
       "  (conv_block1): Sequential(\n",
       "    (0): Conv2d(1, 32, kernel_size=(3, 3), stride=(1, 1), padding=(1, 1))\n",
       "    (1): BatchNorm2d(32, eps=1e-05, momentum=0.1, affine=True, track_running_stats=True)\n",
       "    (2): ReLU()\n",
       "  )\n",
       "  (conv_block2): Sequential(\n",
       "    (0): Conv2d(32, 64, kernel_size=(3, 3), stride=(1, 1), padding=(1, 1))\n",
       "    (1): BatchNorm2d(64, eps=1e-05, momentum=0.1, affine=True, track_running_stats=True)\n",
       "    (2): ReLU()\n",
       "  )\n",
       "  (decoder): Sequential(\n",
       "    (0): Linear(in_features=25088, out_features=1024, bias=True)\n",
       "    (1): Sigmoid()\n",
       "    (2): Linear(in_features=1024, out_features=10, bias=True)\n",
       "  )\n",
       ")"
      ]
     },
     "execution_count": 8,
     "metadata": {
      "tags": []
     },
     "output_type": "execute_result"
    }
   ],
   "source": [
    "model = MyCNNClassifier(1, 10)\n",
    "model"
   ]
  },
  {
   "cell_type": "markdown",
   "id": "c2be4d95",
   "metadata": {
    "id": "c2be4d95"
   },
   "source": [
    "Task 4. Combine convolutional blocks with nn.Sequences."
   ]
  },
  {
   "cell_type": "code",
   "execution_count": 9,
   "id": "2f768830",
   "metadata": {
    "id": "2f768830"
   },
   "outputs": [],
   "source": [
    "class MyCNNClassifier(nn.Module):\n",
    "    \n",
    "    def __init__(self, in_c, n_classes):\n",
    "        super().__init__()\n",
    "        \n",
    "        self.encoder = nn.Sequential(conv_block(in_c, 32, kernel_size=3, padding=1),\n",
    "                                     conv_block(32, 64, kernel_size=3, padding=1))\n",
    "        \n",
    "        self.decoder = nn.Sequential(nn.Linear(32 * 28 * 28, 1024),\n",
    "                                     nn.Sigmoid(),\n",
    "                                     nn.Linear(1024, n_classes))\n",
    "\n",
    "    def forward(self, x):\n",
    "        x = self.encoder(x)\n",
    "        x = x.view(x.size(0), -1)\n",
    "        x = self.decoder(x)\n",
    "        \n",
    "        return x"
   ]
  },
  {
   "cell_type": "code",
   "execution_count": 10,
   "id": "abb7d577",
   "metadata": {
    "colab": {
     "base_uri": "https://localhost:8080/"
    },
    "id": "abb7d577",
    "outputId": "2542e6d0-d5d1-4454-f5b9-1f64c37d3fa3"
   },
   "outputs": [
    {
     "data": {
      "text/plain": [
       "MyCNNClassifier(\n",
       "  (encoder): Sequential(\n",
       "    (0): Sequential(\n",
       "      (0): Conv2d(1, 32, kernel_size=(3, 3), stride=(1, 1), padding=(1, 1))\n",
       "      (1): BatchNorm2d(32, eps=1e-05, momentum=0.1, affine=True, track_running_stats=True)\n",
       "      (2): ReLU()\n",
       "    )\n",
       "    (1): Sequential(\n",
       "      (0): Conv2d(32, 64, kernel_size=(3, 3), stride=(1, 1), padding=(1, 1))\n",
       "      (1): BatchNorm2d(64, eps=1e-05, momentum=0.1, affine=True, track_running_stats=True)\n",
       "      (2): ReLU()\n",
       "    )\n",
       "  )\n",
       "  (decoder): Sequential(\n",
       "    (0): Linear(in_features=25088, out_features=1024, bias=True)\n",
       "    (1): Sigmoid()\n",
       "    (2): Linear(in_features=1024, out_features=10, bias=True)\n",
       "  )\n",
       ")"
      ]
     },
     "execution_count": 10,
     "metadata": {
      "tags": []
     },
     "output_type": "execute_result"
    }
   ],
   "source": [
    "model = MyCNNClassifier(1, 10)\n",
    "model"
   ]
  },
  {
   "cell_type": "markdown",
   "id": "a374a118",
   "metadata": {
    "id": "a374a118"
   },
   "source": [
    "Task 5. Dynamic Sequential: create multiple layers at once (nn.Sequential)."
   ]
  },
  {
   "cell_type": "code",
   "execution_count": 11,
   "id": "36777213",
   "metadata": {
    "id": "36777213"
   },
   "outputs": [],
   "source": [
    "class MyCNNClassifier(nn.Module):\n",
    "    \n",
    "    def __init__(self, in_c, n_classes):\n",
    "        super().__init__()\n",
    "        \n",
    "        self.enc_sizes = [in_c, 32, 64]\n",
    "        conv_blocks = [conv_block(in_f, out_f, kernel_size=3, padding=1)\n",
    "                       for in_f, out_f in zip(self.enc_sizes, self.enc_sizes[1:])]\n",
    "\n",
    "        self.encoder = nn.Sequential(*conv_blocks)\n",
    "        self.decoder = nn.Sequential(nn.Linear(32 * 28 * 28, 1024),\n",
    "                                     nn.Sigmoid(),\n",
    "                                     nn.Linear(1024, n_classes))\n",
    "        \n",
    "        def forward(self, x):\n",
    "            x = self.encoder(x)\n",
    "            x = x.view(x.size(0), -1)\n",
    "            x = self.decoder(x)\n",
    "            \n",
    "            return x"
   ]
  },
  {
   "cell_type": "code",
   "execution_count": 12,
   "id": "5bd1b77c",
   "metadata": {
    "colab": {
     "base_uri": "https://localhost:8080/"
    },
    "id": "5bd1b77c",
    "outputId": "c5041f12-ed79-45ba-8e73-2c1d36b1eecf"
   },
   "outputs": [
    {
     "data": {
      "text/plain": [
       "MyCNNClassifier(\n",
       "  (encoder): Sequential(\n",
       "    (0): Sequential(\n",
       "      (0): Conv2d(1, 32, kernel_size=(3, 3), stride=(1, 1), padding=(1, 1))\n",
       "      (1): BatchNorm2d(32, eps=1e-05, momentum=0.1, affine=True, track_running_stats=True)\n",
       "      (2): ReLU()\n",
       "    )\n",
       "    (1): Sequential(\n",
       "      (0): Conv2d(32, 64, kernel_size=(3, 3), stride=(1, 1), padding=(1, 1))\n",
       "      (1): BatchNorm2d(64, eps=1e-05, momentum=0.1, affine=True, track_running_stats=True)\n",
       "      (2): ReLU()\n",
       "    )\n",
       "  )\n",
       "  (decoder): Sequential(\n",
       "    (0): Linear(in_features=25088, out_features=1024, bias=True)\n",
       "    (1): Sigmoid()\n",
       "    (2): Linear(in_features=1024, out_features=10, bias=True)\n",
       "  )\n",
       ")"
      ]
     },
     "execution_count": 12,
     "metadata": {
      "tags": []
     },
     "output_type": "execute_result"
    }
   ],
   "source": [
    "model = MyCNNClassifier(1, 10)\n",
    "model"
   ]
  },
  {
   "cell_type": "markdown",
   "id": "84357611",
   "metadata": {
    "id": "84357611"
   },
   "source": [
    "Task 6. Dynamize the decoder part. "
   ]
  },
  {
   "cell_type": "code",
   "execution_count": 13,
   "id": "4f1a3c59",
   "metadata": {
    "id": "4f1a3c59"
   },
   "outputs": [],
   "source": [
    "def dec_block(in_f, out_f):\n",
    "    return nn.Sequential(nn.Linear(in_f, out_f), nn.Sigmoid())"
   ]
  },
  {
   "cell_type": "code",
   "execution_count": 14,
   "id": "1b91e29f",
   "metadata": {
    "id": "1b91e29f"
   },
   "outputs": [],
   "source": [
    "class MyCNNClassifier(nn.Module):\n",
    "    \n",
    "    def __init__(self, in_c, enc_sizes, dec_sizes, n_classes):\n",
    "        super().__init__()\n",
    "        \n",
    "        self.enc_sizes = [in_c, *enc_sizes]\n",
    "        self.dec_sizes = [32 * 28 * 28, *dec_sizes]\n",
    "        \n",
    "        conv_blokcs = [conv_block(in_f, out_f, kernel_size=3, padding=1) \n",
    "                       for in_f, out_f in zip(self.enc_sizes, self.enc_sizes[1:])]\n",
    "        self.encoder = nn.Sequential(*conv_blokcs) \n",
    "        \n",
    "        dec_blocks = [dec_block(in_f, out_f)\n",
    "                      for in_f, out_f in zip(self.dec_sizes, self.dec_sizes[1:])]\n",
    "        self.decoder = nn.Sequential(*dec_blocks)\n",
    "        \n",
    "        self.last = nn.Linear(self.dec_sizes[-1], n_classes)\n",
    "        \n",
    "    def forward(self, x):\n",
    "        x = self.encoder(x)\n",
    "        x = x.view(x.size(0), -1)\n",
    "        x = self.decoder(x)\n",
    "     \n",
    "        return x"
   ]
  },
  {
   "cell_type": "code",
   "execution_count": 15,
   "id": "fbb339db",
   "metadata": {
    "colab": {
     "base_uri": "https://localhost:8080/"
    },
    "id": "fbb339db",
    "outputId": "1718a57c-d83e-450e-c505-7c7d6a4078e1"
   },
   "outputs": [
    {
     "data": {
      "text/plain": [
       "MyCNNClassifier(\n",
       "  (encoder): Sequential(\n",
       "    (0): Sequential(\n",
       "      (0): Conv2d(1, 32, kernel_size=(3, 3), stride=(1, 1), padding=(1, 1))\n",
       "      (1): BatchNorm2d(32, eps=1e-05, momentum=0.1, affine=True, track_running_stats=True)\n",
       "      (2): ReLU()\n",
       "    )\n",
       "    (1): Sequential(\n",
       "      (0): Conv2d(32, 64, kernel_size=(3, 3), stride=(1, 1), padding=(1, 1))\n",
       "      (1): BatchNorm2d(64, eps=1e-05, momentum=0.1, affine=True, track_running_stats=True)\n",
       "      (2): ReLU()\n",
       "    )\n",
       "  )\n",
       "  (decoder): Sequential(\n",
       "    (0): Sequential(\n",
       "      (0): Linear(in_features=25088, out_features=1024, bias=True)\n",
       "      (1): Sigmoid()\n",
       "    )\n",
       "    (1): Sequential(\n",
       "      (0): Linear(in_features=1024, out_features=512, bias=True)\n",
       "      (1): Sigmoid()\n",
       "    )\n",
       "  )\n",
       "  (last): Linear(in_features=512, out_features=10, bias=True)\n",
       ")"
      ]
     },
     "execution_count": 15,
     "metadata": {
      "tags": []
     },
     "output_type": "execute_result"
    }
   ],
   "source": [
    "model = MyCNNClassifier(1, [32,64], [1024, 512], 10)\n",
    "model"
   ]
  },
  {
   "cell_type": "markdown",
   "id": "b44c96d8",
   "metadata": {
    "id": "b44c96d8"
   },
   "source": [
    "Task 7. Break the model in two (Encoder + Decoder)."
   ]
  },
  {
   "cell_type": "code",
   "execution_count": 16,
   "id": "2326c3aa",
   "metadata": {
    "id": "2326c3aa"
   },
   "outputs": [],
   "source": [
    "class MyEncoder(nn.Module):\n",
    "    \n",
    "    def __init__(self, enc_sizes):\n",
    "        super().__init__()\n",
    "        self.conv_blokcs = nn.Sequential(*[conv_block(in_f, out_f, kernel_size=3, padding=1)\n",
    "                                           for in_f, out_f in zip(enc_sizes, enc_sizes[1:])])\n",
    "    \n",
    "    def forward(self, x):\n",
    "        return self.conv_blokcs(x)"
   ]
  },
  {
   "cell_type": "code",
   "execution_count": 17,
   "id": "1b00c262",
   "metadata": {
    "id": "1b00c262"
   },
   "outputs": [],
   "source": [
    "class MyDecoder(nn.Module):\n",
    "    \n",
    "    def __init__(self, dec_sizes, n_classes):\n",
    "        super().__init__()\n",
    "        self.dec_blocks = nn.Sequential(*[dec_block(in_f, out_f)\n",
    "                                          for in_f, out_f in zip(dec_sizes, dec_sizes[1:])])\n",
    "        \n",
    "        self.last = nn.Linear(dec_sizes[-1], n_classes)\n",
    "    \n",
    "    def forward(self, x):\n",
    "        return self.dec_blocks()"
   ]
  },
  {
   "cell_type": "code",
   "execution_count": 18,
   "id": "1e40bb97",
   "metadata": {
    "id": "1e40bb97"
   },
   "outputs": [],
   "source": [
    "class MyCNNClassifier(nn.Module):\n",
    "    \n",
    "    def __init__(self, in_c, enc_sizes, dec_sizes, n_classes):\n",
    "        super().__init__()\n",
    "        \n",
    "        self.enc_sizes = [in_c, *enc_sizes]\n",
    "        self.dec_sizes = [32 * 28 * 28, *dec_sizes]\n",
    "        self.encoder = MyEncoder(self.enc_sizes)\n",
    "        self.decoder = MyDecoder(dec_sizes, n_classes)\n",
    "\n",
    "    def forward(self, x):\n",
    "        x = self.encoder(x)\n",
    "        x = x.flatten(1)\n",
    "        x = self.decoder(x)\n",
    "        return x"
   ]
  },
  {
   "cell_type": "code",
   "execution_count": 19,
   "id": "77b91572",
   "metadata": {
    "colab": {
     "base_uri": "https://localhost:8080/"
    },
    "id": "77b91572",
    "outputId": "a76bacc0-79f0-458f-dd83-216b48463bdb"
   },
   "outputs": [
    {
     "data": {
      "text/plain": [
       "MyCNNClassifier(\n",
       "  (encoder): MyEncoder(\n",
       "    (conv_blokcs): Sequential(\n",
       "      (0): Sequential(\n",
       "        (0): Conv2d(1, 32, kernel_size=(3, 3), stride=(1, 1), padding=(1, 1))\n",
       "        (1): BatchNorm2d(32, eps=1e-05, momentum=0.1, affine=True, track_running_stats=True)\n",
       "        (2): ReLU()\n",
       "      )\n",
       "      (1): Sequential(\n",
       "        (0): Conv2d(32, 64, kernel_size=(3, 3), stride=(1, 1), padding=(1, 1))\n",
       "        (1): BatchNorm2d(64, eps=1e-05, momentum=0.1, affine=True, track_running_stats=True)\n",
       "        (2): ReLU()\n",
       "      )\n",
       "    )\n",
       "  )\n",
       "  (decoder): MyDecoder(\n",
       "    (dec_blocks): Sequential(\n",
       "      (0): Sequential(\n",
       "        (0): Linear(in_features=1024, out_features=512, bias=True)\n",
       "        (1): Sigmoid()\n",
       "      )\n",
       "    )\n",
       "    (last): Linear(in_features=512, out_features=10, bias=True)\n",
       "  )\n",
       ")"
      ]
     },
     "execution_count": 19,
     "metadata": {
      "tags": []
     },
     "output_type": "execute_result"
    }
   ],
   "source": [
    "model = MyCNNClassifier(1, [32,64], [1024, 512], 10)\n",
    "model"
   ]
  },
  {
   "cell_type": "markdown",
   "id": "c4b0f167",
   "metadata": {
    "id": "c4b0f167"
   },
   "source": [
    "Task 8. Create a model using ModuleList."
   ]
  },
  {
   "cell_type": "code",
   "execution_count": 20,
   "id": "0cc24cc7",
   "metadata": {
    "id": "0cc24cc7"
   },
   "outputs": [],
   "source": [
    "class MyModule(nn.Module):\n",
    "    \n",
    "    def __init__(self, sizes):\n",
    "        super().__init__()\n",
    "        \n",
    "        self.layers = nn.ModuleList([nn.Linear(in_f, out_f) for in_f, out_f in zip(sizes, sizes[1:])])\n",
    "        self.trace = []\n",
    "\n",
    "    def forward(self,x):\n",
    "        for layer in self.layers:\n",
    "            x = layer(x)\n",
    "            self.trace.append(x)\n",
    "            \n",
    "        return x"
   ]
  },
  {
   "cell_type": "code",
   "execution_count": 21,
   "id": "98896eb4",
   "metadata": {
    "colab": {
     "base_uri": "https://localhost:8080/"
    },
    "id": "98896eb4",
    "outputId": "539e9ea5-d110-4f89-f160-ce48d07c57c3"
   },
   "outputs": [
    {
     "name": "stdout",
     "output_type": "stream",
     "text": [
      "torch.Size([4, 16])\n",
      "torch.Size([4, 32])\n"
     ]
    },
    {
     "data": {
      "text/plain": [
       "[None, None]"
      ]
     },
     "execution_count": 21,
     "metadata": {
      "tags": []
     },
     "output_type": "execute_result"
    }
   ],
   "source": [
    "model = MyModule([1, 16, 32])\n",
    "model(torch.rand((4,1)))\n",
    "\n",
    "[print(trace.shape) for trace in model.trace]"
   ]
  },
  {
   "cell_type": "markdown",
   "id": "c03d0f0f",
   "metadata": {
    "id": "c03d0f0f"
   },
   "source": [
    "Task 9. Create a model using ModuleDict."
   ]
  },
  {
   "cell_type": "code",
   "execution_count": 22,
   "id": "2c31506a",
   "metadata": {
    "id": "2c31506a"
   },
   "outputs": [],
   "source": [
    "def conv_block(in_f, out_f, activation='relu', *args, **kwargs):\n",
    "    activations = nn.ModuleDict([['lrelu', nn.LeakyReLU()], ['relu', nn.ReLU()]])\n",
    "    \n",
    "    return nn.Sequential(nn.Conv2d(in_f, out_f, *args, **kwargs),\n",
    "                         nn.BatchNorm2d(out_f),\n",
    "                         activations[activation])"
   ]
  },
  {
   "cell_type": "code",
   "execution_count": 23,
   "id": "99a481e4",
   "metadata": {
    "colab": {
     "base_uri": "https://localhost:8080/"
    },
    "id": "99a481e4",
    "outputId": "d851aab0-6377-47c1-f06e-4c1ecfb30f08"
   },
   "outputs": [
    {
     "name": "stdout",
     "output_type": "stream",
     "text": [
      "Sequential(\n",
      "  (0): Conv2d(1, 32, kernel_size=(3, 3), stride=(1, 1), padding=(1, 1))\n",
      "  (1): BatchNorm2d(32, eps=1e-05, momentum=0.1, affine=True, track_running_stats=True)\n",
      "  (2): LeakyReLU(negative_slope=0.01)\n",
      ")\n",
      "Sequential(\n",
      "  (0): Conv2d(1, 32, kernel_size=(3, 3), stride=(1, 1), padding=(1, 1))\n",
      "  (1): BatchNorm2d(32, eps=1e-05, momentum=0.1, affine=True, track_running_stats=True)\n",
      "  (2): ReLU()\n",
      ")\n"
     ]
    }
   ],
   "source": [
    "print(conv_block(1, 32,'lrelu', kernel_size=3, padding=1))\n",
    "print(conv_block(1, 32,'relu', kernel_size=3, padding=1))"
   ]
  },
  {
   "cell_type": "markdown",
   "id": "0fb6720f",
   "metadata": {
    "id": "0fb6720f"
   },
   "source": [
    "Task 10. The final implementation of the model."
   ]
  },
  {
   "cell_type": "code",
   "execution_count": 24,
   "id": "17a2108a",
   "metadata": {
    "id": "17a2108a"
   },
   "outputs": [],
   "source": [
    "def conv_block(in_f, out_f, activation='relu', *args, **kwargs):\n",
    "    activations = nn.ModuleDict([['lrelu', nn.LeakyReLU()], ['relu', nn.ReLU()]])\n",
    "    \n",
    "    return nn.Sequential(nn.Conv2d(in_f, out_f, *args, **kwargs),\n",
    "                         nn.BatchNorm2d(out_f),\n",
    "                         activations[activation])"
   ]
  },
  {
   "cell_type": "code",
   "execution_count": 25,
   "id": "d90ea5ce",
   "metadata": {
    "id": "d90ea5ce"
   },
   "outputs": [],
   "source": [
    "def dec_block(in_f, out_f):\n",
    "    return nn.Sequential(nn.Linear(in_f, out_f),\n",
    "                         nn.Sigmoid())"
   ]
  },
  {
   "cell_type": "code",
   "execution_count": 26,
   "id": "f814e5e9",
   "metadata": {
    "id": "f814e5e9"
   },
   "outputs": [],
   "source": [
    "class MyEncoder(nn.Module):\n",
    "    \n",
    "    def __init__(self, enc_sizes, *args, **kwargs):\n",
    "        super().__init__()\n",
    "        \n",
    "        self.conv_blokcs = nn.Sequential(*[conv_block(in_f, out_f, kernel_size=3, padding=1, *args, **kwargs)\n",
    "                                          for in_f, out_f in zip(enc_sizes, enc_sizes[1:])])\n",
    "\n",
    "    def forward(self, x):\n",
    "        return self.conv_blokcs(x)"
   ]
  },
  {
   "cell_type": "code",
   "execution_count": 27,
   "id": "8c0e7b2c",
   "metadata": {
    "id": "8c0e7b2c"
   },
   "outputs": [],
   "source": [
    "class MyDecoder(nn.Module):\n",
    "    \n",
    "    def __init__(self, dec_sizes, n_classes):\n",
    "        super().__init__()\n",
    "        \n",
    "        self.dec_blocks = nn.Sequential(*[dec_block(in_f, out_f) \n",
    "                                         for in_f, out_f in zip(dec_sizes, dec_sizes[1:])])\n",
    "        self.last = nn.Linear(dec_sizes[-1], n_classes)\n",
    "        \n",
    "    def forward(self, x):\n",
    "        x = self.dec_blocks(x)\n",
    "        return self.last(x)"
   ]
  },
  {
   "cell_type": "code",
   "execution_count": 28,
   "id": "1fd17c40",
   "metadata": {
    "id": "1fd17c40"
   },
   "outputs": [],
   "source": [
    "class MyCNNClassifier(nn.Module):\n",
    "    \n",
    "    def __init__(self, in_c, enc_sizes, dec_sizes, n_classes, activation='relu'):\n",
    "        super().__init__()\n",
    "\n",
    "        self.enc_sizes = [in_c, *enc_sizes]\n",
    "        self.dec_sizes = [16 * 28 * 28, *dec_sizes]\n",
    "        self.encoder = MyEncoder(self.enc_sizes, activation=activation)\n",
    "        self.decoder = MyDecoder(self.dec_sizes, n_classes)\n",
    "        \n",
    "    def forward(self, x):\n",
    "        x = self.encoder(x)\n",
    "        x = x.flatten(1)\n",
    "        x = self.decoder(x)\n",
    "        return x"
   ]
  },
  {
   "cell_type": "code",
   "execution_count": 29,
   "id": "8d273469",
   "metadata": {
    "colab": {
     "base_uri": "https://localhost:8080/"
    },
    "id": "8d273469",
    "outputId": "a306deaf-1e2e-46e9-fbd8-e86e52dc3a03"
   },
   "outputs": [
    {
     "data": {
      "text/plain": [
       "MyCNNClassifier(\n",
       "  (encoder): MyEncoder(\n",
       "    (conv_blokcs): Sequential(\n",
       "      (0): Sequential(\n",
       "        (0): Conv2d(1, 6, kernel_size=(3, 3), stride=(1, 1), padding=(1, 1))\n",
       "        (1): BatchNorm2d(6, eps=1e-05, momentum=0.1, affine=True, track_running_stats=True)\n",
       "        (2): LeakyReLU(negative_slope=0.01)\n",
       "      )\n",
       "      (1): Sequential(\n",
       "        (0): Conv2d(6, 16, kernel_size=(3, 3), stride=(1, 1), padding=(1, 1))\n",
       "        (1): BatchNorm2d(16, eps=1e-05, momentum=0.1, affine=True, track_running_stats=True)\n",
       "        (2): LeakyReLU(negative_slope=0.01)\n",
       "      )\n",
       "    )\n",
       "  )\n",
       "  (decoder): MyDecoder(\n",
       "    (dec_blocks): Sequential(\n",
       "      (0): Sequential(\n",
       "        (0): Linear(in_features=12544, out_features=120, bias=True)\n",
       "        (1): Sigmoid()\n",
       "      )\n",
       "      (1): Sequential(\n",
       "        (0): Linear(in_features=120, out_features=84, bias=True)\n",
       "        (1): Sigmoid()\n",
       "      )\n",
       "    )\n",
       "    (last): Linear(in_features=84, out_features=10, bias=True)\n",
       "  )\n",
       ")"
      ]
     },
     "execution_count": 29,
     "metadata": {
      "tags": []
     },
     "output_type": "execute_result"
    }
   ],
   "source": [
    "model = MyCNNClassifier(1, [6, 16], [120, 84], 10, activation='lrelu')\n",
    "model"
   ]
  },
  {
   "cell_type": "markdown",
   "id": "8c938649",
   "metadata": {
    "id": "8c938649"
   },
   "source": [
    "Task 11. Use the resulting neural network to classify handwritten numbers (MNIST dataset)."
   ]
  },
  {
   "cell_type": "markdown",
   "id": "9Pmjo56GrmK8",
   "metadata": {
    "id": "9Pmjo56GrmK8"
   },
   "source": [
    "__Data preparation__"
   ]
  },
  {
   "cell_type": "code",
   "execution_count": 30,
   "id": "1ad17fa4",
   "metadata": {
    "id": "1ad17fa4"
   },
   "outputs": [],
   "source": [
    "mnist_train = torchvision.datasets.MNIST('./', download=True, train=True)\n",
    "mnist_test = torchvision.datasets.MNIST('./', download=True, train=False)\n",
    "X_train = mnist_train.train_data\n",
    "y_train = mnist_train.train_labels\n",
    "X_test = mnist_test.test_data\n",
    "y_test = mnist_test.test_labels"
   ]
  },
  {
   "cell_type": "code",
   "execution_count": 31,
   "id": "YjjGJCsUro-N",
   "metadata": {
    "colab": {
     "base_uri": "https://localhost:8080/",
     "height": 282
    },
    "id": "YjjGJCsUro-N",
    "outputId": "a26be73d-c836-4598-b3a7-6c4bd3c5de51"
   },
   "outputs": [
    {
     "name": "stdout",
     "output_type": "stream",
     "text": [
      "tensor(5)\n"
     ]
    },
    {
     "data": {
      "image/png": "[encoded data removed]",
      "text/plain": [
       "<Figure size 432x288 with 1 Axes>"
      ]
     },
     "metadata": {
      "needs_background": "light",
      "tags": []
     },
     "output_type": "display_data"
    }
   ],
   "source": [
    "# display an example of the data\n",
    "plt.imshow(X_train[0, :, :])\n",
    "print(y_train[0])"
   ]
  },
  {
   "cell_type": "code",
   "execution_count": 32,
   "id": "ptfqm_err8cS",
   "metadata": {
    "id": "ptfqm_err8cS"
   },
   "outputs": [],
   "source": [
    "# reshape the data\n",
    "X_train = X_train.unsqueeze(1).float()\n",
    "X_test = X_test.unsqueeze(1).float()"
   ]
  },
  {
   "cell_type": "code",
   "execution_count": 33,
   "id": "HVBdO-l-r8zw",
   "metadata": {
    "colab": {
     "base_uri": "https://localhost:8080/"
    },
    "id": "HVBdO-l-r8zw",
    "outputId": "14296058-d758-4cab-d948-6be47255f144"
   },
   "outputs": [
    {
     "name": "stdout",
     "output_type": "stream",
     "text": [
      "torch.Size([60000, 1, 28, 28]) torch.Size([10000, 1, 28, 28])\n",
      "torch.Size([60000]) torch.Size([10000])\n"
     ]
    }
   ],
   "source": [
    "print(X_train.shape, X_test.shape)\n",
    "print(y_train.shape, y_test.shape)"
   ]
  },
  {
   "cell_type": "markdown",
   "id": "bXgXZr49vg0X",
   "metadata": {
    "id": "bXgXZr49vg0X"
   },
   "source": [
    "__Model__"
   ]
  },
  {
   "cell_type": "code",
   "execution_count": 34,
   "id": "CvY1KNcDw_Ba",
   "metadata": {
    "colab": {
     "base_uri": "https://localhost:8080/"
    },
    "id": "CvY1KNcDw_Ba",
    "outputId": "eeff0b25-0955-4ec8-c520-7636153f8726"
   },
   "outputs": [
    {
     "data": {
      "text/plain": [
       "MyCNNClassifier(\n",
       "  (encoder): MyEncoder(\n",
       "    (conv_blokcs): Sequential(\n",
       "      (0): Sequential(\n",
       "        (0): Conv2d(1, 6, kernel_size=(3, 3), stride=(1, 1), padding=(1, 1))\n",
       "        (1): BatchNorm2d(6, eps=1e-05, momentum=0.1, affine=True, track_running_stats=True)\n",
       "        (2): ReLU()\n",
       "      )\n",
       "      (1): Sequential(\n",
       "        (0): Conv2d(6, 16, kernel_size=(3, 3), stride=(1, 1), padding=(1, 1))\n",
       "        (1): BatchNorm2d(16, eps=1e-05, momentum=0.1, affine=True, track_running_stats=True)\n",
       "        (2): ReLU()\n",
       "      )\n",
       "    )\n",
       "  )\n",
       "  (decoder): MyDecoder(\n",
       "    (dec_blocks): Sequential(\n",
       "      (0): Sequential(\n",
       "        (0): Linear(in_features=12544, out_features=120, bias=True)\n",
       "        (1): Sigmoid()\n",
       "      )\n",
       "      (1): Sequential(\n",
       "        (0): Linear(in_features=120, out_features=84, bias=True)\n",
       "        (1): Sigmoid()\n",
       "      )\n",
       "    )\n",
       "    (last): Linear(in_features=84, out_features=10, bias=True)\n",
       "  )\n",
       ")"
      ]
     },
     "execution_count": 34,
     "metadata": {
      "tags": []
     },
     "output_type": "execute_result"
    }
   ],
   "source": [
    "model_mnist = MyCNNClassifier(1, [6, 16], [120, 84], 10, activation='relu')\n",
    "model_mnist"
   ]
  },
  {
   "cell_type": "markdown",
   "id": "PAGKprOet8Lf",
   "metadata": {
    "id": "PAGKprOet8Lf"
   },
   "source": [
    "__Loss and Optimizer__"
   ]
  },
  {
   "cell_type": "code",
   "execution_count": 35,
   "id": "FsEb1uhqt8dU",
   "metadata": {
    "id": "FsEb1uhqt8dU"
   },
   "outputs": [],
   "source": [
    "device = torch.device('cuda:0' if torch.cuda.is_available() else 'cpu')\n",
    "X_test = X_test.to(device)\n",
    "y_test = y_test.to(device)\n",
    "model_mnist = model_mnist.to(device)\n",
    "\n",
    "loss = torch.nn.CrossEntropyLoss()\n",
    "optimizer = torch.optim.Adam(model_mnist.parameters(), lr=1e-3)"
   ]
  },
  {
   "cell_type": "markdown",
   "id": "5-KNFwGVtfO7",
   "metadata": {
    "id": "5-KNFwGVtfO7"
   },
   "source": [
    "__Model training__"
   ]
  },
  {
   "cell_type": "code",
   "execution_count": 36,
   "id": "FnDRDMNetgEX",
   "metadata": {
    "id": "FnDRDMNetgEX"
   },
   "outputs": [],
   "source": [
    "batch_size = 100\n",
    "test_accuracy_history = []\n",
    "test_loss_history = []\n",
    "\n",
    "for epoch in range(30):\n",
    "    order = np.random.permutation(len(X_train))\n",
    "\n",
    "    for start_index in range(0, len(X_train), batch_size):\n",
    "        optimizer.zero_grad()\n",
    "        model_mnist.train()\n",
    "\n",
    "        batch_indexes = order[start_index:start_index+batch_size]\n",
    "        X_batch = X_train[batch_indexes].to(device)\n",
    "        y_batch = y_train[batch_indexes].to(device)\n",
    "\n",
    "        preds = model_mnist.forward(X_batch)\n",
    "        loss_value = loss(preds, y_batch)\n",
    "        loss_value.backward()\n",
    "\n",
    "        optimizer.step()\n",
    "\n",
    "    with torch.no_grad():\n",
    "        model_mnist.eval()\n",
    "\n",
    "        test_preds = model_mnist.forward(X_test)\n",
    "        test_loss_history.append(loss(test_preds, y_test).data.cpu())\n",
    "\n",
    "        accuracy = (test_preds.argmax(dim=1) == y_test).float().mean().data.cpu()\n",
    "        test_accuracy_history.append(accuracy)"
   ]
  },
  {
   "cell_type": "code",
   "execution_count": 37,
   "id": "DgH4dXHzZs_-",
   "metadata": {
    "colab": {
     "base_uri": "https://localhost:8080/",
     "height": 390
    },
    "id": "DgH4dXHzZs_-",
    "outputId": "0f6e9704-62aa-448f-95e2-e4d46f39d25b"
   },
   "outputs": [
    {
     "data": {
      "image/png": "[encoded data removed]",
      "text/plain": [
       "<Figure size 1440x432 with 2 Axes>"
      ]
     },
     "metadata": {
      "needs_background": "light",
      "tags": []
     },
     "output_type": "display_data"
    }
   ],
   "source": [
    "fig, ax = plt.subplots(1, 2, figsize=(20, 6))\n",
    "\n",
    "ax[0].plot(test_loss_history)\n",
    "ax[0].title.set_text('Loss history')\n",
    "\n",
    "ax[1].plot(test_accuracy_history)\n",
    "ax[1].title.set_text('Accuracy history')"
   ]
  }
 ],
 "metadata": {
  "accelerator": "GPU",
  "colab": {
   "name": "lab11.ipynb",
   "provenance": []
  },
  "kernelspec": {
   "display_name": "Python 3",
   "language": "python",
   "name": "python3"
  },
  "language_info": {
   "codemirror_mode": {
    "name": "ipython",
    "version": 3
   },
   "file_extension": ".py",
   "mimetype": "text/x-python",
   "name": "python",
   "nbconvert_exporter": "python",
   "pygments_lexer": "ipython3",
   "version": "3.6.9"
  }
 },
 "nbformat": 4,
 "nbformat_minor": 5
}
