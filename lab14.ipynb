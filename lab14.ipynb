{
 "cells": [
  {
   "cell_type": "markdown",
   "id": "O6X3DMCohI-b",
   "metadata": {
    "id": "O6X3DMCohI-b"
   },
   "source": [
    "# Description"
   ]
  },
  {
   "cell_type": "markdown",
   "id": "VM7gv9xDhKWS",
   "metadata": {
    "id": "VM7gv9xDhKWS"
   },
   "source": [
    "This notebook is the second part of transfer learning topic (saving the model, loading the model, changing the loaded model)."
   ]
  },
  {
   "cell_type": "markdown",
   "id": "cScZBgEZjFK4",
   "metadata": {
    "id": "cScZBgEZjFK4"
   },
   "source": [
    "# Tasks"
   ]
  },
  {
   "cell_type": "markdown",
   "id": "sXbN5yYjj-uB",
   "metadata": {
    "id": "sXbN5yYjj-uB"
   },
   "source": [
    "Task 1. Dealing with the state_dict. "
   ]
  },
  {
   "cell_type": "code",
   "execution_count": 1,
   "id": "MOwmVPPkhJkq",
   "metadata": {
    "id": "MOwmVPPkhJkq"
   },
   "outputs": [],
   "source": [
    "import numpy as np\n",
    "import torch\n",
    "import torch.nn as nn\n",
    "import torch.nn.functional as F\n",
    "from torch.autograd import Variable\n",
    "from torch.optim import Adam\n",
    "from torch import optim"
   ]
  },
  {
   "cell_type": "markdown",
   "id": "jRTgh7jHkcs3",
   "metadata": {
    "id": "jRTgh7jHkcs3"
   },
   "source": [
    "__Define model__"
   ]
  },
  {
   "cell_type": "code",
   "execution_count": 2,
   "id": "a0d17j_Jkdrm",
   "metadata": {
    "id": "a0d17j_Jkdrm"
   },
   "outputs": [],
   "source": [
    "class TheModelClass(nn.Module):\n",
    "    def __init__(self):\n",
    "        super(TheModelClass, self).__init__()\n",
    "        self.conv1 = nn.Conv2d(3, 6, 5)\n",
    "        self.pool = nn.MaxPool2d(2, 2)\n",
    "        self.conv2 = nn.Conv2d(6, 16, 5)\n",
    "        self.fc1 = nn.Linear(16 * 5 * 5, 120)\n",
    "        self.fc2 = nn.Linear(120, 84)\n",
    "        self.fc3 = nn.Linear(84, 10)\n",
    "\n",
    "    def forward(self, x):\n",
    "        x = self.pool(F.relu(self.conv1(x)))\n",
    "        x = self.pool(F.relu(self.conv2(x)))\n",
    "        x = x.view(-1, 16 * 5 * 5)\n",
    "        x = F.relu(self.fc1(x))\n",
    "        x = F.relu(self.fc2(x))\n",
    "        x = self.fc3(x)\n",
    "        return x"
   ]
  },
  {
   "cell_type": "code",
   "execution_count": 3,
   "id": "c3afv1Iskyn3",
   "metadata": {
    "id": "c3afv1Iskyn3"
   },
   "outputs": [],
   "source": [
    "model = TheModelClass()"
   ]
  },
  {
   "cell_type": "code",
   "execution_count": 4,
   "id": "uchI3EM9kzH-",
   "metadata": {
    "id": "uchI3EM9kzH-"
   },
   "outputs": [],
   "source": [
    "optimizer = optim.SGD(model.parameters(), lr=0.001, momentum=0.9)"
   ]
  },
  {
   "cell_type": "markdown",
   "id": "UN9wQ7YOk5ng",
   "metadata": {
    "id": "UN9wQ7YOk5ng"
   },
   "source": [
    "__Display model's state_dict and optimizer's state_dict__"
   ]
  },
  {
   "cell_type": "code",
   "execution_count": 5,
   "id": "q-j3sr1Tk1Le",
   "metadata": {
    "colab": {
     "base_uri": "https://localhost:8080/"
    },
    "id": "q-j3sr1Tk1Le",
    "outputId": "23105a54-016a-4648-8f34-617b88cd6957"
   },
   "outputs": [
    {
     "name": "stdout",
     "output_type": "stream",
     "text": [
      "Model's state_dict:\n",
      "conv1.weight \t torch.Size([6, 3, 5, 5])\n",
      "conv1.bias \t torch.Size([6])\n",
      "conv2.weight \t torch.Size([16, 6, 5, 5])\n",
      "conv2.bias \t torch.Size([16])\n",
      "fc1.weight \t torch.Size([120, 400])\n",
      "fc1.bias \t torch.Size([120])\n",
      "fc2.weight \t torch.Size([84, 120])\n",
      "fc2.bias \t torch.Size([84])\n",
      "fc3.weight \t torch.Size([10, 84])\n",
      "fc3.bias \t torch.Size([10])\n"
     ]
    }
   ],
   "source": [
    "print(\"Model's state_dict:\")\n",
    "for param_tensor in model.state_dict():\n",
    "    print(param_tensor, \"\\t\", model.state_dict()[param_tensor].size())"
   ]
  },
  {
   "cell_type": "code",
   "execution_count": 6,
   "id": "cPOMrZm7oK8d",
   "metadata": {
    "id": "cPOMrZm7oK8d"
   },
   "outputs": [],
   "source": [
    "# print(\"Model's state_dict:\")\n",
    "# for var_name in model.state_dict():\n",
    "#     print(var_name, \"\\t\", model.state_dict()[var_name])"
   ]
  },
  {
   "cell_type": "code",
   "execution_count": 7,
   "id": "t0jJ6R9VlOvG",
   "metadata": {
    "colab": {
     "base_uri": "https://localhost:8080/"
    },
    "id": "t0jJ6R9VlOvG",
    "outputId": "d22cd730-3596-491d-d0eb-8e3cadaaea35"
   },
   "outputs": [
    {
     "name": "stdout",
     "output_type": "stream",
     "text": [
      "Optimizer's state_dict:\n",
      "state \t {}\n",
      "param_groups \t [{'lr': 0.001, 'momentum': 0.9, 'dampening': 0, 'weight_decay': 0, 'nesterov': False, 'params': [0, 1, 2, 3, 4, 5, 6, 7, 8, 9]}]\n"
     ]
    }
   ],
   "source": [
    "print(\"Optimizer's state_dict:\")\n",
    "for var_name in optimizer.state_dict():\n",
    "    print(var_name, \"\\t\", optimizer.state_dict()[var_name])"
   ]
  },
  {
   "cell_type": "markdown",
   "id": "rxtRFjIklqBn",
   "metadata": {
    "id": "rxtRFjIklqBn"
   },
   "source": [
    "Task 2. Save and load the model for the test."
   ]
  },
  {
   "cell_type": "code",
   "execution_count": 8,
   "id": "GLCVLD0ClY_2",
   "metadata": {
    "id": "GLCVLD0ClY_2"
   },
   "outputs": [],
   "source": [
    "# save model\n",
    "torch.save(model.state_dict(), \"model_test.pt\")"
   ]
  },
  {
   "cell_type": "code",
   "execution_count": 9,
   "id": "0A_6YTEGmoRV",
   "metadata": {
    "colab": {
     "base_uri": "https://localhost:8080/"
    },
    "id": "0A_6YTEGmoRV",
    "outputId": "3ef1a902-6a1d-4968-ce0a-12a300bc3072"
   },
   "outputs": [
    {
     "data": {
      "text/plain": [
       "TheModelClass(\n",
       "  (conv1): Conv2d(3, 6, kernel_size=(5, 5), stride=(1, 1))\n",
       "  (pool): MaxPool2d(kernel_size=2, stride=2, padding=0, dilation=1, ceil_mode=False)\n",
       "  (conv2): Conv2d(6, 16, kernel_size=(5, 5), stride=(1, 1))\n",
       "  (fc1): Linear(in_features=400, out_features=120, bias=True)\n",
       "  (fc2): Linear(in_features=120, out_features=84, bias=True)\n",
       "  (fc3): Linear(in_features=84, out_features=10, bias=True)\n",
       ")"
      ]
     },
     "execution_count": 9,
     "metadata": {},
     "output_type": "execute_result"
    }
   ],
   "source": [
    "# load model\n",
    "model.load_state_dict(torch.load(\"model_test.pt\"))\n",
    "model.eval()\n",
    "\n",
    "# print(\"Model's state_dict:\")\n",
    "# for var_name in model.state_dict():\n",
    "#     print(var_name, \"\\t\", model.state_dict()[var_name])"
   ]
  }
 ],
 "metadata": {
  "colab": {
   "name": "lab14.ipynb",
   "provenance": []
  },
  "kernelspec": {
   "display_name": "Python 3",
   "language": "python",
   "name": "python3"
  },
  "language_info": {
   "codemirror_mode": {
    "name": "ipython",
    "version": 3
   },
   "file_extension": ".py",
   "mimetype": "text/x-python",
   "name": "python",
   "nbconvert_exporter": "python",
   "pygments_lexer": "ipython3",
   "version": "3.6.9"
  }
 },
 "nbformat": 4,
 "nbformat_minor": 5
}
