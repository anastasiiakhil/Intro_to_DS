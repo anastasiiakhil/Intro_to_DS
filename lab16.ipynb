{
 "cells": [
  {
   "cell_type": "markdown",
   "id": "C1eJe3YIky1C",
   "metadata": {
    "id": "C1eJe3YIky1C"
   },
   "source": [
    "## Description"
   ]
  },
  {
   "cell_type": "markdown",
   "id": "cIm9bJ2tk2RH",
   "metadata": {
    "id": "cIm9bJ2tk2RH"
   },
   "source": [
    "This work aims to get acquainted with recurrent neural networks (RNN, GRU, LSTM). Overview of their types, advantages and disadvantages of their use."
   ]
  },
  {
   "cell_type": "markdown",
   "id": "_0QsFCiUlxCs",
   "metadata": {
    "id": "_0QsFCiUlxCs"
   },
   "source": [
    "## Tasks"
   ]
  },
  {
   "cell_type": "code",
   "execution_count": 1,
   "id": "rbiu3bmdknoN",
   "metadata": {
    "id": "rbiu3bmdknoN"
   },
   "outputs": [],
   "source": [
    "import os\n",
    "import numpy as np\n",
    "\n",
    "import torch\n",
    "import torch.nn as nn\n",
    "import torch.nn.functional as F\n",
    "import torchvision\n",
    "import torchvision.transforms as transforms"
   ]
  },
  {
   "cell_type": "markdown",
   "id": "FfsHZ3t4l3x6",
   "metadata": {
    "id": "FfsHZ3t4l3x6"
   },
   "source": [
    "Task 1. Build a simple recurrent neural network."
   ]
  },
  {
   "cell_type": "code",
   "execution_count": 2,
   "id": "bAzbVYxpmEpM",
   "metadata": {
    "id": "bAzbVYxpmEpM"
   },
   "outputs": [],
   "source": [
    "class SingleRNN(nn.Module):\n",
    "    def __init__(self, n_inputs, n_neurons):\n",
    "        super(SingleRNN, self).__init__()\n",
    "        self.Wx = torch.randn(n_inputs, n_neurons)\n",
    "        self.Wy = torch.randn(n_neurons, n_neurons)\n",
    "        self.b = torch.zeros(1, n_neurons)\n",
    "    \n",
    "    def forward(self, X0, X1):\n",
    "        self.Y0 = torch.tanh(torch.mm(X0, self.Wx) + self.b)\n",
    "        self.Y1 = torch.tanh(torch.mm(self.Y0, self.Wy) + torch.mm(X1, self.Wx) + self.b)\n",
    "        return self.Y0, self.Y1"
   ]
  },
  {
   "cell_type": "code",
   "execution_count": 3,
   "id": "NMsHNGbcbxGV",
   "metadata": {
    "id": "NMsHNGbcbxGV"
   },
   "outputs": [],
   "source": [
    "n_inputs = 3 \n",
    "n_neurons = 5\n",
    "X0_batch = torch.tensor([[0,1,2], [3,4,5], [6,7,8], [9,0,1]], dtype = torch.float)\n",
    "X1_batch = torch.tensor([[9,8,7], [0,0,0], [6,5,4], [3,2,1]], dtype = torch.float)\n",
    "model = SingleRNN(n_inputs, n_neurons)"
   ]
  },
  {
   "cell_type": "code",
   "execution_count": 4,
   "id": "j6zo4niLcF4p",
   "metadata": {
    "colab": {
     "base_uri": "https://localhost:8080/"
    },
    "id": "j6zo4niLcF4p",
    "outputId": "e3590a17-fd71-441b-bc61-ce7903d41bdf"
   },
   "outputs": [
    {
     "name": "stdout",
     "output_type": "stream",
     "text": [
      "tensor([[ 0.9630,  0.9985,  0.9998, -0.5624,  0.5305],\n",
      "        [ 0.9972,  0.9874,  1.0000,  0.5996, -0.9009],\n",
      "        [ 0.9998,  0.8959,  1.0000,  0.9655, -0.9983],\n",
      "        [-0.9239, -1.0000,  0.9077,  1.0000, -0.9996]])\n",
      "tensor([[ 0.9991, -0.9247,  1.0000,  0.9993, -1.0000],\n",
      "        [ 0.7420,  0.2828,  0.8164, -0.9693,  0.7207],\n",
      "        [ 0.9014, -1.0000,  1.0000,  0.7337, -0.9963],\n",
      "        [-0.8954, -1.0000,  0.9877,  0.8233, -0.3909]])\n"
     ]
    }
   ],
   "source": [
    "Y0_val, Y1_val = model(X0_batch, X1_batch)\n",
    "print(Y0_val)\n",
    "print(Y1_val)"
   ]
  },
  {
   "cell_type": "markdown",
   "id": "Vkky5Y-1bgaJ",
   "metadata": {
    "id": "Vkky5Y-1bgaJ"
   },
   "source": [
    "Task 2. Get to know PyTorch's built-in RNN cell"
   ]
  },
  {
   "cell_type": "code",
   "execution_count": 5,
   "id": "uLhTT63uYTra",
   "metadata": {
    "colab": {
     "base_uri": "https://localhost:8080/"
    },
    "id": "uLhTT63uYTra",
    "outputId": "c25eede7-4c0f-4252-ec70-ec7083c48209"
   },
   "outputs": [
    {
     "name": "stdout",
     "output_type": "stream",
     "text": [
      "[tensor([[-0.1955,  0.1880,  0.2866,  0.0624,  0.1098],\n",
      "        [-0.9238,  0.7130,  0.1175,  0.6967,  0.9608],\n",
      "        [-0.9938,  0.9632,  0.9381,  0.9177,  0.9098],\n",
      "        [-0.9385, -0.7901,  0.8246,  0.9323, -0.2826]],\n",
      "       grad_fn=<TanhBackward0>), tensor([[-0.9939,  0.9319,  0.7696,  0.9865,  0.9319],\n",
      "        [ 0.4640, -0.4806, -0.2478,  0.6196, -0.4036],\n",
      "        [-0.9370,  0.3671,  0.5176,  0.9901,  0.2503],\n",
      "        [ 0.1549,  0.4100, -0.3900,  0.9540,  0.4495]],\n",
      "       grad_fn=<TanhBackward0>)]\n"
     ]
    }
   ],
   "source": [
    "rnn = nn.RNNCell(3, 5)\n",
    "X_batch = torch.tensor([[[0,1,2], [3,4,5], [6,7,8], [9,0,1]], [[9,8,7], [0,0,0], [6,5,4], [3,2,1]]], \n",
    "                       dtype = torch.float)\n",
    "hx = torch.randn(4, 5)\n",
    "output = []\n",
    "for i in range(2):\n",
    "    hx = rnn(X_batch[i], hx)\n",
    "    output.append(hx)\n",
    "\n",
    "print(output)"
   ]
  },
  {
   "cell_type": "markdown",
   "id": "9bjszl1vdhBH",
   "metadata": {
    "id": "9bjszl1vdhBH"
   },
   "source": [
    "Task 3. Build a calculation graph using PyTorch's RNN Cell"
   ]
  },
  {
   "cell_type": "code",
   "execution_count": 6,
   "id": "nUHyUSlocYG6",
   "metadata": {
    "id": "nUHyUSlocYG6"
   },
   "outputs": [],
   "source": [
    "class CleanBasicRNN(nn.Module):\n",
    "    def __init__(self, batch_size, n_inputs, n_neurons):\n",
    "        super(CleanBasicRNN, self).__init__()\n",
    "        rnn = nn.RNNCell(n_inputs, n_neurons)\n",
    "        self.hx = torch.randn(batch_size, n_neurons) \n",
    "\n",
    "    def forward(self, X):\n",
    "        output = []\n",
    "        for i in range(2):\n",
    "            self.hx = rnn(X[i], self.hx)\n",
    "            output.append(self.hx)\n",
    "        return output, self.hx"
   ]
  },
  {
   "cell_type": "code",
   "execution_count": 7,
   "id": "A1D2OkvGeJuV",
   "metadata": {
    "colab": {
     "base_uri": "https://localhost:8080/"
    },
    "id": "A1D2OkvGeJuV",
    "outputId": "312c8dea-5468-4824-d4ca-4bb283d8413b"
   },
   "outputs": [
    {
     "name": "stdout",
     "output_type": "stream",
     "text": [
      "[tensor([[-0.6340,  0.6578, -0.1951, -0.8484,  0.4107],\n",
      "        [-0.8311,  0.6916,  0.0403,  0.9253,  0.9479],\n",
      "        [-0.9922,  0.8694,  0.8533,  0.9404,  0.9332],\n",
      "        [-0.9920, -0.7749,  0.6399,  0.9857, -0.3737]],\n",
      "       grad_fn=<TanhBackward0>), tensor([[-0.9967,  0.9310,  0.6433,  0.9750,  0.9634],\n",
      "        [ 0.5299, -0.5247, -0.1338,  0.6324, -0.4847],\n",
      "        [-0.9319,  0.3652,  0.5078,  0.9902,  0.2685],\n",
      "        [ 0.2165,  0.3886, -0.3302,  0.9486,  0.4959]],\n",
      "       grad_fn=<TanhBackward0>)]\n",
      "tensor([[-0.9967,  0.9310,  0.6433,  0.9750,  0.9634],\n",
      "        [ 0.5299, -0.5247, -0.1338,  0.6324, -0.4847],\n",
      "        [-0.9319,  0.3652,  0.5078,  0.9902,  0.2685],\n",
      "        [ 0.2165,  0.3886, -0.3302,  0.9486,  0.4959]],\n",
      "       grad_fn=<TanhBackward0>)\n"
     ]
    }
   ],
   "source": [
    "batch_size = 4\n",
    "n_inputs = 3\n",
    "n_neurons = 5\n",
    "X_batch = torch.tensor([[[0, 1, 2], [3, 4, 5], [6, 7, 8], [9, 0, 1]],\n",
    "                        [[9, 8, 7], [0, 0, 0], [6, 5, 4], [3, 2, 1]]], \n",
    "                       dtype=torch.float)\n",
    "model = CleanBasicRNN(batch_size, n_inputs, n_neurons)\n",
    "output_val, states_val = model(X_batch)\n",
    "print(output_val)\n",
    "print(states_val)"
   ]
  },
  {
   "cell_type": "markdown",
   "id": "b3Bqy6K0e5CJ",
   "metadata": {
    "id": "b3Bqy6K0e5CJ"
   },
   "source": [
    "Task 4. Using RNN for image classification on the example of the MNIST dataset."
   ]
  },
  {
   "cell_type": "markdown",
   "id": "sIQD3isRfOmv",
   "metadata": {
    "id": "sIQD3isRfOmv"
   },
   "source": [
    "**Set hyperparameters**"
   ]
  },
  {
   "cell_type": "code",
   "execution_count": 8,
   "id": "CWKNQwuWeoGZ",
   "metadata": {
    "id": "CWKNQwuWeoGZ"
   },
   "outputs": [],
   "source": [
    "device = torch.device('cuda' if torch.cuda.is_available() else 'cpu')\n",
    "sequence_length = 28\n",
    "input_size = 28\n",
    "hidden_size = 128\n",
    "num_layers = 2\n",
    "num_classes = 10\n",
    "batch_size = 64\n",
    "num_epochs = 1\n",
    "learning_rate = 0.01"
   ]
  },
  {
   "cell_type": "markdown",
   "id": "1DuOC2cmfmZl",
   "metadata": {
    "id": "1DuOC2cmfmZl"
   },
   "source": [
    "**Data preparation**"
   ]
  },
  {
   "cell_type": "code",
   "execution_count": 9,
   "id": "5VGePwYrfh9V",
   "metadata": {
    "id": "5VGePwYrfh9V"
   },
   "outputs": [],
   "source": [
    "train_dataset = torchvision.datasets.MNIST(root='../../data/', train=True, transform=transforms.ToTensor(), download=True)\n",
    "test_dataset = torchvision.datasets.MNIST(root='../../data/', train=False, transform=transforms.ToTensor())"
   ]
  },
  {
   "cell_type": "code",
   "execution_count": 10,
   "id": "Wml4vG9TgCt1",
   "metadata": {
    "id": "Wml4vG9TgCt1"
   },
   "outputs": [],
   "source": [
    "train_loader = torch.utils.data.DataLoader(dataset=train_dataset, batch_size=batch_size, shuffle=True)\n",
    "test_loader = torch.utils.data.DataLoader(dataset=test_dataset, batch_size=batch_size, shuffle=False)"
   ]
  },
  {
   "cell_type": "markdown",
   "id": "-n9nxuZlgcMW",
   "metadata": {
    "id": "-n9nxuZlgcMW"
   },
   "source": [
    "**Model building**"
   ]
  },
  {
   "cell_type": "code",
   "execution_count": 11,
   "id": "YVJ3aqNZgQEm",
   "metadata": {
    "id": "YVJ3aqNZgQEm"
   },
   "outputs": [],
   "source": [
    "class RNN(nn.Module):\n",
    "    def __init__(self, input_size, hidden_size, num_layers, num_classes):\n",
    "        super(RNN, self).__init__()\n",
    "        self.hidden_size = hidden_size\n",
    "        self.num_layers = num_layers\n",
    "        self.gru = nn.GRU(input_size, hidden_size, num_layers, batch_first=True)\n",
    "        self.fc = nn.Linear(hidden_size, num_classes)\n",
    "\n",
    "    def forward(self, x):\n",
    "        h0 = torch.zeros(self.num_layers, x.size(0), self.hidden_size).to(device)\n",
    "        out, _ = self.gru(x, h0)\n",
    "        out = self.fc(out[:, -1, :])\n",
    "        return out"
   ]
  },
  {
   "cell_type": "markdown",
   "id": "o5f0Q8Huhl7f",
   "metadata": {
    "id": "o5f0Q8Huhl7f"
   },
   "source": [
    "**Model training**"
   ]
  },
  {
   "cell_type": "code",
   "execution_count": 12,
   "id": "VM2UlM2thFnF",
   "metadata": {
    "id": "VM2UlM2thFnF"
   },
   "outputs": [],
   "source": [
    "model = RNN(input_size, hidden_size, num_layers, num_classes).to(device)\n",
    "criterion = nn.CrossEntropyLoss()\n",
    "optimizer = torch.optim.Adam(model.parameters(), lr=learning_rate)\n",
    "total_step = len(train_loader)"
   ]
  },
  {
   "cell_type": "code",
   "execution_count": 13,
   "id": "5JjCnwfpi0os",
   "metadata": {
    "colab": {
     "base_uri": "https://localhost:8080/"
    },
    "id": "5JjCnwfpi0os",
    "outputId": "2febef2a-47f1-4fce-820b-cf225b092e4e"
   },
   "outputs": [
    {
     "name": "stdout",
     "output_type": "stream",
     "text": [
      "Epoch [1/1], Step [100/938], Loss: 0.3155, Test accuracy: 88.23\n",
      "Epoch [1/1], Step [200/938], Loss: 0.2629, Test accuracy: 93.48\n",
      "Epoch [1/1], Step [300/938], Loss: 0.1016, Test accuracy: 94.19\n",
      "Epoch [1/1], Step [400/938], Loss: 0.2195, Test accuracy: 95.09\n",
      "Epoch [1/1], Step [500/938], Loss: 0.3313, Test accuracy: 94.19\n",
      "Epoch [1/1], Step [600/938], Loss: 0.2687, Test accuracy: 95.29\n",
      "Epoch [1/1], Step [700/938], Loss: 0.0232, Test accuracy: 97.04\n",
      "Epoch [1/1], Step [800/938], Loss: 0.1087, Test accuracy: 96.5\n",
      "Epoch [1/1], Step [900/938], Loss: 0.1834, Test accuracy: 94.66\n"
     ]
    }
   ],
   "source": [
    "for epoch in range(num_epochs):\n",
    "    for i, (images, labels) in enumerate(train_loader):\n",
    "        model.train()\n",
    "        images = images.reshape(-1, sequence_length, input_size).to(device)\n",
    "        labels = labels.to(device)\n",
    "        outputs = model(images)\n",
    "        loss = criterion(outputs, labels)\n",
    "        optimizer.zero_grad()\n",
    "        loss.backward()\n",
    "        optimizer.step()\n",
    "\n",
    "        if (i + 1) % 100 == 0:\n",
    "            model.eval()\n",
    "            with torch.no_grad():\n",
    "                correct = 0\n",
    "                total = 0\n",
    "                for images, labels in test_loader:\n",
    "                    images = images.reshape(-1, sequence_length,\n",
    "                    input_size).to(device)\n",
    "                    labels = labels.to(device)\n",
    "                    outputs = model(images)\n",
    "                    _, predicted = torch.max(outputs.data, 1)\n",
    "                    total += labels.size(0)\n",
    "                    correct += (predicted == labels).sum().item()\n",
    "            print('Epoch [{}/{}], Step [{}/{}], Loss: {:.4f}, Test accuracy: {}'.format(epoch + 1, num_epochs, \n",
    "                                                                                        i + 1, total_step, loss.item(), \n",
    "                                                                                        100 * correct / total))"
   ]
  },
  {
   "cell_type": "markdown",
   "id": "bccc4f3d",
   "metadata": {},
   "source": [
    "__Model testing__"
   ]
  },
  {
   "cell_type": "code",
   "execution_count": 14,
   "id": "E4rCN0Hei4OL",
   "metadata": {
    "colab": {
     "base_uri": "https://localhost:8080/"
    },
    "id": "E4rCN0Hei4OL",
    "outputId": "9a82d0b2-a8a5-4e61-fe9d-749da782c3f0"
   },
   "outputs": [
    {
     "name": "stdout",
     "output_type": "stream",
     "text": [
      "Test Accuracy of the model on the 10000 test images: 94.85 %\n",
      "tensor([1, 2, 3, 4, 5, 6, 7, 8, 9, 0], device='cuda:0') prediction numbers\n",
      "tensor([1, 2, 3, 4, 5, 6, 7, 8, 9, 0], device='cuda:0') real numbers\n"
     ]
    }
   ],
   "source": [
    "model.eval()\n",
    "with torch.no_grad():\n",
    "    correct = 0\n",
    "    total = 0\n",
    "    \n",
    "    for images, labels in test_loader:\n",
    "        images = images.reshape(-1, sequence_length, input_size).to(device)\n",
    "        labels = labels.to(device)\n",
    "        outputs = model(images)\n",
    "        _, predicted = torch.max(outputs.data, 1)\n",
    "        total += labels.size(0)\n",
    "        correct += (predicted == labels).sum().item()\n",
    "    print('Test Accuracy of the model on the 10000 test images: {} %'.format(100 * correct / total))\n",
    "    print(predicted[:10], 'prediction numbers')\n",
    "    print(labels[:10], 'real numbers')"
   ]
  },
  {
   "cell_type": "code",
   "execution_count": 15,
   "id": "7HTGpYapjWr8",
   "metadata": {
    "id": "7HTGpYapjWr8"
   },
   "outputs": [],
   "source": [
    "torch.save(model.state_dict(), 'mnist_rnn_model.ckpt')"
   ]
  }
 ],
 "metadata": {
  "accelerator": "GPU",
  "colab": {
   "collapsed_sections": [],
   "provenance": []
  },
  "gpuClass": "standard",
  "kernelspec": {
   "display_name": "Python 3",
   "language": "python",
   "name": "python3"
  },
  "language_info": {
   "codemirror_mode": {
    "name": "ipython",
    "version": 3
   },
   "file_extension": ".py",
   "mimetype": "text/x-python",
   "name": "python",
   "nbconvert_exporter": "python",
   "pygments_lexer": "ipython3",
   "version": "3.6.9"
  }
 },
 "nbformat": 4,
 "nbformat_minor": 5
}
