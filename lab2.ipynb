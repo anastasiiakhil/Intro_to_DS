{
 "cells": [
  {
   "cell_type": "markdown",
   "id": "coated-calibration",
   "metadata": {},
   "source": [
    "# Description"
   ]
  },
  {
   "cell_type": "markdown",
   "id": "direct-roberts",
   "metadata": {},
   "source": [
    "This work is based on learning the basics of working with the Numerical Python library (indexing, mathematical operations, data types, methods)."
   ]
  },
  {
   "cell_type": "markdown",
   "id": "effective-acquisition",
   "metadata": {},
   "source": [
    "# Tasks"
   ]
  },
  {
   "cell_type": "code",
   "execution_count": 1,
   "id": "middle-greece",
   "metadata": {},
   "outputs": [],
   "source": [
    "import numpy as np\n",
    "import sys\n",
    "import warnings"
   ]
  },
  {
   "cell_type": "code",
   "execution_count": 2,
   "id": "bae6ff9d",
   "metadata": {},
   "outputs": [],
   "source": [
    "warnings.filterwarnings('ignore')"
   ]
  },
  {
   "cell_type": "markdown",
   "id": "taken-merchandise",
   "metadata": {},
   "source": [
    "Task 1. A function that creates a 1D array of numbers from 0 to 9."
   ]
  },
  {
   "cell_type": "code",
   "execution_count": 3,
   "id": "assisted-scheduling",
   "metadata": {},
   "outputs": [],
   "source": [
    "def create_1D_array(x: int):\n",
    "    result = np.array([y for y in range(x+1)])\n",
    "    return result"
   ]
  },
  {
   "cell_type": "code",
   "execution_count": 4,
   "id": "interstate-behavior",
   "metadata": {},
   "outputs": [
    {
     "data": {
      "text/plain": [
       "array([0, 1, 2, 3, 4, 5, 6, 7, 8, 9])"
      ]
     },
     "execution_count": 4,
     "metadata": {},
     "output_type": "execute_result"
    }
   ],
   "source": [
    "create_1D_array(9)"
   ]
  },
  {
   "cell_type": "markdown",
   "id": "fitting-daughter",
   "metadata": {},
   "source": [
    "Task 2. A function that creates a 3 × 3 numpy array consisting of all True’s."
   ]
  },
  {
   "cell_type": "code",
   "execution_count": 5,
   "id": "beautiful-wholesale",
   "metadata": {},
   "outputs": [],
   "source": [
    "def create_3D_array():\n",
    "    result = np.full((3,3), True)\n",
    "    return result"
   ]
  },
  {
   "cell_type": "code",
   "execution_count": 6,
   "id": "sized-peoples",
   "metadata": {},
   "outputs": [
    {
     "data": {
      "text/plain": [
       "array([[ True,  True,  True],\n",
       "       [ True,  True,  True],\n",
       "       [ True,  True,  True]])"
      ]
     },
     "execution_count": 6,
     "metadata": {},
     "output_type": "execute_result"
    }
   ],
   "source": [
    "create_3D_array()"
   ]
  },
  {
   "cell_type": "markdown",
   "id": "liable-samuel",
   "metadata": {},
   "source": [
    "Task 3. A function that returns all odd numbers from an array. "
   ]
  },
  {
   "cell_type": "code",
   "execution_count": 7,
   "id": "pretty-reproduction",
   "metadata": {},
   "outputs": [],
   "source": [
    "def get_odd(array_):\n",
    "    return array_[array_%2 == 1]"
   ]
  },
  {
   "cell_type": "code",
   "execution_count": 8,
   "id": "coordinate-frequency",
   "metadata": {},
   "outputs": [
    {
     "data": {
      "text/plain": [
       "array([1, 3, 5, 7, 9])"
      ]
     },
     "execution_count": 8,
     "metadata": {},
     "output_type": "execute_result"
    }
   ],
   "source": [
    "get_odd(np.array([0, 1, 2, 3, 4, 5, 6, 7, 8, 9]))"
   ]
  },
  {
   "cell_type": "markdown",
   "id": "hawaiian-factory",
   "metadata": {},
   "source": [
    "Task 4. A function that replaces all odd numbers in an array by -1."
   ]
  },
  {
   "cell_type": "code",
   "execution_count": 9,
   "id": "religious-acrobat",
   "metadata": {},
   "outputs": [],
   "source": [
    "def replace_odd(array_):\n",
    "    array_[array_%2 == 1] = -1\n",
    "    return array_"
   ]
  },
  {
   "cell_type": "code",
   "execution_count": 10,
   "id": "equivalent-guidance",
   "metadata": {},
   "outputs": [
    {
     "data": {
      "text/plain": [
       "array([ 0, -1,  2, -1,  4, -1,  6, -1,  8, -1])"
      ]
     },
     "execution_count": 10,
     "metadata": {},
     "output_type": "execute_result"
    }
   ],
   "source": [
    "replace_odd(np.array([0, 1, 2, 3, 4, 5, 6, 7, 8, 9]))"
   ]
  },
  {
   "cell_type": "markdown",
   "id": "miniature-halloween",
   "metadata": {},
   "source": [
    "Task 5. A function that replaces all odd numbers with -1 without changing the array (where)."
   ]
  },
  {
   "cell_type": "code",
   "execution_count": 11,
   "id": "flexible-venice",
   "metadata": {},
   "outputs": [],
   "source": [
    "def replace_odd_where(array_):\n",
    "    return np.where(array_%2 == 1, -1, array_)"
   ]
  },
  {
   "cell_type": "code",
   "execution_count": 12,
   "id": "impossible-california",
   "metadata": {},
   "outputs": [
    {
     "data": {
      "text/plain": [
       "array([ 0, -1,  2, -1,  4, -1,  6, -1,  8, -1])"
      ]
     },
     "execution_count": 12,
     "metadata": {},
     "output_type": "execute_result"
    }
   ],
   "source": [
    "replace_odd_where(np.array([0, 1, 2, 3, 4, 5, 6, 7, 8, 9]))"
   ]
  },
  {
   "cell_type": "markdown",
   "id": "8094d6eb",
   "metadata": {},
   "source": [
    "Task 6. A function that converts 1D array to 2D array with 2 rows (use reshape). "
   ]
  },
  {
   "cell_type": "code",
   "execution_count": 13,
   "id": "0c74d922",
   "metadata": {},
   "outputs": [],
   "source": [
    "def convert_1D_to_2D(array_):\n",
    "    return array_.reshape((2, len(array_)//2))"
   ]
  },
  {
   "cell_type": "code",
   "execution_count": 14,
   "id": "7c73c861",
   "metadata": {},
   "outputs": [
    {
     "data": {
      "text/plain": [
       "array([[0, 1, 2, 3, 4],\n",
       "       [5, 6, 7, 8, 9]])"
      ]
     },
     "execution_count": 14,
     "metadata": {},
     "output_type": "execute_result"
    }
   ],
   "source": [
    "convert_1D_to_2D(np.array([0, 1, 2, 3, 4, 5, 6, 7, 8, 9]))"
   ]
  },
  {
   "cell_type": "markdown",
   "id": "e6be20a0",
   "metadata": {},
   "source": [
    "Task 7. Make up arrays a and b vertically."
   ]
  },
  {
   "cell_type": "code",
   "execution_count": 15,
   "id": "8115b961",
   "metadata": {},
   "outputs": [
    {
     "data": {
      "text/plain": [
       "array([[0, 1, 2, 3, 4],\n",
       "       [5, 6, 7, 8, 9],\n",
       "       [1, 1, 1, 1, 1],\n",
       "       [1, 1, 1, 1, 1]])"
      ]
     },
     "execution_count": 15,
     "metadata": {},
     "output_type": "execute_result"
    }
   ],
   "source": [
    "a = np.arange(10).reshape(2,-1)\n",
    "b = np.repeat(1, 10).reshape(2,-1)\n",
    "\n",
    "np.vstack((a,b))"
   ]
  },
  {
   "cell_type": "markdown",
   "id": "b0ac0c54",
   "metadata": {},
   "source": [
    "Task 8. Make up arrays a and b horizontally. "
   ]
  },
  {
   "cell_type": "code",
   "execution_count": 16,
   "id": "8420e92f",
   "metadata": {},
   "outputs": [
    {
     "data": {
      "text/plain": [
       "array([[0, 1, 2, 3, 4, 1, 1, 1, 1, 1],\n",
       "       [5, 6, 7, 8, 9, 1, 1, 1, 1, 1]])"
      ]
     },
     "execution_count": 16,
     "metadata": {},
     "output_type": "execute_result"
    }
   ],
   "source": [
    "a = np.arange(10).reshape(2,-1)\n",
    "b = np.repeat(1, 10).reshape(2,-1)\n",
    "\n",
    "np.hstack((a,b))"
   ]
  },
  {
   "cell_type": "markdown",
   "id": "131e9e8f",
   "metadata": {},
   "source": [
    "Task 9. A function that makes the next pattern without using hard code."
   ]
  },
  {
   "cell_type": "code",
   "execution_count": 17,
   "id": "315bb3c5",
   "metadata": {},
   "outputs": [],
   "source": [
    "def create_pattern(array_):\n",
    "    start = np.tile(array_, (3, 1)).T.reshape(9, )\n",
    "    end = np.tile(array_, 3)\n",
    "    return np.concatenate((start, end), axis=None)"
   ]
  },
  {
   "cell_type": "code",
   "execution_count": 18,
   "id": "936f6ca3",
   "metadata": {},
   "outputs": [
    {
     "data": {
      "text/plain": [
       "array([1, 1, 1, 2, 2, 2, 3, 3, 3, 1, 2, 3, 1, 2, 3, 1, 2, 3])"
      ]
     },
     "execution_count": 18,
     "metadata": {},
     "output_type": "execute_result"
    }
   ],
   "source": [
    "pattern = np.array([1, 1, 1, 2, 2, 2, 3, 3, 3, 1, 2, 3, 1, 2, 3, 1, 2, 3])\n",
    "a = np.array([1, 2, 3])\n",
    "\n",
    "create_pattern(a)"
   ]
  },
  {
   "cell_type": "markdown",
   "id": "eaebab19",
   "metadata": {},
   "source": [
    "Task 10. Return the same values between arrays a and b."
   ]
  },
  {
   "cell_type": "code",
   "execution_count": 19,
   "id": "ddeb9cff",
   "metadata": {},
   "outputs": [
    {
     "data": {
      "text/plain": [
       "array([2, 4])"
      ]
     },
     "execution_count": 19,
     "metadata": {},
     "output_type": "execute_result"
    }
   ],
   "source": [
    "a = np.array([1, 2, 3, 2, 3, 4, 3, 4, 5, 6])\n",
    "b = np.array([7, 2, 10, 2, 7, 4, 9, 4, 9, 8])\n",
    "\n",
    "np.intersect1d(a, b)"
   ]
  },
  {
   "cell_type": "markdown",
   "id": "cbfe14a0",
   "metadata": {},
   "source": [
    "Task 11. Return values from array a that are not in array b."
   ]
  },
  {
   "cell_type": "code",
   "execution_count": 20,
   "id": "a94ebad1",
   "metadata": {},
   "outputs": [
    {
     "data": {
      "text/plain": [
       "array([1, 2, 3, 4])"
      ]
     },
     "execution_count": 20,
     "metadata": {},
     "output_type": "execute_result"
    }
   ],
   "source": [
    "a = np.array([1, 2, 3, 4, 5])\n",
    "b = np.array([5, 6, 7, 8, 9])\n",
    "\n",
    "np.setdiff1d(a, b)"
   ]
  },
  {
   "cell_type": "markdown",
   "id": "06b625a2",
   "metadata": {},
   "source": [
    "Task 12. A function that returns the indices of elements that match in two arrays. "
   ]
  },
  {
   "cell_type": "code",
   "execution_count": 21,
   "id": "b39a0eb7",
   "metadata": {},
   "outputs": [],
   "source": [
    "def get_match_indices(a, b):\n",
    "    return np.where(a == b)"
   ]
  },
  {
   "cell_type": "code",
   "execution_count": 22,
   "id": "99bd9b3d",
   "metadata": {},
   "outputs": [
    {
     "data": {
      "text/plain": [
       "(array([1, 3, 5, 7]),)"
      ]
     },
     "execution_count": 22,
     "metadata": {},
     "output_type": "execute_result"
    }
   ],
   "source": [
    "get_match_indices(np.array([1, 2, 3, 2, 3, 4, 3, 4, 5, 6]), np.array([7, 2, 10, 2, 7, 4, 9, 4, 9, 8]))"
   ]
  },
  {
   "cell_type": "markdown",
   "id": "6fb685a6",
   "metadata": {},
   "source": [
    "Task 13. Return all values that are greater than 5 and less than or equal to 10."
   ]
  },
  {
   "cell_type": "code",
   "execution_count": 23,
   "id": "a6a27e88",
   "metadata": {},
   "outputs": [
    {
     "data": {
      "text/plain": [
       "array([ 6,  9, 10])"
      ]
     },
     "execution_count": 23,
     "metadata": {},
     "output_type": "execute_result"
    }
   ],
   "source": [
    "a = np.array([2, 6, 1, 9, 10, 3, 27])\n",
    "\n",
    "a[np.logical_and(a>5, a<=10)]"
   ]
  },
  {
   "cell_type": "markdown",
   "id": "df28c33f",
   "metadata": {},
   "source": [
    "Task 14. Convert a maxx function that works with two scalar values so that it can work with arrays."
   ]
  },
  {
   "cell_type": "code",
   "execution_count": 24,
   "id": "6cd1e59b",
   "metadata": {},
   "outputs": [],
   "source": [
    "def maxx(x, y):\n",
    "    if x >= y:\n",
    "        return x\n",
    "    else:\n",
    "        return y"
   ]
  },
  {
   "cell_type": "code",
   "execution_count": 25,
   "id": "fefbd6f7",
   "metadata": {},
   "outputs": [
    {
     "data": {
      "text/plain": [
       "array([6., 7., 9., 8., 9., 7., 5.])"
      ]
     },
     "execution_count": 25,
     "metadata": {},
     "output_type": "execute_result"
    }
   ],
   "source": [
    "vector_maxx = np.vectorize(maxx, otypes=[float])\n",
    "vector_maxx(np.array([5, 7, 9, 8, 6, 4, 5]), np.array([6, 3, 4, 8, 9, 7, 1]))"
   ]
  },
  {
   "cell_type": "markdown",
   "id": "1d1d6d80",
   "metadata": {},
   "source": [
    "Task 15. A function that swaps columns 1 and 2."
   ]
  },
  {
   "cell_type": "code",
   "execution_count": 26,
   "id": "01615c53",
   "metadata": {},
   "outputs": [],
   "source": [
    "def swap_columns(array_, first_idx, second_idx):\n",
    "    array_[:, [first_idx, second_idx]] = array_[:, [second_idx, first_idx]]\n",
    "    return array_"
   ]
  },
  {
   "cell_type": "code",
   "execution_count": 27,
   "id": "fbd8f35b",
   "metadata": {},
   "outputs": [
    {
     "data": {
      "text/plain": [
       "array([[0, 2, 1],\n",
       "       [3, 5, 4],\n",
       "       [6, 8, 7]])"
      ]
     },
     "execution_count": 27,
     "metadata": {},
     "output_type": "execute_result"
    }
   ],
   "source": [
    "swap_columns(np.arange(9).reshape(3, 3), 1, 2)"
   ]
  },
  {
   "cell_type": "markdown",
   "id": "2a970868",
   "metadata": {},
   "source": [
    "Task 16. Create a 2D array of size 5x3 which consists of arbitrary decimal numbers in the range between 5 and 10."
   ]
  },
  {
   "cell_type": "code",
   "execution_count": 28,
   "id": "104f7514",
   "metadata": {},
   "outputs": [
    {
     "data": {
      "text/plain": [
       "array([[7.89363453, 9.21470846, 7.31737533],\n",
       "       [9.98798096, 6.95522226, 9.21005556],\n",
       "       [6.1175971 , 5.15184461, 5.1538217 ],\n",
       "       [8.16945971, 7.23752207, 7.9527782 ],\n",
       "       [7.02259022, 6.65390401, 5.86407203]])"
      ]
     },
     "execution_count": 28,
     "metadata": {},
     "output_type": "execute_result"
    }
   ],
   "source": [
    "np.random.uniform(5, 10, [5, 3])"
   ]
  },
  {
   "cell_type": "markdown",
   "id": "def1d906",
   "metadata": {},
   "source": [
    "Task 17. Display only 3 decimal places in the numpy array."
   ]
  },
  {
   "cell_type": "code",
   "execution_count": 29,
   "id": "1aa52377",
   "metadata": {},
   "outputs": [
    {
     "data": {
      "text/plain": [
       "array([[0.623, 0.679, 0.393],\n",
       "       [0.512, 0.982, 0.348],\n",
       "       [0.142, 0.357, 0.726],\n",
       "       [0.608, 0.477, 0.908],\n",
       "       [0.46 , 0.393, 0.246]])"
      ]
     },
     "execution_count": 29,
     "metadata": {},
     "output_type": "execute_result"
    }
   ],
   "source": [
    "np.set_printoptions(precision=3)\n",
    "np.random.random((5, 3))"
   ]
  },
  {
   "cell_type": "markdown",
   "id": "95380f6b",
   "metadata": {},
   "source": [
    "Task 18. Print numpy array by changing scientific notation to engineering (1e-01 -> 0.1)."
   ]
  },
  {
   "cell_type": "code",
   "execution_count": 30,
   "id": "4d6ec74f",
   "metadata": {},
   "outputs": [
    {
     "data": {
      "text/plain": [
       "array([[0.000136, 0.000627, 0.00042 ],\n",
       "       [0.000521, 0.00084 , 0.000579],\n",
       "       [0.000238, 0.000586, 0.000283]])"
      ]
     },
     "execution_count": 30,
     "metadata": {},
     "output_type": "execute_result"
    }
   ],
   "source": [
    "np.set_printoptions(precision=6, suppress=True)\n",
    "np.random.random([3, 3])/1e3"
   ]
  },
  {
   "cell_type": "markdown",
   "id": "4b754be8",
   "metadata": {},
   "source": [
    "Task 19. Print the entire numpy array without trimming the values."
   ]
  },
  {
   "cell_type": "code",
   "execution_count": 31,
   "id": "ad109583",
   "metadata": {},
   "outputs": [
    {
     "data": {
      "text/plain": [
       "array([ 0,  1,  2,  3,  4,  5,  6,  7,  8,  9, 10, 11, 12, 13, 14])"
      ]
     },
     "execution_count": 31,
     "metadata": {},
     "output_type": "execute_result"
    }
   ],
   "source": [
    "np.set_printoptions(threshold=sys.maxsize)\n",
    "np.arange(15)"
   ]
  },
  {
   "cell_type": "markdown",
   "id": "c3cfe72c",
   "metadata": {},
   "source": [
    "Task 20. Import the iris dataset keeping the text intact."
   ]
  },
  {
   "cell_type": "code",
   "execution_count": 32,
   "id": "746e79c6",
   "metadata": {},
   "outputs": [],
   "source": [
    "iris_url = 'https://archive.ics.uci.edu/ml/machine-learning-databases/iris/iris.data'\n",
    "iris = np.genfromtxt(iris_url, delimiter=',', dtype='object')\n",
    "names = ('sepallength', 'sepalwidth', 'petallength', 'petalwidth', 'species')"
   ]
  },
  {
   "cell_type": "markdown",
   "id": "6a630b4c",
   "metadata": {},
   "source": [
    "Task 21. Get the text for the species column."
   ]
  },
  {
   "cell_type": "code",
   "execution_count": 33,
   "id": "8a1b096c",
   "metadata": {},
   "outputs": [],
   "source": [
    "iris_1d = np.genfromtxt(iris_url, delimiter=',', dtype=None)\n",
    "species = [row[4] for row in iris_1d]"
   ]
  },
  {
   "cell_type": "markdown",
   "id": "fc012745",
   "metadata": {},
   "source": [
    "Task 22. Change the 1D iris to a 2D array iris_2d by omitting the species."
   ]
  },
  {
   "cell_type": "code",
   "execution_count": 34,
   "id": "ea154564",
   "metadata": {},
   "outputs": [],
   "source": [
    "iris_1d = np.genfromtxt(iris_url, delimiter=',', dtype=None)\n",
    "iris_2d = np.array([row.tolist()[:4] for row in iris_1d])"
   ]
  },
  {
   "cell_type": "markdown",
   "id": "42b7a6d8",
   "metadata": {},
   "source": [
    "Task 23. Find the mean, median, standard deviation of the  sepallength column."
   ]
  },
  {
   "cell_type": "code",
   "execution_count": 35,
   "id": "48d2b4a0",
   "metadata": {},
   "outputs": [
    {
     "name": "stdout",
     "output_type": "stream",
     "text": [
      "Mean:  5.843333333333334\n",
      "Median:  5.8\n",
      "Standard deviation:  0.8253012917851409\n"
     ]
    }
   ],
   "source": [
    "iris_sepallength = np.genfromtxt(iris_url, delimiter=',', dtype='float', usecols=(0))\n",
    "\n",
    "print('Mean: ', np.mean(iris_sepallength))\n",
    "print('Median: ', np.median(iris_sepallength))\n",
    "print('Standard deviation: ', np.std(iris_sepallength))"
   ]
  },
  {
   "cell_type": "markdown",
   "id": "46590550",
   "metadata": {},
   "source": [
    "Task 24. Create a normalized form with iris's sepallength with values between 0 and 1 so that the minimum value is 0 and the maximum is 1."
   ]
  },
  {
   "cell_type": "code",
   "execution_count": 36,
   "id": "9fdacc12",
   "metadata": {},
   "outputs": [],
   "source": [
    "iris_sepallength = np.genfromtxt(iris_url, delimiter=',', dtype='float', usecols=(0))\n",
    "sepallength_normalize = (iris_sepallength - np.min(iris_sepallength))/np.ptp(iris_sepallength)"
   ]
  },
  {
   "cell_type": "markdown",
   "id": "736f1b69",
   "metadata": {},
   "source": [
    "Task 25. Calculate the 5th and 95th percentiles of the iris's sepallength."
   ]
  },
  {
   "cell_type": "code",
   "execution_count": 37,
   "id": "8655c0e5",
   "metadata": {},
   "outputs": [
    {
     "name": "stdout",
     "output_type": "stream",
     "text": [
      "5th percentiles:  4.6\n",
      "95th percentiles:  7.254999999999998\n"
     ]
    }
   ],
   "source": [
    "iris_sepallength = np.genfromtxt(iris_url, delimiter=',', dtype='float', usecols=(0))\n",
    "\n",
    "print('5th percentiles: ', np.percentile(iris_sepallength, 5))\n",
    "print('95th percentiles: ', np.percentile(iris_sepallength, 95))"
   ]
  },
  {
   "cell_type": "markdown",
   "id": "b1395619",
   "metadata": {},
   "source": [
    "Task 26. Find the positions of the missing values in the first column of iris_2d's sepallength."
   ]
  },
  {
   "cell_type": "code",
   "execution_count": 38,
   "id": "b0dbceaa",
   "metadata": {},
   "outputs": [],
   "source": [
    "iris_2d = np.genfromtxt(iris_url, delimiter=',', dtype='float', usecols=(0,1,2,3))\n",
    "iris_2d[np.random.randint(150, size=20), np.random.randint(4, size=20)] = np.nan\n",
    "idxs_sepallength_nan = np.where(np.isnan(iris_2d[:, 0]))"
   ]
  },
  {
   "cell_type": "markdown",
   "id": "b9cffafd",
   "metadata": {},
   "source": [
    "Task 27. Select the iris_2d dataset lines that do not have nan values. "
   ]
  },
  {
   "cell_type": "code",
   "execution_count": 39,
   "id": "67d4e181",
   "metadata": {},
   "outputs": [],
   "source": [
    "iris_2d_without_nan = iris_2d[[~np.any(np.isnan(row)) for row in iris_2d], :]"
   ]
  },
  {
   "cell_type": "markdown",
   "id": "a1dc60d9",
   "metadata": {},
   "source": [
    "Task 28. Find the correlation between SepalLength(1st column) and PetalLength(3rd\n",
    "column) in iris_2d. "
   ]
  },
  {
   "cell_type": "code",
   "execution_count": 40,
   "id": "7e1c5e83",
   "metadata": {},
   "outputs": [
    {
     "data": {
      "text/plain": [
       "array([[1.      , 0.871754],\n",
       "       [0.871754, 1.      ]])"
      ]
     },
     "execution_count": 40,
     "metadata": {},
     "output_type": "execute_result"
    }
   ],
   "source": [
    "iris_2d = np.genfromtxt(iris_url, delimiter=',', dtype='float', usecols=(0,2))\n",
    "\n",
    "np.corrcoef(iris_2d[:, 0], iris_2d[:, 1])"
   ]
  },
  {
   "cell_type": "markdown",
   "id": "333adcb0",
   "metadata": {},
   "source": [
    "Task 29. Calculate the Euclidean distances between two arrays."
   ]
  },
  {
   "cell_type": "code",
   "execution_count": 41,
   "id": "81406671",
   "metadata": {},
   "outputs": [
    {
     "data": {
      "text/plain": [
       "array([4.123106, 5.385165, 6.708204, 8.062258, 9.433981])"
      ]
     },
     "execution_count": 41,
     "metadata": {},
     "output_type": "execute_result"
    }
   ],
   "source": [
    "a = np.array([1, 2, 3, 4, 5])\n",
    "b = np.array([4, 5, 6, 7, 8])\n",
    "c = np.vstack((a, b))\n",
    "\n",
    "np.linalg.norm(c, axis=0)"
   ]
  },
  {
   "cell_type": "markdown",
   "id": "c174bec5",
   "metadata": {},
   "source": [
    "Task 30. Find all the peaks in the 1D numpy array a. Peaks are points that have smaller neighbors on two sides."
   ]
  },
  {
   "cell_type": "code",
   "execution_count": 42,
   "id": "f3bac341",
   "metadata": {},
   "outputs": [
    {
     "data": {
      "text/plain": [
       "(array([2, 5]),)"
      ]
     },
     "execution_count": 42,
     "metadata": {},
     "output_type": "execute_result"
    }
   ],
   "source": [
    "a = np.array([1, 3, 7, 1, 2, 6, 0, 1])\n",
    "np.where(np.diff(a) < 0)"
   ]
  },
  {
   "cell_type": "code",
   "execution_count": null,
   "id": "01e88f5e",
   "metadata": {},
   "outputs": [],
   "source": []
  }
 ],
 "metadata": {
  "kernelspec": {
   "display_name": "Python 3",
   "language": "python",
   "name": "python3"
  },
  "language_info": {
   "codemirror_mode": {
    "name": "ipython",
    "version": 3
   },
   "file_extension": ".py",
   "mimetype": "text/x-python",
   "name": "python",
   "nbconvert_exporter": "python",
   "pygments_lexer": "ipython3",
   "version": "3.6.9"
  }
 },
 "nbformat": 4,
 "nbformat_minor": 5
}
