{
 "cells": [
  {
   "cell_type": "markdown",
   "id": "coated-calibration",
   "metadata": {},
   "source": [
    "# Description"
   ]
  },
  {
   "cell_type": "markdown",
   "id": "direct-roberts",
   "metadata": {},
   "source": [
    "This work is based on learning the basics of working with the Numerical Python library."
   ]
  },
  {
   "cell_type": "markdown",
   "id": "effective-acquisition",
   "metadata": {},
   "source": [
    "# Tasks"
   ]
  },
  {
   "cell_type": "code",
   "execution_count": 1,
   "id": "middle-greece",
   "metadata": {},
   "outputs": [],
   "source": [
    "import numpy as np"
   ]
  },
  {
   "cell_type": "markdown",
   "id": "taken-merchandise",
   "metadata": {},
   "source": [
    "Task 1. A function that creates a 1D array of numbers from 0 to 9."
   ]
  },
  {
   "cell_type": "code",
   "execution_count": 2,
   "id": "assisted-scheduling",
   "metadata": {},
   "outputs": [],
   "source": [
    "def create_1D_array(x: int):\n",
    "    result = np.array([y for y in range(x+1)])\n",
    "    return result"
   ]
  },
  {
   "cell_type": "code",
   "execution_count": 3,
   "id": "interstate-behavior",
   "metadata": {},
   "outputs": [
    {
     "data": {
      "text/plain": [
       "array([0, 1, 2, 3, 4, 5, 6, 7, 8, 9])"
      ]
     },
     "execution_count": 3,
     "metadata": {},
     "output_type": "execute_result"
    }
   ],
   "source": [
    "create_1D_array(9)"
   ]
  },
  {
   "cell_type": "markdown",
   "id": "fitting-daughter",
   "metadata": {},
   "source": [
    "Task 2. A function that creates a 3 × 3 numpy array consisting of all True’s."
   ]
  },
  {
   "cell_type": "code",
   "execution_count": 4,
   "id": "beautiful-wholesale",
   "metadata": {},
   "outputs": [],
   "source": [
    "def create_3D_array():\n",
    "    result = np.full((3,3), True)\n",
    "    return result"
   ]
  },
  {
   "cell_type": "code",
   "execution_count": 5,
   "id": "sized-peoples",
   "metadata": {},
   "outputs": [
    {
     "data": {
      "text/plain": [
       "array([[ True,  True,  True],\n",
       "       [ True,  True,  True],\n",
       "       [ True,  True,  True]])"
      ]
     },
     "execution_count": 5,
     "metadata": {},
     "output_type": "execute_result"
    }
   ],
   "source": [
    "create_3D_array()"
   ]
  },
  {
   "cell_type": "markdown",
   "id": "liable-samuel",
   "metadata": {},
   "source": [
    "Task 3. A function that returns all odd numbers from an array. "
   ]
  },
  {
   "cell_type": "code",
   "execution_count": 6,
   "id": "pretty-reproduction",
   "metadata": {},
   "outputs": [],
   "source": [
    "def get_odd(array_):\n",
    "    return array_[array_%2 == 1]"
   ]
  },
  {
   "cell_type": "code",
   "execution_count": 7,
   "id": "coordinate-frequency",
   "metadata": {},
   "outputs": [
    {
     "data": {
      "text/plain": [
       "array([1, 3, 5, 7, 9])"
      ]
     },
     "execution_count": 7,
     "metadata": {},
     "output_type": "execute_result"
    }
   ],
   "source": [
    "get_odd(np.array([0, 1, 2, 3, 4, 5, 6, 7, 8, 9]))"
   ]
  },
  {
   "cell_type": "markdown",
   "id": "hawaiian-factory",
   "metadata": {},
   "source": [
    "Task 4. A function that replaces all odd numbers in an array by -1."
   ]
  },
  {
   "cell_type": "code",
   "execution_count": 8,
   "id": "religious-acrobat",
   "metadata": {},
   "outputs": [],
   "source": [
    "def replace_odd(array_):\n",
    "    array_[array_%2 == 1] = -1\n",
    "    return array_"
   ]
  },
  {
   "cell_type": "code",
   "execution_count": 9,
   "id": "equivalent-guidance",
   "metadata": {},
   "outputs": [
    {
     "data": {
      "text/plain": [
       "array([ 0, -1,  2, -1,  4, -1,  6, -1,  8, -1])"
      ]
     },
     "execution_count": 9,
     "metadata": {},
     "output_type": "execute_result"
    }
   ],
   "source": [
    "replace_odd(np.array([0, 1, 2, 3, 4, 5, 6, 7, 8, 9]))"
   ]
  },
  {
   "cell_type": "markdown",
   "id": "miniature-halloween",
   "metadata": {},
   "source": [
    "Task 5. A function that replaces all odd numbers with -1 without changing the array (where)."
   ]
  },
  {
   "cell_type": "code",
   "execution_count": 10,
   "id": "flexible-venice",
   "metadata": {},
   "outputs": [],
   "source": [
    "def replace_odd_where(array_):\n",
    "    return np.where(array_%2 == 1, -1, array_)"
   ]
  },
  {
   "cell_type": "code",
   "execution_count": 11,
   "id": "impossible-california",
   "metadata": {},
   "outputs": [
    {
     "data": {
      "text/plain": [
       "array([ 0, -1,  2, -1,  4, -1,  6, -1,  8, -1])"
      ]
     },
     "execution_count": 11,
     "metadata": {},
     "output_type": "execute_result"
    }
   ],
   "source": [
    "replace_odd_where(np.array([0, 1, 2, 3, 4, 5, 6, 7, 8, 9]))"
   ]
  },
  {
   "cell_type": "code",
   "execution_count": null,
   "id": "favorite-secretary",
   "metadata": {},
   "outputs": [],
   "source": []
  }
 ],
 "metadata": {
  "kernelspec": {
   "display_name": "Python 3",
   "language": "python",
   "name": "python3"
  },
  "language_info": {
   "codemirror_mode": {
    "name": "ipython",
    "version": 3
   },
   "file_extension": ".py",
   "mimetype": "text/x-python",
   "name": "python",
   "nbconvert_exporter": "python",
   "pygments_lexer": "ipython3",
   "version": "3.6.9"
  }
 },
 "nbformat": 4,
 "nbformat_minor": 5
}
