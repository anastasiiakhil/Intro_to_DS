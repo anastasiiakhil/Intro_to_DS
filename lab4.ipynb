{
 "cells": [
  {
   "cell_type": "markdown",
   "id": "1457960d",
   "metadata": {},
   "source": [
    "# Description"
   ]
  },
  {
   "cell_type": "markdown",
   "id": "a0ab2386",
   "metadata": {},
   "source": [
    "This work describes the basics of working in the PyTorch library (tensors, arithmetic operations with tensors, storages)."
   ]
  },
  {
   "cell_type": "markdown",
   "id": "8df8b3be",
   "metadata": {},
   "source": [
    "# Tasks"
   ]
  },
  {
   "cell_type": "code",
   "execution_count": 1,
   "id": "595dd0e9",
   "metadata": {},
   "outputs": [],
   "source": [
    "import torch"
   ]
  },
  {
   "cell_type": "markdown",
   "id": "dbd73198",
   "metadata": {},
   "source": [
    "Task 1. Create a tensor from the list(range(9)). Predict and check what size, offset and stride it has."
   ]
  },
  {
   "cell_type": "code",
   "execution_count": 2,
   "id": "fa621f37",
   "metadata": {},
   "outputs": [
    {
     "data": {
      "text/plain": [
       "tensor([0, 1, 2, 3, 4, 5, 6, 7, 8])"
      ]
     },
     "execution_count": 2,
     "metadata": {},
     "output_type": "execute_result"
    }
   ],
   "source": [
    "a = torch.tensor(list(range(9)))\n",
    "a"
   ]
  },
  {
   "cell_type": "code",
   "execution_count": 3,
   "id": "6b8ea176",
   "metadata": {},
   "outputs": [
    {
     "name": "stdout",
     "output_type": "stream",
     "text": [
      "Shape:  torch.Size([9])\n",
      "Offset:  0\n",
      "Stride:  (1,)\n"
     ]
    }
   ],
   "source": [
    "print('Shape: ', a.shape)\n",
    "print('Offset: ', a.storage_offset())\n",
    "print('Stride: ', a.stride())"
   ]
  },
  {
   "cell_type": "markdown",
   "id": "09f2578d",
   "metadata": {},
   "source": [
    "Task 2. Create a tensor b = a.view (3, 3). And calculate the value of b [1, 1]."
   ]
  },
  {
   "cell_type": "code",
   "execution_count": 4,
   "id": "50dfc3fd",
   "metadata": {},
   "outputs": [
    {
     "data": {
      "text/plain": [
       "tensor([[0, 1, 2],\n",
       "        [3, 4, 5],\n",
       "        [6, 7, 8]])"
      ]
     },
     "execution_count": 4,
     "metadata": {},
     "output_type": "execute_result"
    }
   ],
   "source": [
    "b = a.view (3, 3)\n",
    "b"
   ]
  },
  {
   "cell_type": "code",
   "execution_count": 5,
   "id": "b8712de6",
   "metadata": {},
   "outputs": [
    {
     "data": {
      "text/plain": [
       "tensor(4)"
      ]
     },
     "execution_count": 5,
     "metadata": {},
     "output_type": "execute_result"
    }
   ],
   "source": [
    "b[1, 1]"
   ]
  },
  {
   "cell_type": "markdown",
   "id": "789c2f27",
   "metadata": {},
   "source": [
    "Task 3. Create a tensor c = b [1:, 1:]. Predict and check what size, offset and stride it has."
   ]
  },
  {
   "cell_type": "code",
   "execution_count": 6,
   "id": "94697af4",
   "metadata": {},
   "outputs": [
    {
     "data": {
      "text/plain": [
       "tensor([[4, 5],\n",
       "        [7, 8]])"
      ]
     },
     "execution_count": 6,
     "metadata": {},
     "output_type": "execute_result"
    }
   ],
   "source": [
    "c = b [1:, 1:]\n",
    "c"
   ]
  },
  {
   "cell_type": "code",
   "execution_count": 7,
   "id": "939e3a11",
   "metadata": {},
   "outputs": [
    {
     "name": "stdout",
     "output_type": "stream",
     "text": [
      "Shape:  torch.Size([2, 2])\n",
      "Offset:  4\n",
      "Stride:  (3, 1)\n"
     ]
    }
   ],
   "source": [
    "print('Shape: ', c.shape)\n",
    "print('Offset: ', c.storage_offset())\n",
    "print('Stride: ', c.stride())"
   ]
  },
  {
   "cell_type": "code",
   "execution_count": null,
   "id": "2e7d3ea1",
   "metadata": {},
   "outputs": [],
   "source": []
  }
 ],
 "metadata": {
  "kernelspec": {
   "display_name": "Python 3",
   "language": "python",
   "name": "python3"
  },
  "language_info": {
   "codemirror_mode": {
    "name": "ipython",
    "version": 3
   },
   "file_extension": ".py",
   "mimetype": "text/x-python",
   "name": "python",
   "nbconvert_exporter": "python",
   "pygments_lexer": "ipython3",
   "version": "3.6.9"
  }
 },
 "nbformat": 4,
 "nbformat_minor": 5
}
