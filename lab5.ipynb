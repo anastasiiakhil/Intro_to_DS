{
 "cells": [
  {
   "cell_type": "markdown",
   "id": "900949eb",
   "metadata": {},
   "source": [
    "# Description"
   ]
  },
  {
   "cell_type": "markdown",
   "id": "4a27061a",
   "metadata": {},
   "source": [
    "This work provides theoretical and practical knowledge about gradient descent, optimizers and loss functions."
   ]
  },
  {
   "cell_type": "markdown",
   "id": "6322ddd0",
   "metadata": {},
   "source": [
    "# Tasks"
   ]
  },
  {
   "cell_type": "code",
   "execution_count": 1,
   "id": "a57f11d6",
   "metadata": {},
   "outputs": [],
   "source": [
    "import torch\n",
    "import numpy as np\n",
    "import matplotlib.pyplot as plt"
   ]
  },
  {
   "cell_type": "markdown",
   "id": "2ab99702",
   "metadata": {},
   "source": [
    "Task 1. Implement the gradient calculation for the function."
   ]
  },
  {
   "cell_type": "code",
   "execution_count": 2,
   "id": "a0ddbfad",
   "metadata": {},
   "outputs": [
    {
     "data": {
      "text/plain": [
       "tensor([[ 20.,  40.,  60.,  80.],\n",
       "        [100., 120., 140., 160.],\n",
       "        [180., 200., 220., 240.]])"
      ]
     },
     "execution_count": 2,
     "metadata": {},
     "output_type": "execute_result"
    }
   ],
   "source": [
    "x = torch.tensor([[1., 2., 3., 4.], [5., 6., 7., 8.], [9., 10., 11., 12.]], requires_grad=True)\n",
    "func = 10 * (x ** 2).sum()\n",
    "func.backward()\n",
    "x.grad"
   ]
  },
  {
   "cell_type": "code",
   "execution_count": 3,
   "id": "5ae92a1b",
   "metadata": {},
   "outputs": [
    {
     "name": "stdout",
     "output_type": "stream",
     "text": [
      "Last function:  <MulBackward0 object at 0x7f973e0376d8>\n",
      "Penultimate function:  <SumBackward0 object at 0x7f973e037748>\n",
      "Pre-penultimate function:  <PowBackward0 object at 0x7f973e0376d8>\n",
      "Final function:  <AccumulateGrad object at 0x7f973e0376a0>\n"
     ]
    }
   ],
   "source": [
    "print('Last function: ', func.grad_fn)\n",
    "print('Penultimate function: ', func.grad_fn.next_functions[0][0])\n",
    "print('Pre-penultimate function: ', func.grad_fn.next_functions[0][0].next_functions[0][0])\n",
    "print('Final function: ', func.grad_fn.next_functions[0][0].next_functions[0][0].next_functions[0][0])"
   ]
  },
  {
   "cell_type": "markdown",
   "id": "70c44e19",
   "metadata": {},
   "source": [
    "Task 2. Implement the gradient calculation for the function. The gradient descent step is 0.001. Update the tensor and reset the gradient."
   ]
  },
  {
   "cell_type": "code",
   "execution_count": 4,
   "id": "541448f4",
   "metadata": {},
   "outputs": [
    {
     "data": {
      "text/plain": [
       "tensor([[0.0201, 0.0109],\n",
       "        [0.0449, 0.0351]])"
      ]
     },
     "execution_count": 4,
     "metadata": {},
     "output_type": "execute_result"
    }
   ],
   "source": [
    "w = torch.tensor([[5., 10.], [1., 2.]], requires_grad=True)\n",
    "func_2 = (torch.log(torch.log(w + 7))).prod()\n",
    "func_2.backward()\n",
    "w.grad"
   ]
  },
  {
   "cell_type": "code",
   "execution_count": 5,
   "id": "d45dab62",
   "metadata": {},
   "outputs": [
    {
     "data": {
      "text/plain": [
       "tensor([[ 5.0000, 10.0000],\n",
       "        [ 1.0000,  2.0000]])"
      ]
     },
     "execution_count": 5,
     "metadata": {},
     "output_type": "execute_result"
    }
   ],
   "source": [
    "w.data -= 0.001 * w.grad\n",
    "w.data"
   ]
  },
  {
   "cell_type": "code",
   "execution_count": 6,
   "id": "39336ebc",
   "metadata": {},
   "outputs": [
    {
     "data": {
      "text/plain": [
       "tensor([[0., 0.],\n",
       "        [0., 0.]])"
      ]
     },
     "execution_count": 6,
     "metadata": {},
     "output_type": "execute_result"
    }
   ],
   "source": [
    "w.grad.zero_()\n",
    "w.grad"
   ]
  },
  {
   "cell_type": "markdown",
   "id": "fef6941f",
   "metadata": {},
   "source": [
    "Task 3. Implement the gradient calculation for the function. The gradient descent step is 0.001. Calculate the tensor w, in step t = 500."
   ]
  },
  {
   "cell_type": "code",
   "execution_count": 7,
   "id": "f337ab16",
   "metadata": {},
   "outputs": [],
   "source": [
    "w = torch.tensor([[5., 10.], [1., 2.]], requires_grad=True)\n",
    "alpha = 0.001"
   ]
  },
  {
   "cell_type": "code",
   "execution_count": 8,
   "id": "def9119b",
   "metadata": {},
   "outputs": [
    {
     "data": {
      "text/plain": [
       "tensor([[4.9900, 9.9948],\n",
       "        [0.9775, 1.9825]], requires_grad=True)"
      ]
     },
     "execution_count": 8,
     "metadata": {},
     "output_type": "execute_result"
    }
   ],
   "source": [
    "for t in range(500):\n",
    "    func_3 = (w + 7).log().log().prod()\n",
    "    func_3.backward()\n",
    "    w.data -= alpha * w.grad\n",
    "    w.grad.zero_()\n",
    "w"
   ]
  },
  {
   "cell_type": "markdown",
   "id": "9e79c3fb",
   "metadata": {},
   "source": [
    "Task 4. Rewrite the previous example (task 3) using torch.optim.SGD. The gradient descent step is 0.001. Calculate the tensor w, in step t = 500."
   ]
  },
  {
   "cell_type": "code",
   "execution_count": 9,
   "id": "2795600b",
   "metadata": {},
   "outputs": [],
   "source": [
    "def make_gradient_step(var, alpha, optimizer):\n",
    "    func_res = (var + 7).log().log().prod()\n",
    "    func_res.backward()\n",
    "    optimizer.step()\n",
    "    optimizer.zero_grad()"
   ]
  },
  {
   "cell_type": "code",
   "execution_count": 10,
   "id": "d859567c",
   "metadata": {},
   "outputs": [],
   "source": [
    "w = torch.tensor([[5., 10.], [1., 2.]], requires_grad=True)\n",
    "alpha = 0.001\n",
    "optimizer = torch.optim.SGD([w], lr=alpha)"
   ]
  },
  {
   "cell_type": "code",
   "execution_count": 11,
   "id": "3ac8a1cf",
   "metadata": {},
   "outputs": [
    {
     "data": {
      "text/plain": [
       "tensor([[4.9900, 9.9948],\n",
       "        [0.9775, 1.9825]], requires_grad=True)"
      ]
     },
     "execution_count": 11,
     "metadata": {},
     "output_type": "execute_result"
    }
   ],
   "source": [
    "for i in range(500):\n",
    "    make_gradient_step(w, alpha, optimizer)\n",
    "w"
   ]
  },
  {
   "cell_type": "markdown",
   "id": "07a2834d",
   "metadata": {},
   "source": [
    "Task 5. Create a model that predicts the yield of apples and oranges (target variables) by the average temperature, rainfall and humidity (input variables or features) in the region."
   ]
  },
  {
   "cell_type": "code",
   "execution_count": 12,
   "id": "77a704c9",
   "metadata": {},
   "outputs": [
    {
     "data": {
      "text/plain": [
       "<matplotlib.image.AxesImage at 0x7f973e2c6390>"
      ]
     },
     "execution_count": 12,
     "metadata": {},
     "output_type": "execute_result"
    },
    {
     "data": {
      "image/png": "[encoded data removed]",
      "text/plain": [
       "<Figure size 720x720 with 1 Axes>"
      ]
     },
     "metadata": {
      "needs_background": "light"
     },
     "output_type": "display_data"
    }
   ],
   "source": [
    "fig = plt.figure(figsize=(10, 10))\n",
    "plt.imshow(plt.imread('data/yield.png'))"
   ]
  },
  {
   "cell_type": "code",
   "execution_count": 13,
   "id": "c02450aa",
   "metadata": {},
   "outputs": [],
   "source": [
    "def reg_model(x):\n",
    "    return x @ w.t() + b"
   ]
  },
  {
   "cell_type": "code",
   "execution_count": 14,
   "id": "dac3cfb6",
   "metadata": {},
   "outputs": [],
   "source": [
    "def mse(t1, t2):\n",
    "    diff = t1 - t2\n",
    "    return torch.sum(diff*diff) / diff.numel()"
   ]
  },
  {
   "cell_type": "code",
   "execution_count": 15,
   "id": "7ff36326",
   "metadata": {},
   "outputs": [],
   "source": [
    "inputs = np.array([[73, 67, 43], [91, 88, 64], [87, 134, 58], [102, 43, 37], [69, 96, 70]], dtype='float32')\n",
    "targets = np.array([[56, 70], [81, 101], [119, 133], [22, 37], [103, 119]], dtype='float32')"
   ]
  },
  {
   "cell_type": "code",
   "execution_count": 16,
   "id": "b3f93519",
   "metadata": {},
   "outputs": [],
   "source": [
    "inputs = torch.from_numpy(inputs)\n",
    "targets = torch.from_numpy(targets)"
   ]
  },
  {
   "cell_type": "code",
   "execution_count": 17,
   "id": "b6249599",
   "metadata": {},
   "outputs": [],
   "source": [
    "w = torch.randn(2, 3, requires_grad=True)\n",
    "b = torch.randn(2, requires_grad=True)"
   ]
  },
  {
   "cell_type": "code",
   "execution_count": 18,
   "id": "a8873bc3",
   "metadata": {},
   "outputs": [],
   "source": [
    "fn_history = []\n",
    "\n",
    "for i in range(500):\n",
    "    preds = reg_model(inputs)\n",
    "    loss = mse(preds, targets)\n",
    "    loss.backward()\n",
    "\n",
    "    with torch.no_grad():\n",
    "        w -= w.grad * 1e-5\n",
    "        b -= b.grad * 1e-5\n",
    "        w.grad.zero_()\n",
    "        b.grad.zero_()\n",
    "        \n",
    "    fn_history.append(loss)"
   ]
  },
  {
   "cell_type": "code",
   "execution_count": 19,
   "id": "238ef52c",
   "metadata": {},
   "outputs": [
    {
     "name": "stdout",
     "output_type": "stream",
     "text": [
      "Target:  tensor([[ 56.,  70.],\n",
      "        [ 81., 101.],\n",
      "        [119., 133.],\n",
      "        [ 22.,  37.],\n",
      "        [103., 119.]])\n",
      "Prediction:  tensor([[ 57.1547,  71.7527],\n",
      "        [ 89.7071,  95.5077],\n",
      "        [101.6499, 142.3813],\n",
      "        [ 22.4108,  44.0026],\n",
      "        [114.0641, 106.2384]], grad_fn=<AddBackward0>)\n",
      "Loss:  tensor(83.3898, grad_fn=<DivBackward0>)\n"
     ]
    }
   ],
   "source": [
    "preds = reg_model(inputs)\n",
    "loss = mse(preds, targets)\n",
    "\n",
    "print('Target: ', targets)\n",
    "print('Prediction: ', preds)\n",
    "print('Loss: ', loss)"
   ]
  },
  {
   "cell_type": "code",
   "execution_count": 20,
   "id": "5a324dc8",
   "metadata": {},
   "outputs": [
    {
     "data": {
      "text/plain": [
       "Text(0, 0.5, 'loss')"
      ]
     },
     "execution_count": 20,
     "metadata": {},
     "output_type": "execute_result"
    },
    {
     "data": {
      "image/png": "[encoded data removed]",
      "text/plain": [
       "<Figure size 504x504 with 1 Axes>"
      ]
     },
     "metadata": {
      "needs_background": "light"
     },
     "output_type": "display_data"
    }
   ],
   "source": [
    "plt.figure(figsize=(7, 7))\n",
    "plt.plot(fn_history)\n",
    "plt.xlabel('step')\n",
    "plt.ylabel('loss')"
   ]
  },
  {
   "cell_type": "code",
   "execution_count": null,
   "id": "15ec8030",
   "metadata": {},
   "outputs": [],
   "source": []
  }
 ],
 "metadata": {
  "kernelspec": {
   "display_name": "Python 3",
   "language": "python",
   "name": "python3"
  },
  "language_info": {
   "codemirror_mode": {
    "name": "ipython",
    "version": 3
   },
   "file_extension": ".py",
   "mimetype": "text/x-python",
   "name": "python",
   "nbconvert_exporter": "python",
   "pygments_lexer": "ipython3",
   "version": "3.6.9"
  }
 },
 "nbformat": 4,
 "nbformat_minor": 5
}
