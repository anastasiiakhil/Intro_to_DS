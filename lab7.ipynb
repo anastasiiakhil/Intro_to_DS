{
 "cells": [
  {
   "cell_type": "markdown",
   "id": "a275fb6a",
   "metadata": {},
   "source": [
    "# Description"
   ]
  },
  {
   "cell_type": "markdown",
   "id": "ef994e47",
   "metadata": {},
   "source": [
    "The purpose of this work is to implement a neural network for classification problem."
   ]
  },
  {
   "cell_type": "code",
   "execution_count": 1,
   "id": "e863fb40",
   "metadata": {},
   "outputs": [],
   "source": [
    "import torch\n",
    "import random\n",
    "import numpy as np\n",
    "import pandas as pd\n",
    "\n",
    "import sklearn.datasets\n",
    "from sklearn.model_selection import train_test_split\n",
    "\n",
    "import matplotlib.pyplot as plt"
   ]
  },
  {
   "cell_type": "markdown",
   "id": "88216d12",
   "metadata": {},
   "source": [
    "# Tasks"
   ]
  },
  {
   "cell_type": "markdown",
   "id": "b1c23fc9",
   "metadata": {},
   "source": [
    "Task 1. Classify wines using wine dataset from sklearn library."
   ]
  },
  {
   "cell_type": "code",
   "execution_count": 2,
   "id": "60b23fb3",
   "metadata": {},
   "outputs": [],
   "source": [
    "random.seed(0)\n",
    "np.random.seed(0)\n",
    "torch.manual_seed(0);"
   ]
  },
  {
   "cell_type": "markdown",
   "id": "b6e53dd8",
   "metadata": {},
   "source": [
    "__Data preparation__"
   ]
  },
  {
   "cell_type": "code",
   "execution_count": 3,
   "id": "75c8365e",
   "metadata": {},
   "outputs": [
    {
     "name": "stdout",
     "output_type": "stream",
     "text": [
      "Data shape:  (178, 13)\n"
     ]
    }
   ],
   "source": [
    "wine = sklearn.datasets.load_wine()\n",
    "print('Data shape: ', wine.data.shape)"
   ]
  },
  {
   "cell_type": "code",
   "execution_count": 4,
   "id": "13528c97",
   "metadata": {},
   "outputs": [],
   "source": [
    "X_train, X_test, y_train, y_test = train_test_split(wine.data[:, :2], wine.target, test_size=0.3, shuffle=True)\n",
    "X_train = torch.FloatTensor(X_train)\n",
    "X_test = torch.FloatTensor(X_test)\n",
    "y_train = torch.LongTensor(y_train)\n",
    "y_test = torch.LongTensor(y_test)"
   ]
  },
  {
   "cell_type": "markdown",
   "id": "eb5eb635",
   "metadata": {},
   "source": [
    "__Model__"
   ]
  },
  {
   "cell_type": "code",
   "execution_count": 5,
   "id": "efeea114",
   "metadata": {},
   "outputs": [],
   "source": [
    "class WineNet(torch.nn.Module):\n",
    "    \n",
    "    def __init__(self, n_hidden_neurons):\n",
    "        super(WineNet, self).__init__()\n",
    "        \n",
    "        self.fc1 = torch.nn.Linear(2, n_hidden_neurons)\n",
    "        self.activ1 = torch.nn.Sigmoid()\n",
    "        \n",
    "        self.fc2 = torch.nn.Linear(n_hidden_neurons, n_hidden_neurons)\n",
    "        self.activ2 = torch.nn.Sigmoid()\n",
    "        \n",
    "        self.fc3 = torch.nn.Linear(n_hidden_neurons, n_hidden_neurons)\n",
    "        self.activ3 = torch.nn.Sigmoid()\n",
    "        \n",
    "        self.fc4 = torch.nn.Linear(n_hidden_neurons, 3)\n",
    "        self.sm = torch.nn.Softmax(dim=1)\n",
    "        \n",
    "    def forward(self, x):\n",
    "        x = self.fc1(x)\n",
    "        x = self.activ1(x)\n",
    "        x = self.fc2(x)\n",
    "        x = self.activ2(x)\n",
    "        x = self.fc3(x)\n",
    "        x = self.activ3(x)\n",
    "        x = self.fc4(x)\n",
    "        return x\n",
    "    \n",
    "    def inference(self, x):\n",
    "        x = self.forward(x)\n",
    "        x = self.sm(x)\n",
    "        return x"
   ]
  },
  {
   "cell_type": "code",
   "execution_count": 6,
   "id": "32e6314f",
   "metadata": {},
   "outputs": [
    {
     "data": {
      "text/plain": [
       "WineNet(\n",
       "  (fc1): Linear(in_features=2, out_features=10, bias=True)\n",
       "  (activ1): Sigmoid()\n",
       "  (fc2): Linear(in_features=10, out_features=10, bias=True)\n",
       "  (activ2): Sigmoid()\n",
       "  (fc3): Linear(in_features=10, out_features=10, bias=True)\n",
       "  (activ3): Sigmoid()\n",
       "  (fc4): Linear(in_features=10, out_features=3, bias=True)\n",
       "  (sm): Softmax(dim=1)\n",
       ")"
      ]
     },
     "execution_count": 6,
     "metadata": {},
     "output_type": "execute_result"
    }
   ],
   "source": [
    "wine_net = WineNet(10)\n",
    "wine_net"
   ]
  },
  {
   "cell_type": "markdown",
   "id": "5f53d6e3",
   "metadata": {},
   "source": [
    "__Loss and Optimizer__"
   ]
  },
  {
   "cell_type": "code",
   "execution_count": 7,
   "id": "99984cce",
   "metadata": {},
   "outputs": [],
   "source": [
    "loss = torch.nn.CrossEntropyLoss()\n",
    "optimizer = torch.optim.Adam(wine_net.parameters(), lr=1.0e-3)"
   ]
  },
  {
   "cell_type": "markdown",
   "id": "2282de52",
   "metadata": {},
   "source": [
    "__Model training__"
   ]
  },
  {
   "cell_type": "code",
   "execution_count": 8,
   "id": "81af098b",
   "metadata": {},
   "outputs": [
    {
     "name": "stdout",
     "output_type": "stream",
     "text": [
      "tensor(0.4074)\n",
      "tensor(0.4444)\n",
      "tensor(0.5370)\n",
      "tensor(0.6296)\n",
      "tensor(0.6852)\n",
      "tensor(0.7222)\n",
      "tensor(0.7407)\n",
      "tensor(0.8333)\n",
      "tensor(0.8519)\n",
      "tensor(0.8704)\n"
     ]
    }
   ],
   "source": [
    "batch_size = 10\n",
    "\n",
    "for epoch in range(5000):\n",
    "    order = np.random.permutation(len(X_train))\n",
    "    \n",
    "    for start_index in range(0, len(X_train), batch_size):\n",
    "        optimizer.zero_grad()\n",
    "        \n",
    "        batch_indexes = order[start_index:start_index+batch_size]\n",
    "        x_batch = X_train[batch_indexes]\n",
    "        y_batch = y_train[batch_indexes]\n",
    "        \n",
    "        preds = wine_net.forward(x_batch)\n",
    "        \n",
    "        loss_value = loss(preds, y_batch)\n",
    "        loss_value.backward()\n",
    "        \n",
    "        optimizer.step()\n",
    "        \n",
    "    if epoch % 500 == 0:\n",
    "        test_preds = wine_net.forward(X_test)\n",
    "        test_preds = test_preds.argmax(dim=1)\n",
    "        print((test_preds == y_test).float().mean())"
   ]
  },
  {
   "cell_type": "code",
   "execution_count": 9,
   "id": "707428c9",
   "metadata": {},
   "outputs": [
    {
     "data": {
      "image/png": "[encoded data removed]",
      "text/plain": [
       "<Figure size 720x576 with 1 Axes>"
      ]
     },
     "metadata": {
      "needs_background": "light"
     },
     "output_type": "display_data"
    }
   ],
   "source": [
    "plt.rcParams['figure.figsize'] = (10, 8)\n",
    "\n",
    "n_classes = 3\n",
    "plot_colors = ['g', 'orange', 'black']\n",
    "plot_step = 0.02\n",
    "\n",
    "x_min, x_max = X_train[:, 0].min() - 1, X_train[:, 0].max() + 1\n",
    "y_min, y_max = X_train[:, 1].min() - 1, X_train[:, 1].max() + 1\n",
    "\n",
    "xx, yy = torch.meshgrid(torch.arange(x_min, x_max, plot_step), \n",
    "                        torch.arange(y_min, y_max, plot_step))\n",
    "\n",
    "preds = wine_net.inference(torch.cat([xx.reshape(-1, 1), yy.reshape(-1, 1)], dim=1))\n",
    "preds_class = preds.data.numpy().argmax(axis=1)\n",
    "preds_class = preds_class.reshape(xx.shape)\n",
    "plt.contourf(xx, yy, preds_class, cmap='Accent')\n",
    "\n",
    "for i, color in zip(range(n_classes), plot_colors):\n",
    "    indexes = np.where(y_train == i)\n",
    "    plt.scatter(X_train[indexes, 0], X_train[indexes, 1], c=color, label=wine.target_names[i], cmap='Accent')\n",
    "    plt.xlabel(wine.feature_names[0])\n",
    "    plt.ylabel(wine.feature_names[1])\n",
    "    plt.legend()"
   ]
  },
  {
   "cell_type": "markdown",
   "id": "effdf1a6",
   "metadata": {},
   "source": [
    "Task 2. Solve the classification problem on the example of the Breast Cancer Wisconsin (Diagnostic) data\n",
    "set (can be downloaded from the sklearn library)."
   ]
  },
  {
   "cell_type": "markdown",
   "id": "dea3135f",
   "metadata": {},
   "source": [
    "__Data preparation__"
   ]
  },
  {
   "cell_type": "code",
   "execution_count": 10,
   "id": "f13d229f",
   "metadata": {},
   "outputs": [
    {
     "name": "stdout",
     "output_type": "stream",
     "text": [
      "Data shape:  (569, 30)\n"
     ]
    }
   ],
   "source": [
    "breast_cancer_df = sklearn.datasets.load_breast_cancer()\n",
    "print('Data shape: ', breast_cancer_df.data.shape)"
   ]
  },
  {
   "cell_type": "code",
   "execution_count": 11,
   "id": "e000bcce",
   "metadata": {},
   "outputs": [],
   "source": [
    "X, y = breast_cancer_df.data, breast_cancer_df.target\n",
    "X = pd.DataFrame(X, columns=breast_cancer_df['feature_names'])"
   ]
  },
  {
   "cell_type": "code",
   "execution_count": 12,
   "id": "ba936aa3",
   "metadata": {},
   "outputs": [],
   "source": [
    "def correlation(dataset, threshold):\n",
    "    col_corr = set()\n",
    "    corr_matrix = dataset.corr(method='pearson')\n",
    "    for i in range(len(corr_matrix.columns)):\n",
    "        for j in range(i):\n",
    "            if (corr_matrix.iloc[i, j] >= threshold) and (corr_matrix.columns[j] not in col_corr):\n",
    "                colname = corr_matrix.columns[i]\n",
    "                col_corr.add(colname)\n",
    "                if colname in dataset.columns:\n",
    "                    del dataset[colname]"
   ]
  },
  {
   "cell_type": "code",
   "execution_count": 13,
   "id": "6bef3798",
   "metadata": {},
   "outputs": [
    {
     "name": "stdout",
     "output_type": "stream",
     "text": [
      "Data shape:  (569, 21)\n"
     ]
    }
   ],
   "source": [
    "correlation(X, 0.9)\n",
    "X = X.to_numpy()\n",
    "print('Data shape: ', X.shape)"
   ]
  },
  {
   "cell_type": "code",
   "execution_count": 14,
   "id": "4c63378a",
   "metadata": {},
   "outputs": [],
   "source": [
    "X_train, X_test, y_train, y_test = train_test_split(X, y, test_size=0.3, shuffle=True)\n",
    "X_train = torch.FloatTensor(X_train)\n",
    "X_test = torch.FloatTensor(X_test)\n",
    "y_train = torch.LongTensor(y_train)\n",
    "y_test = torch.LongTensor(y_test)"
   ]
  },
  {
   "cell_type": "code",
   "execution_count": null,
   "id": "ac518478",
   "metadata": {},
   "outputs": [],
   "source": []
  }
 ],
 "metadata": {
  "kernelspec": {
   "display_name": "Python 3",
   "language": "python",
   "name": "python3"
  },
  "language_info": {
   "codemirror_mode": {
    "name": "ipython",
    "version": 3
   },
   "file_extension": ".py",
   "mimetype": "text/x-python",
   "name": "python",
   "nbconvert_exporter": "python",
   "pygments_lexer": "ipython3",
   "version": "3.6.9"
  }
 },
 "nbformat": 4,
 "nbformat_minor": 5
}
