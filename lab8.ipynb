{
 "cells": [
  {
   "cell_type": "markdown",
   "id": "6d86b893",
   "metadata": {
    "id": "6d86b893"
   },
   "source": [
    "# Description"
   ]
  },
  {
   "cell_type": "markdown",
   "id": "19d9d40a",
   "metadata": {
    "id": "19d9d40a"
   },
   "source": [
    "This work deals with the classification of handwritten numbers by a fully connected neural network (using GPU)."
   ]
  },
  {
   "cell_type": "code",
   "execution_count": 1,
   "id": "fef124c1",
   "metadata": {
    "id": "fef124c1"
   },
   "outputs": [],
   "source": [
    "import random\n",
    "import numpy as np\n",
    "import matplotlib.pyplot as plt\n",
    "\n",
    "import torch\n",
    "import torchvision.datasets\n",
    "\n",
    "import warnings\n",
    "warnings.filterwarnings(\"ignore\")"
   ]
  },
  {
   "cell_type": "markdown",
   "id": "d58a0866",
   "metadata": {
    "id": "d58a0866"
   },
   "source": [
    "# Tasks"
   ]
  },
  {
   "cell_type": "markdown",
   "id": "153c718b",
   "metadata": {
    "id": "153c718b"
   },
   "source": [
    "Task 1. Classify images using a fully connected neural network (MNIST dataset)."
   ]
  },
  {
   "cell_type": "code",
   "execution_count": 2,
   "id": "9a7d9db0",
   "metadata": {
    "id": "9a7d9db0"
   },
   "outputs": [],
   "source": [
    "random.seed(0)\n",
    "np.random.seed(0)\n",
    "torch.manual_seed(0)\n",
    "torch.cuda.manual_seed(0)\n",
    "torch.backends.cudnn.deterministic = True"
   ]
  },
  {
   "cell_type": "markdown",
   "id": "b88c5371",
   "metadata": {
    "id": "b88c5371"
   },
   "source": [
    "__Data preparation__"
   ]
  },
  {
   "cell_type": "code",
   "execution_count": null,
   "id": "9340ab35",
   "metadata": {
    "id": "9340ab35"
   },
   "outputs": [],
   "source": [
    "mnist_train = torchvision.datasets.MNIST('./', download=True, train=True);\n",
    "mnist_test = torchvision.datasets.MNIST('./', download=True, train=False);\n",
    "X_train = mnist_train.train_data\n",
    "y_train = mnist_train.train_labels\n",
    "X_test = mnist_test.test_data\n",
    "y_test = mnist_test.test_labels"
   ]
  },
  {
   "cell_type": "code",
   "execution_count": null,
   "id": "9e46fdea",
   "metadata": {
    "colab": {
     "base_uri": "https://localhost:8080/"
    },
    "id": "9e46fdea",
    "outputId": "fe199600-c946-40c7-bd8c-656c1b0cf747"
   },
   "outputs": [
    {
     "data": {
      "text/plain": [
       "(torch.uint8, torch.int64)"
      ]
     },
     "execution_count": 4,
     "metadata": {
      "tags": []
     },
     "output_type": "execute_result"
    }
   ],
   "source": [
    "# X_train and y_train dtypes\n",
    "X_train.dtype, y_train.dtype"
   ]
  },
  {
   "cell_type": "code",
   "execution_count": null,
   "id": "cfd930c4",
   "metadata": {
    "id": "cfd930c4"
   },
   "outputs": [],
   "source": [
    "# for greater accuracy in calculations\n",
    "X_train = X_train.float()\n",
    "X_test = X_test.float()"
   ]
  },
  {
   "cell_type": "code",
   "execution_count": null,
   "id": "0c34aed8",
   "metadata": {
    "colab": {
     "base_uri": "https://localhost:8080/"
    },
    "id": "0c34aed8",
    "outputId": "837d8eb8-4fcd-4103-c49d-152524173bd0"
   },
   "outputs": [
    {
     "name": "stdout",
     "output_type": "stream",
     "text": [
      "torch.Size([60000, 28, 28]) torch.Size([10000, 28, 28])\n",
      "torch.Size([60000]) torch.Size([10000])\n"
     ]
    }
   ],
   "source": [
    "# datasets shapes\n",
    "print(X_train.shape, X_test.shape)\n",
    "print(y_train.shape, y_test.shape)"
   ]
  },
  {
   "cell_type": "code",
   "execution_count": null,
   "id": "a3d954a0",
   "metadata": {
    "colab": {
     "base_uri": "https://localhost:8080/",
     "height": 282
    },
    "id": "a3d954a0",
    "outputId": "1f6b0090-d837-4101-8d31-3537f768a1b0"
   },
   "outputs": [
    {
     "name": "stdout",
     "output_type": "stream",
     "text": [
      "tensor(5)\n"
     ]
    },
    {
     "data": {
      "image/png": "[encoded data removed]",
      "text/plain": [
       "<Figure size 432x288 with 1 Axes>"
      ]
     },
     "metadata": {
      "needs_background": "light",
      "tags": []
     },
     "output_type": "display_data"
    }
   ],
   "source": [
    "# display an example of the data\n",
    "plt.imshow(X_train[0, :, :])\n",
    "print(y_train[0])"
   ]
  },
  {
   "cell_type": "code",
   "execution_count": null,
   "id": "4d30664f",
   "metadata": {
    "id": "4d30664f"
   },
   "outputs": [],
   "source": [
    "# unrolling parameters\n",
    "X_train = X_train.reshape([-1, 28 * 28])\n",
    "X_test = X_test.reshape([-1, 28 * 28])"
   ]
  },
  {
   "cell_type": "code",
   "execution_count": null,
   "id": "9e1097a4",
   "metadata": {
    "colab": {
     "base_uri": "https://localhost:8080/"
    },
    "id": "9e1097a4",
    "outputId": "17f1065d-9f11-47ae-a2d0-2f5d16eaf948"
   },
   "outputs": [
    {
     "name": "stdout",
     "output_type": "stream",
     "text": [
      "torch.Size([60000, 784]) torch.Size([10000, 784])\n",
      "torch.Size([60000]) torch.Size([10000])\n"
     ]
    }
   ],
   "source": [
    "# updated datasets shapes\n",
    "print(X_train.shape, X_test.shape)\n",
    "print(y_train.shape, y_test.shape)"
   ]
  },
  {
   "cell_type": "markdown",
   "id": "862abb5e",
   "metadata": {
    "id": "862abb5e"
   },
   "source": [
    "__Model__"
   ]
  },
  {
   "cell_type": "code",
   "execution_count": null,
   "id": "eb2503e2",
   "metadata": {
    "id": "eb2503e2"
   },
   "outputs": [],
   "source": [
    "class MNISTNet(torch.nn.Module):\n",
    "    \n",
    "    def __init__(self, n_hidden_neurons):\n",
    "        super(MNISTNet, self).__init__()\n",
    "        self.fc1 = torch.nn.Linear(28 * 28, n_hidden_neurons)\n",
    "        self.ac1 = torch.nn.Sigmoid()\n",
    "        self.fc2 = torch.nn.Linear(n_hidden_neurons, 10)\n",
    "        \n",
    "    def forward(self, x):\n",
    "        x = self.fc1(x)\n",
    "        x = self.ac1(x)\n",
    "        x = self.fc2(x)\n",
    "        return x"
   ]
  },
  {
   "cell_type": "code",
   "execution_count": null,
   "id": "659837f4",
   "metadata": {
    "colab": {
     "base_uri": "https://localhost:8080/"
    },
    "id": "659837f4",
    "outputId": "abee1378-47ed-4682-ca7e-faead54720a2"
   },
   "outputs": [
    {
     "data": {
      "text/plain": [
       "MNISTNet(\n",
       "  (fc1): Linear(in_features=784, out_features=100, bias=True)\n",
       "  (ac1): Sigmoid()\n",
       "  (fc2): Linear(in_features=100, out_features=10, bias=True)\n",
       ")"
      ]
     },
     "execution_count": 11,
     "metadata": {
      "tags": []
     },
     "output_type": "execute_result"
    }
   ],
   "source": [
    "mnist_net = MNISTNet(100)\n",
    "mnist_net"
   ]
  },
  {
   "cell_type": "markdown",
   "id": "44a734bd",
   "metadata": {
    "id": "44a734bd"
   },
   "source": [
    "__Loss and optimizer__"
   ]
  },
  {
   "cell_type": "code",
   "execution_count": null,
   "id": "3540f2e9",
   "metadata": {
    "id": "3540f2e9"
   },
   "outputs": [],
   "source": [
    "loss = torch.nn.CrossEntropyLoss()\n",
    "optimizer = torch.optim.Adam(mnist_net.parameters(), lr=1.0e-3)"
   ]
  },
  {
   "cell_type": "markdown",
   "id": "4042ec13",
   "metadata": {
    "id": "4042ec13"
   },
   "source": [
    "__Device__"
   ]
  },
  {
   "cell_type": "code",
   "execution_count": null,
   "id": "a2ad2e19",
   "metadata": {
    "id": "a2ad2e19"
   },
   "outputs": [],
   "source": [
    "device = torch.device('cuda:0' if torch.cuda.is_available() else 'cpu')"
   ]
  },
  {
   "cell_type": "code",
   "execution_count": null,
   "id": "9e763ee1",
   "metadata": {
    "id": "9e763ee1"
   },
   "outputs": [],
   "source": [
    "X_test = X_test.to(device)\n",
    "y_test = y_test.to(device)\n",
    "mnist_net = mnist_net.to(device)"
   ]
  },
  {
   "cell_type": "markdown",
   "id": "9414c7d6",
   "metadata": {
    "id": "9414c7d6"
   },
   "source": [
    "__Model training__"
   ]
  },
  {
   "cell_type": "code",
   "execution_count": null,
   "id": "5d114a16",
   "metadata": {
    "id": "5d114a16"
   },
   "outputs": [],
   "source": [
    "batch_size = 100\n",
    "test_accuracy_history = []\n",
    "test_loss_history = []\n",
    "train_loss_history = []\n",
    "\n",
    "for epoch in range(1000):\n",
    "    order = np.random.permutation(len(X_train))\n",
    "    \n",
    "    for start_index in range(0, len(X_train), batch_size):\n",
    "        optimizer.zero_grad()\n",
    "        \n",
    "        batch_indexes = order[start_index:start_index+batch_size]\n",
    "        X_batch = X_train[batch_indexes].to(device)\n",
    "        y_batch = y_train[batch_indexes].to(device)\n",
    "        \n",
    "        preds = mnist_net.forward(X_batch)\n",
    "        loss_value = loss(preds, y_batch)\n",
    "        loss_value.backward()\n",
    "        \n",
    "        optimizer.step()\n",
    "\n",
    "    train_loss_history.append(loss_value)\n",
    "\n",
    "    test_preds = mnist_net.forward(X_test)\n",
    "    test_loss_history.append(loss(test_preds, y_test))\n",
    "    \n",
    "    accuracy = (test_preds.argmax(dim=1) == y_test).float().mean()\n",
    "    test_accuracy_history.append(accuracy)"
   ]
  },
  {
   "cell_type": "code",
   "execution_count": null,
   "id": "52ef98ba",
   "metadata": {
    "colab": {
     "base_uri": "https://localhost:8080/",
     "height": 391
    },
    "id": "52ef98ba",
    "outputId": "25c77d36-5f2c-46bd-ae0e-5d5ce45082e5"
   },
   "outputs": [
    {
     "data": {
      "text/plain": [
       "[<matplotlib.lines.Line2D at 0x7f677b0fbdd0>]"
      ]
     },
     "execution_count": 16,
     "metadata": {
      "tags": []
     },
     "output_type": "execute_result"
    },
    {
     "data": {
      "image/png": "[encoded data removed]",
      "text/plain": [
       "<Figure size 1440x432 with 2 Axes>"
      ]
     },
     "metadata": {
      "needs_background": "light",
      "tags": []
     },
     "output_type": "display_data"
    }
   ],
   "source": [
    "fig, ax = plt.subplots(1, 2, figsize=(20, 6))\n",
    "\n",
    "ax[0].plot(test_loss_history)\n",
    "ax[0].title.set_text('Loss history')\n",
    "\n",
    "ax[1].plot(test_accuracy_history)\n",
    "ax[1].title.set_text('Accuracy history')"
   ]
  },
  {
   "cell_type": "code",
   "execution_count": null,
   "id": "HuQaSrObA9rO",
   "metadata": {
    "colab": {
     "base_uri": "https://localhost:8080/",
     "height": 391
    },
    "id": "HuQaSrObA9rO",
    "outputId": "d9b055db-c20a-494a-fbdc-3574f12c5aaf"
   },
   "outputs": [
    {
     "data": {
      "text/plain": [
       "[<matplotlib.lines.Line2D at 0x7f677b0baed0>]"
      ]
     },
     "execution_count": 17,
     "metadata": {
      "tags": []
     },
     "output_type": "execute_result"
    },
    {
     "data": {
      "image/png": "[encoded data removed]",
      "text/plain": [
       "<Figure size 720x432 with 1 Axes>"
      ]
     },
     "metadata": {
      "needs_background": "light",
      "tags": []
     },
     "output_type": "display_data"
    }
   ],
   "source": [
    "fig = plt.figure(figsize=(10, 6))\n",
    "plt.plot(train_loss_history, 'b')\n",
    "plt.plot(test_loss_history, 'r')\n",
    "plt.title('Train and test loss')"
   ]
  },
  {
   "cell_type": "markdown",
   "id": "-3HMq_15fdIx",
   "metadata": {
    "id": "-3HMq_15fdIx"
   },
   "source": [
    "Task 2. Implement the functionality of torch.nn.Linear from scratch and compare with the original."
   ]
  },
  {
   "cell_type": "code",
   "execution_count": null,
   "id": "ctIXbPcDaGMK",
   "metadata": {
    "id": "ctIXbPcDaGMK"
   },
   "outputs": [],
   "source": [
    "class linear_transformation():\n",
    "    \n",
    "    def __init__(self, in_features, out_features, bias=True):\n",
    "        self.in_features = in_features\n",
    "        self.out_features = out_features\n",
    "        self.bias = np.ones((self.out_features)) if bias else None\n",
    "        self.W = np.ones((self.in_features, self.out_features))\n",
    "\n",
    "    def forward(self, X):\n",
    "        if self.bias is not None:\n",
    "            self.Y = X.dot(self.W) + self.bias\n",
    "        else:\n",
    "            self.Y = X.dot(self.W)\n",
    "        return self.Y"
   ]
  },
  {
   "cell_type": "code",
   "execution_count": null,
   "id": "NXkXRnpmeQIh",
   "metadata": {
    "colab": {
     "base_uri": "https://localhost:8080/"
    },
    "id": "NXkXRnpmeQIh",
    "outputId": "f574c07e-ca5d-49ac-ae27-dd434a95acf3"
   },
   "outputs": [
    {
     "name": "stdout",
     "output_type": "stream",
     "text": [
      "(50,) torch.Size([50])\n"
     ]
    }
   ],
   "source": [
    "# implemented functionality\n",
    "lin_obj = linear_transformation(100, 50)\n",
    "x = np.ones((100))\n",
    "y = lin_obj.forward(x)\n",
    "\n",
    "# original functionality\n",
    "lin_obj_torch = torch.nn.Linear(100, 50)\n",
    "x_torch = torch.Tensor(np.ones((100)))\n",
    "y_torch = lin_obj_torch.forward(x_torch)\n",
    "\n",
    "# comparison\n",
    "print(y.shape, y_torch.shape)"
   ]
  },
  {
   "cell_type": "markdown",
   "id": "ufWoUWt8j0Pn",
   "metadata": {
    "id": "ufWoUWt8j0Pn"
   },
   "source": [
    "Task 3. Suppose we have 1 object x at the input with two components. We will transfer it to a fully connected layer with 3 neurons and get 3 outputs. Then write the same functionality using matrix multiplication. And check the calculation of the derivative."
   ]
  },
  {
   "cell_type": "code",
   "execution_count": null,
   "id": "B6IAqZdtl8JV",
   "metadata": {
    "id": "B6IAqZdtl8JV"
   },
   "outputs": [],
   "source": [
    "x = torch.tensor([[10., 20.]])\n",
    "w = torch.tensor([[11., 12.], [21., 22.], [31., 32]])\n",
    "b = torch.tensor([[31., 32., 33.]])"
   ]
  },
  {
   "cell_type": "code",
   "execution_count": null,
   "id": "zFaJndubj7T0",
   "metadata": {
    "id": "zFaJndubj7T0"
   },
   "outputs": [],
   "source": [
    "# original fc layer\n",
    "fc = torch.nn.Linear(2, 3)\n",
    "fc.weight.data = w\n",
    "fc.bias.data = b\n",
    "fc_out = fc(x)\n",
    "fc_out_summed = fc_out.sum()\n",
    "fc_out_summed.backward()\n",
    "\n",
    "weight_grad = fc.weight.grad\n",
    "bias_grad = fc.bias.grad"
   ]
  },
  {
   "cell_type": "code",
   "execution_count": null,
   "id": "2HM5xuk6kTXf",
   "metadata": {
    "id": "2HM5xuk6kTXf"
   },
   "outputs": [],
   "source": [
    "# matrix multiplication\n",
    "w.requires_grad_(True)\n",
    "b.requires_grad_(True)\n",
    "\n",
    "fc_out_alternative = torch.matmul(x, torch.transpose(w, 0, 1)) + b\n",
    "fc_out_alternative__summed = fc_out_alternative.sum()\n",
    "fc_out_alternative__summed.backward()"
   ]
  },
  {
   "cell_type": "code",
   "execution_count": null,
   "id": "e_Tmeenfm6t4",
   "metadata": {
    "colab": {
     "base_uri": "https://localhost:8080/"
    },
    "id": "e_Tmeenfm6t4",
    "outputId": "7e08508f-cdd6-4b83-f80d-d5e4c72ca327"
   },
   "outputs": [
    {
     "name": "stdout",
     "output_type": "stream",
     "text": [
      "tensor([[True, True, True]])\n",
      "fc_weight_grad: tensor([[10., 20.],\n",
      "        [10., 20.],\n",
      "        [10., 20.]])\n",
      "our_weight_grad: tensor([[10., 20.],\n",
      "        [10., 20.],\n",
      "        [10., 20.]])\n",
      "fc_bias_grad: tensor([[1., 1., 1.]])\n",
      "out_bias_grad: tensor([[1., 1., 1.]])\n"
     ]
    }
   ],
   "source": [
    "# check the match\n",
    "print(fc_out == fc_out_alternative)\n",
    "print('fc_weight_grad:', weight_grad)\n",
    "print('our_weight_grad:', w.grad)\n",
    "print('fc_bias_grad:', bias_grad)\n",
    "print('out_bias_grad:', b.grad)"
   ]
  },
  {
   "cell_type": "markdown",
   "id": "AqykUVhPyiaz",
   "metadata": {
    "id": "AqykUVhPyiaz"
   },
   "source": [
    "Task 4. Classify images using a fully connected neural network (CIFAR10 dataset)."
   ]
  },
  {
   "cell_type": "markdown",
   "id": "yOHrs3iZzaZV",
   "metadata": {
    "id": "yOHrs3iZzaZV"
   },
   "source": [
    "__Data preparation__"
   ]
  },
  {
   "cell_type": "code",
   "execution_count": null,
   "id": "z51UlMdbyhxP",
   "metadata": {
    "id": "z51UlMdbyhxP"
   },
   "outputs": [],
   "source": [
    "cifar_train = torchvision.datasets.CIFAR10('./', download=True, train=True);\n",
    "cifar_test = torchvision.datasets.CIFAR10('./', download=True, train=False);\n",
    "X_train = torch.Tensor(cifar_train.data)\n",
    "y_train = torch.LongTensor(cifar_train.targets)\n",
    "X_test = torch.Tensor(cifar_test.data)\n",
    "y_test = torch.LongTensor(cifar_test.targets)"
   ]
  },
  {
   "cell_type": "code",
   "execution_count": 4,
   "id": "zyeL9mH_1Oc7",
   "metadata": {
    "colab": {
     "base_uri": "https://localhost:8080/"
    },
    "id": "zyeL9mH_1Oc7",
    "outputId": "ff190fd0-1f4c-434a-9151-2912f7cc7d62"
   },
   "outputs": [
    {
     "name": "stdout",
     "output_type": "stream",
     "text": [
      "torch.Size([50000, 32, 32, 3]) torch.Size([10000, 32, 32, 3])\n",
      "torch.Size([50000]) torch.Size([10000])\n"
     ]
    }
   ],
   "source": [
    "# datasets shapes\n",
    "print(X_train.shape, X_test.shape)\n",
    "print(y_train.shape, y_test.shape)"
   ]
  },
  {
   "cell_type": "code",
   "execution_count": 5,
   "id": "4gSpJdIS2CU9",
   "metadata": {
    "id": "4gSpJdIS2CU9"
   },
   "outputs": [],
   "source": [
    "X_train /= 255\n",
    "X_test /= 255"
   ]
  },
  {
   "cell_type": "code",
   "execution_count": 6,
   "id": "krY9MsZd2Umc",
   "metadata": {
    "colab": {
     "base_uri": "https://localhost:8080/"
    },
    "id": "krY9MsZd2Umc",
    "outputId": "aad722bb-f262-40b3-bafb-959f99d1de01"
   },
   "outputs": [
    {
     "data": {
      "text/plain": [
       "['airplane',\n",
       " 'automobile',\n",
       " 'bird',\n",
       " 'cat',\n",
       " 'deer',\n",
       " 'dog',\n",
       " 'frog',\n",
       " 'horse',\n",
       " 'ship',\n",
       " 'truck']"
      ]
     },
     "execution_count": 6,
     "metadata": {
      "tags": []
     },
     "output_type": "execute_result"
    }
   ],
   "source": [
    "cifar_train.classes"
   ]
  },
  {
   "cell_type": "code",
   "execution_count": 7,
   "id": "wrNPdfCa1wYh",
   "metadata": {
    "colab": {
     "base_uri": "https://localhost:8080/",
     "height": 283
    },
    "id": "wrNPdfCa1wYh",
    "outputId": "f66b5fdc-d33e-4621-b9fc-40071a6bbb47"
   },
   "outputs": [
    {
     "name": "stdout",
     "output_type": "stream",
     "text": [
      "tensor(9)\n"
     ]
    },
    {
     "data": {
      "image/png": "[encoded data removed]",
      "text/plain": [
       "<Figure size 432x288 with 1 Axes>"
      ]
     },
     "metadata": {
      "needs_background": "light",
      "tags": []
     },
     "output_type": "display_data"
    }
   ],
   "source": [
    "# display an example of the data\n",
    "plt.imshow(X_train[1, :, :, :])\n",
    "print(y_train[1])"
   ]
  },
  {
   "cell_type": "code",
   "execution_count": 8,
   "id": "mi6gs1t726MU",
   "metadata": {
    "id": "mi6gs1t726MU"
   },
   "outputs": [],
   "source": [
    "X_train = X_train.permute(0, 3, 1, 2)\n",
    "X_test = X_test.permute(0, 3, 1, 2)"
   ]
  },
  {
   "cell_type": "code",
   "execution_count": 9,
   "id": "fN2fjV6v3TYn",
   "metadata": {
    "id": "fN2fjV6v3TYn"
   },
   "outputs": [],
   "source": [
    "# unrolling parameters\n",
    "X_train = X_train.reshape([-1, 32 * 32 * 3])\n",
    "X_test = X_test.reshape([-1, 32 * 32 * 3])"
   ]
  },
  {
   "cell_type": "code",
   "execution_count": 10,
   "id": "z2Ux-ufq3eNN",
   "metadata": {
    "colab": {
     "base_uri": "https://localhost:8080/"
    },
    "id": "z2Ux-ufq3eNN",
    "outputId": "b756918e-5862-4b3e-a163-0078c5b6190a"
   },
   "outputs": [
    {
     "name": "stdout",
     "output_type": "stream",
     "text": [
      "torch.Size([50000, 3072]) torch.Size([10000, 3072])\n",
      "torch.Size([50000]) torch.Size([10000])\n"
     ]
    }
   ],
   "source": [
    "# updated datasets shapes\n",
    "print(X_train.shape, X_test.shape)\n",
    "print(y_train.shape, y_test.shape)"
   ]
  },
  {
   "cell_type": "markdown",
   "id": "9AyCXJ8I3kHD",
   "metadata": {
    "id": "9AyCXJ8I3kHD"
   },
   "source": [
    "__Model__"
   ]
  },
  {
   "cell_type": "code",
   "execution_count": 11,
   "id": "4jqXmsZy0v1X",
   "metadata": {
    "id": "4jqXmsZy0v1X"
   },
   "outputs": [],
   "source": [
    "class CIFARNet(torch.nn.Module):\n",
    "    \n",
    "    def __init__(self, n_hidden_neurons):\n",
    "        super(CIFARNet, self).__init__()\n",
    "        \n",
    "        self.fc1 = torch.nn.Linear(32*32*3, n_hidden_neurons)\n",
    "        self.do1 = torch.nn.Dropout(0.4)\n",
    "        self.bn1 = torch.nn.BatchNorm1d(n_hidden_neurons)\n",
    "        self.ac1 = torch.nn.ReLU()\n",
    "\n",
    "        self.fc2 = torch.nn.Linear(n_hidden_neurons, 100)\n",
    "        self.do2 = torch.nn.Dropout(0.2)\n",
    "        self.bn2 = torch.nn.BatchNorm1d(100)\n",
    "        self.ac2 = torch.nn.ReLU()\n",
    "\n",
    "        self.fc3 = torch.nn.Linear(100, 10)\n",
    "\n",
    "\n",
    "        \n",
    "    def forward(self, x):\n",
    "        \n",
    "        x = self.fc1(x)\n",
    "        x = self.do1(x)\n",
    "        x = self.bn1(x)\n",
    "        x = self.ac1(x)\n",
    "\n",
    "        x = self.fc2(x)\n",
    "        x = self.do2(x)\n",
    "        x = self.bn2(x)\n",
    "        x = self.ac2(x)\n",
    "                     \n",
    "        x = self.fc3(x)\n",
    "        \n",
    "        return x"
   ]
  },
  {
   "cell_type": "code",
   "execution_count": 12,
   "id": "dklYuT--4EU_",
   "metadata": {
    "colab": {
     "base_uri": "https://localhost:8080/"
    },
    "id": "dklYuT--4EU_",
    "outputId": "db559a0a-6685-4a9c-a01c-880fb79cd1cd"
   },
   "outputs": [
    {
     "data": {
      "text/plain": [
       "CIFARNet(\n",
       "  (fc1): Linear(in_features=3072, out_features=250, bias=True)\n",
       "  (do1): Dropout(p=0.4, inplace=False)\n",
       "  (bn1): BatchNorm1d(250, eps=1e-05, momentum=0.1, affine=True, track_running_stats=True)\n",
       "  (ac1): ReLU()\n",
       "  (fc2): Linear(in_features=250, out_features=100, bias=True)\n",
       "  (do2): Dropout(p=0.2, inplace=False)\n",
       "  (bn2): BatchNorm1d(100, eps=1e-05, momentum=0.1, affine=True, track_running_stats=True)\n",
       "  (ac2): ReLU()\n",
       "  (fc3): Linear(in_features=100, out_features=10, bias=True)\n",
       ")"
      ]
     },
     "execution_count": 12,
     "metadata": {
      "tags": []
     },
     "output_type": "execute_result"
    }
   ],
   "source": [
    "cifar_net = CIFARNet(250)\n",
    "cifar_net"
   ]
  },
  {
   "cell_type": "markdown",
   "id": "OwxQxqMQ4fW9",
   "metadata": {
    "id": "OwxQxqMQ4fW9"
   },
   "source": [
    "__Loss and optimizer__"
   ]
  },
  {
   "cell_type": "code",
   "execution_count": 13,
   "id": "uxBeBpgO4dE_",
   "metadata": {
    "id": "uxBeBpgO4dE_"
   },
   "outputs": [],
   "source": [
    "loss = torch.nn.CrossEntropyLoss()\n",
    "optimizer = torch.optim.Adam(cifar_net.parameters(), lr=1.0e-3)"
   ]
  },
  {
   "cell_type": "markdown",
   "id": "zMPha3vibIvg",
   "metadata": {
    "id": "zMPha3vibIvg"
   },
   "source": [
    "__Device__"
   ]
  },
  {
   "cell_type": "code",
   "execution_count": 14,
   "id": "N3eqbDXSbROW",
   "metadata": {
    "id": "N3eqbDXSbROW"
   },
   "outputs": [],
   "source": [
    "device = torch.device('cuda:0' if torch.cuda.is_available() else 'cpu')"
   ]
  },
  {
   "cell_type": "code",
   "execution_count": 15,
   "id": "DDm6d-2WbRRJ",
   "metadata": {
    "id": "DDm6d-2WbRRJ"
   },
   "outputs": [],
   "source": [
    "X_test = X_test.to(device)\n",
    "y_test = y_test.to(device)\n",
    "cifar_net = cifar_net.to(device)"
   ]
  },
  {
   "cell_type": "markdown",
   "id": "awoV15oW4mHf",
   "metadata": {
    "id": "awoV15oW4mHf"
   },
   "source": [
    "__Model training__"
   ]
  },
  {
   "cell_type": "code",
   "execution_count": 16,
   "id": "UnK8RKee4nCG",
   "metadata": {
    "id": "UnK8RKee4nCG"
   },
   "outputs": [],
   "source": [
    "batch_size = 100\n",
    "test_accuracy_history = []\n",
    "test_loss_history = []\n",
    "train_loss_history = []\n",
    "\n",
    "for epoch in range(30):\n",
    "    order = np.random.permutation(len(X_train))\n",
    "    \n",
    "    for start_index in range(0, len(X_train), batch_size):\n",
    "        optimizer.zero_grad()\n",
    "        \n",
    "        batch_indexes = order[start_index:start_index+batch_size]\n",
    "        X_batch = X_train[batch_indexes].to(device)\n",
    "        y_batch = y_train[batch_indexes].to(device)\n",
    "        \n",
    "        preds = cifar_net.forward(X_batch)\n",
    "        loss_value = loss(preds, y_batch)\n",
    "        loss_value.backward()\n",
    "        \n",
    "        optimizer.step()\n",
    "\n",
    "    train_loss_history.append(loss_value)\n",
    "\n",
    "    test_preds = cifar_net.forward(X_test)\n",
    "    test_loss_history.append(loss(test_preds, y_test))\n",
    "    \n",
    "    accuracy = (test_preds.argmax(dim=1) == y_test).float().mean()\n",
    "    test_accuracy_history.append(accuracy)"
   ]
  },
  {
   "cell_type": "code",
   "execution_count": 17,
   "id": "kicw228_BuNG",
   "metadata": {
    "colab": {
     "base_uri": "https://localhost:8080/",
     "height": 390
    },
    "id": "kicw228_BuNG",
    "outputId": "f813adab-8a0a-4a9a-b2fd-a2050b4d5477"
   },
   "outputs": [
    {
     "data": {
      "image/png": "[encoded data removed]",
      "text/plain": [
       "<Figure size 1440x432 with 2 Axes>"
      ]
     },
     "metadata": {
      "needs_background": "light",
      "tags": []
     },
     "output_type": "display_data"
    }
   ],
   "source": [
    "fig, ax = plt.subplots(1, 2, figsize=(20, 6))\n",
    "\n",
    "ax[0].plot(test_loss_history)\n",
    "ax[0].title.set_text('Loss history')\n",
    "\n",
    "ax[1].plot(test_accuracy_history)\n",
    "ax[1].title.set_text('Accuracy history')"
   ]
  }
 ],
 "metadata": {
  "accelerator": "GPU",
  "colab": {
   "collapsed_sections": [],
   "name": "lab8.ipynb",
   "provenance": []
  },
  "kernelspec": {
   "display_name": "Python 3",
   "language": "python",
   "name": "python3"
  },
  "language_info": {
   "codemirror_mode": {
    "name": "ipython",
    "version": 3
   },
   "file_extension": ".py",
   "mimetype": "text/x-python",
   "name": "python",
   "nbconvert_exporter": "python",
   "pygments_lexer": "ipython3",
   "version": "3.6.9"
  }
 },
 "nbformat": 4,
 "nbformat_minor": 5
}
