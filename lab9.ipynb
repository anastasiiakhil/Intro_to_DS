{
 "cells": [
  {
   "cell_type": "markdown",
   "id": "61da748b",
   "metadata": {
    "id": "61da748b"
   },
   "source": [
    "# Description"
   ]
  },
  {
   "cell_type": "markdown",
   "id": "04c80e0c",
   "metadata": {
    "id": "04c80e0c"
   },
   "source": [
    "This work is based on the acquaintance with the convolutional neural network and its use for the recognition of handwritten numbers."
   ]
  },
  {
   "cell_type": "code",
   "execution_count": 1,
   "id": "16e4a298",
   "metadata": {
    "id": "16e4a298"
   },
   "outputs": [],
   "source": [
    "import random\n",
    "import numpy as np\n",
    "import matplotlib.pyplot as plt\n",
    "\n",
    "import torch\n",
    "import torchvision.datasets\n",
    "\n",
    "import warnings\n",
    "warnings.filterwarnings(\"ignore\")"
   ]
  },
  {
   "cell_type": "code",
   "execution_count": 2,
   "id": "77c37007",
   "metadata": {
    "id": "77c37007"
   },
   "outputs": [],
   "source": [
    "random.seed(0)\n",
    "np.random.seed(0)\n",
    "torch.manual_seed(0)\n",
    "torch.cuda.manual_seed(0)\n",
    "torch.backends.cudnn.deterministic = True"
   ]
  },
  {
   "cell_type": "markdown",
   "id": "55bec439",
   "metadata": {
    "id": "55bec439"
   },
   "source": [
    "# Tasks"
   ]
  },
  {
   "cell_type": "markdown",
   "id": "33c12cd2",
   "metadata": {
    "id": "33c12cd2"
   },
   "source": [
    "Task 1. Use a convolutional neural network to recognize handwritten numbers (MNIST dataset)."
   ]
  },
  {
   "cell_type": "markdown",
   "id": "e2bb5883",
   "metadata": {
    "id": "e2bb5883"
   },
   "source": [
    "__Data preparation__"
   ]
  },
  {
   "cell_type": "code",
   "execution_count": null,
   "id": "33f1ff9e",
   "metadata": {
    "id": "33f1ff9e"
   },
   "outputs": [],
   "source": [
    "mnist_train = torchvision.datasets.MNIST('./', download=True, train=True)\n",
    "mnist_test = torchvision.datasets.MNIST('./', download=True, train=False)\n",
    "X_train = mnist_train.train_data\n",
    "y_train = mnist_train.train_labels\n",
    "X_test = mnist_test.test_data\n",
    "y_test = mnist_test.test_labels"
   ]
  },
  {
   "cell_type": "code",
   "execution_count": 4,
   "id": "39ba9522",
   "metadata": {
    "colab": {
     "base_uri": "https://localhost:8080/",
     "height": 282
    },
    "id": "39ba9522",
    "outputId": "874ca4ea-911b-4f48-dc76-3a731a2bd421"
   },
   "outputs": [
    {
     "name": "stdout",
     "output_type": "stream",
     "text": [
      "tensor(5)\n"
     ]
    },
    {
     "data": {
      "image/png": "[encoded data removed]",
      "text/plain": [
       "<Figure size 432x288 with 1 Axes>"
      ]
     },
     "metadata": {
      "needs_background": "light",
      "tags": []
     },
     "output_type": "display_data"
    }
   ],
   "source": [
    "# display an example of the data\n",
    "plt.imshow(X_train[0, :, :])\n",
    "print(y_train[0])"
   ]
  },
  {
   "cell_type": "code",
   "execution_count": 5,
   "id": "3e439e55",
   "metadata": {
    "id": "3e439e55"
   },
   "outputs": [],
   "source": [
    "# reshape the data\n",
    "X_train = X_train.unsqueeze(1).float()\n",
    "X_test = X_test.unsqueeze(1).float()"
   ]
  },
  {
   "cell_type": "code",
   "execution_count": 6,
   "id": "ce882948",
   "metadata": {
    "colab": {
     "base_uri": "https://localhost:8080/"
    },
    "id": "ce882948",
    "outputId": "14c6d012-9018-4069-c262-6c67fbdc3993"
   },
   "outputs": [
    {
     "name": "stdout",
     "output_type": "stream",
     "text": [
      "torch.Size([60000, 1, 28, 28]) torch.Size([10000, 1, 28, 28])\n",
      "torch.Size([60000]) torch.Size([10000])\n"
     ]
    }
   ],
   "source": [
    "print(X_train.shape, X_test.shape)\n",
    "print(y_train.shape, y_test.shape)"
   ]
  },
  {
   "cell_type": "markdown",
   "id": "621bb3ee",
   "metadata": {
    "id": "621bb3ee"
   },
   "source": [
    "__Model__"
   ]
  },
  {
   "cell_type": "code",
   "execution_count": 7,
   "id": "5543b26e",
   "metadata": {
    "id": "5543b26e"
   },
   "outputs": [],
   "source": [
    "class LeNet5(torch.nn.Module):\n",
    "    \n",
    "    def __init__(self):\n",
    "        super(LeNet5, self).__init__()\n",
    "        \n",
    "        self.conv1 = torch.nn.Conv2d(in_channels=1, out_channels=6, kernel_size=5, padding=2)\n",
    "        self.ac1 = torch.nn.Tanh()\n",
    "        self.pool1 = torch.nn.AvgPool2d(kernel_size=2, stride=2)\n",
    "        \n",
    "        self.conv2 = torch.nn.Conv2d(in_channels=6, out_channels=16, kernel_size=5, padding=0)\n",
    "        self.ac2 = torch.nn.Tanh()\n",
    "        self.pool2 = torch.nn.AvgPool2d(kernel_size=2, stride=2)\n",
    "        \n",
    "        self.fc1 = torch.nn.Linear(5 * 5 * 16, 120)\n",
    "        self.ac3 = torch.nn.Tanh()\n",
    "        \n",
    "        self.fc2 = torch.nn.Linear(120, 84)\n",
    "        self.ac4 = torch.nn.Tanh()\n",
    "        \n",
    "        self.fc3 = torch.nn.Linear(84, 10)\n",
    "        \n",
    "    def forward(self, x):\n",
    "        x = self.conv1(x)\n",
    "        x = self.ac1(x)\n",
    "        x = self.pool1(x)\n",
    "        \n",
    "        x = self.conv2(x)\n",
    "        x = self.ac2(x)\n",
    "        x = self.pool2(x)\n",
    "        \n",
    "        x = x.view(x.size(0), x.size(1) * x.size(2) * x.size(3))\n",
    "        \n",
    "        x = self.fc1(x) \n",
    "        x = self.ac3(x)\n",
    "        \n",
    "        x = self.fc2(x) \n",
    "        x = self.ac4(x)\n",
    "        \n",
    "        x = self.fc3(x)\n",
    "        \n",
    "        return x"
   ]
  },
  {
   "cell_type": "code",
   "execution_count": 8,
   "id": "844e1420",
   "metadata": {
    "colab": {
     "base_uri": "https://localhost:8080/"
    },
    "id": "844e1420",
    "outputId": "12a2f727-7de9-4170-b527-6d1dfc4ce2ff"
   },
   "outputs": [
    {
     "data": {
      "text/plain": [
       "LeNet5(\n",
       "  (conv1): Conv2d(1, 6, kernel_size=(5, 5), stride=(1, 1), padding=(2, 2))\n",
       "  (ac1): Tanh()\n",
       "  (pool1): AvgPool2d(kernel_size=2, stride=2, padding=0)\n",
       "  (conv2): Conv2d(6, 16, kernel_size=(5, 5), stride=(1, 1))\n",
       "  (ac2): Tanh()\n",
       "  (pool2): AvgPool2d(kernel_size=2, stride=2, padding=0)\n",
       "  (fc1): Linear(in_features=400, out_features=120, bias=True)\n",
       "  (ac3): Tanh()\n",
       "  (fc2): Linear(in_features=120, out_features=84, bias=True)\n",
       "  (ac4): Tanh()\n",
       "  (fc3): Linear(in_features=84, out_features=10, bias=True)\n",
       ")"
      ]
     },
     "execution_count": 8,
     "metadata": {
      "tags": []
     },
     "output_type": "execute_result"
    }
   ],
   "source": [
    "lenet5 = LeNet5()\n",
    "lenet5"
   ]
  },
  {
   "cell_type": "markdown",
   "id": "CS4ujlB3RzoP",
   "metadata": {
    "id": "CS4ujlB3RzoP"
   },
   "source": [
    "__Device__"
   ]
  },
  {
   "cell_type": "code",
   "execution_count": 9,
   "id": "d198f135",
   "metadata": {
    "id": "d198f135"
   },
   "outputs": [],
   "source": [
    "device = torch.device('cuda:0' if torch.cuda.is_available() else 'cpu')"
   ]
  },
  {
   "cell_type": "code",
   "execution_count": 10,
   "id": "lapWH1NSSJbT",
   "metadata": {
    "id": "lapWH1NSSJbT"
   },
   "outputs": [],
   "source": [
    "lenet5 = lenet5.to(device)\n",
    "X_test = X_test.to(device)\n",
    "y_test = y_test.to(device)"
   ]
  },
  {
   "cell_type": "markdown",
   "id": "3gMfXOoBR8Uw",
   "metadata": {
    "id": "3gMfXOoBR8Uw"
   },
   "source": [
    "__Loss and optimizer__"
   ]
  },
  {
   "cell_type": "code",
   "execution_count": 11,
   "id": "x7MbiXAcR_W_",
   "metadata": {
    "id": "x7MbiXAcR_W_"
   },
   "outputs": [],
   "source": [
    "loss = torch.nn.CrossEntropyLoss()\n",
    "optimizer = torch.optim.Adam(lenet5.parameters(), lr=1.0e-3)"
   ]
  },
  {
   "cell_type": "markdown",
   "id": "EjKNmYcvSChM",
   "metadata": {
    "id": "EjKNmYcvSChM"
   },
   "source": [
    "__Model training__"
   ]
  },
  {
   "cell_type": "code",
   "execution_count": 12,
   "id": "EBNPmdmmSGA-",
   "metadata": {
    "id": "EBNPmdmmSGA-"
   },
   "outputs": [],
   "source": [
    "batch_size = 100\n",
    "test_accuracy_history = []\n",
    "test_loss_history = []\n",
    "\n",
    "for epoch in range(50):\n",
    "    order = np.random.permutation(len(X_train))\n",
    "\n",
    "    for start_index in range(0, len(X_train), batch_size):\n",
    "        optimizer.zero_grad()\n",
    "\n",
    "        batch_indexes = order[start_index:start_index+batch_size]\n",
    "        X_batch = X_train[batch_indexes].to(device)\n",
    "        y_batch = y_train[batch_indexes].to(device)\n",
    "\n",
    "        preds = lenet5.forward(X_batch)\n",
    "        loss_value = loss(preds, y_batch)\n",
    "        loss_value.backward()\n",
    "\n",
    "        optimizer.step()\n",
    "\n",
    "    test_preds = lenet5.forward(X_test)\n",
    "    test_loss_history.append(loss(test_preds, y_test).data.cpu())\n",
    "\n",
    "    accuracy = (test_preds.argmax(dim=1) == y_test).float().mean().data.cpu()\n",
    "    test_accuracy_history.append(accuracy)"
   ]
  },
  {
   "cell_type": "code",
   "execution_count": 13,
   "id": "j_jlCJzJWHYc",
   "metadata": {
    "colab": {
     "base_uri": "https://localhost:8080/",
     "height": 390
    },
    "id": "j_jlCJzJWHYc",
    "outputId": "ae82dd9a-881a-4744-e6c5-911c9195b064"
   },
   "outputs": [
    {
     "data": {
      "image/png": "[encoded data removed]",
      "text/plain": [
       "<Figure size 1440x432 with 2 Axes>"
      ]
     },
     "metadata": {
      "needs_background": "light",
      "tags": []
     },
     "output_type": "display_data"
    }
   ],
   "source": [
    "fig, ax = plt.subplots(1, 2, figsize=(20, 6))\n",
    "\n",
    "ax[0].plot(test_loss_history)\n",
    "ax[0].title.set_text('Loss history')\n",
    "\n",
    "ax[1].plot(test_accuracy_history)\n",
    "ax[1].title.set_text('Accuracy history')"
   ]
  },
  {
   "cell_type": "markdown",
   "id": "ee4f5df1",
   "metadata": {
    "id": "ee4f5df1"
   },
   "source": [
    "Task 2. Choose padding parameters."
   ]
  },
  {
   "cell_type": "code",
   "execution_count": 14,
   "id": "9922a9d7",
   "metadata": {
    "id": "9922a9d7"
   },
   "outputs": [],
   "source": [
    "N = 4\n",
    "C, C_out = 3, 10\n",
    "H, W = 8, 16\n",
    "x = torch.ones((N, C, H, W))"
   ]
  },
  {
   "cell_type": "code",
   "execution_count": 15,
   "id": "88e7e952",
   "metadata": {
    "colab": {
     "base_uri": "https://localhost:8080/"
    },
    "id": "88e7e952",
    "outputId": "a311d644-46f4-4809-b147-122767b960a7"
   },
   "outputs": [
    {
     "data": {
      "text/plain": [
       "torch.Size([4, 10, 8, 16])"
      ]
     },
     "execution_count": 15,
     "metadata": {
      "tags": []
     },
     "output_type": "execute_result"
    }
   ],
   "source": [
    "# torch.Size([4, 10, 8, 16])\n",
    "out = torch.nn.Conv2d(C, C_out, kernel_size=(3, 3), padding=1)(x)\n",
    "out.shape"
   ]
  },
  {
   "cell_type": "code",
   "execution_count": 16,
   "id": "60329317",
   "metadata": {
    "colab": {
     "base_uri": "https://localhost:8080/"
    },
    "id": "60329317",
    "outputId": "19437067-9e75-42d6-e4e9-1c49188c8b00"
   },
   "outputs": [
    {
     "data": {
      "text/plain": [
       "torch.Size([4, 10, 8, 16])"
      ]
     },
     "execution_count": 16,
     "metadata": {
      "tags": []
     },
     "output_type": "execute_result"
    }
   ],
   "source": [
    "# torch.Size([4, 10, 8, 16])\n",
    "out = torch.nn.Conv2d(C, C_out, kernel_size=(5, 5), padding=2)(x)\n",
    "out.shape"
   ]
  },
  {
   "cell_type": "code",
   "execution_count": 17,
   "id": "65714888",
   "metadata": {
    "colab": {
     "base_uri": "https://localhost:8080/"
    },
    "id": "65714888",
    "outputId": "ab3acd51-1cd4-444f-dc6e-ec751c27c993"
   },
   "outputs": [
    {
     "data": {
      "text/plain": [
       "torch.Size([4, 10, 8, 16])"
      ]
     },
     "execution_count": 17,
     "metadata": {
      "tags": []
     },
     "output_type": "execute_result"
    }
   ],
   "source": [
    "# torch.Size([4, 10, 8, 16])\n",
    "out = torch.nn.Conv2d(C, C_out, kernel_size=(7, 7), padding=3)(x)\n",
    "out.shape"
   ]
  },
  {
   "cell_type": "code",
   "execution_count": 18,
   "id": "28d7e6da",
   "metadata": {
    "colab": {
     "base_uri": "https://localhost:8080/"
    },
    "id": "28d7e6da",
    "outputId": "e88a331e-c27d-4c29-c29c-f6a977a0b7a2"
   },
   "outputs": [
    {
     "data": {
      "text/plain": [
       "torch.Size([4, 10, 8, 16])"
      ]
     },
     "execution_count": 18,
     "metadata": {
      "tags": []
     },
     "output_type": "execute_result"
    }
   ],
   "source": [
    "# torch.Size([4, 10, 8, 16])\n",
    "out = torch.nn.Conv2d(C, C_out, kernel_size=(9, 9), padding=4)(x)\n",
    "out.shape"
   ]
  },
  {
   "cell_type": "code",
   "execution_count": 19,
   "id": "8feba6b8",
   "metadata": {
    "colab": {
     "base_uri": "https://localhost:8080/"
    },
    "id": "8feba6b8",
    "outputId": "99b0870e-9a53-4301-8035-c11c57278d2f"
   },
   "outputs": [
    {
     "data": {
      "text/plain": [
       "torch.Size([4, 10, 8, 16])"
      ]
     },
     "execution_count": 19,
     "metadata": {
      "tags": []
     },
     "output_type": "execute_result"
    }
   ],
   "source": [
    "# torch.Size([4, 10, 8, 16])\n",
    "out = torch.nn.Conv2d(C, C_out, kernel_size=(3, 5), padding=(1, 2))(x)\n",
    "out.shape"
   ]
  },
  {
   "cell_type": "code",
   "execution_count": 20,
   "id": "915b2e1d",
   "metadata": {
    "colab": {
     "base_uri": "https://localhost:8080/"
    },
    "id": "915b2e1d",
    "outputId": "e239cb73-23d3-4946-a98a-fe18a01f6140"
   },
   "outputs": [
    {
     "data": {
      "text/plain": [
       "torch.Size([4, 10, 22, 30])"
      ]
     },
     "execution_count": 20,
     "metadata": {
      "tags": []
     },
     "output_type": "execute_result"
    }
   ],
   "source": [
    "# torch.Size([4, 10, 22, 30])\n",
    "out = torch.nn.Conv2d(C, C_out, kernel_size=(3, 3), padding=8)(x)\n",
    "out.shape"
   ]
  },
  {
   "cell_type": "code",
   "execution_count": 21,
   "id": "32cf0053",
   "metadata": {
    "colab": {
     "base_uri": "https://localhost:8080/"
    },
    "id": "32cf0053",
    "outputId": "810cc7b5-3a17-48d2-dd77-bff3881a5f21"
   },
   "outputs": [
    {
     "data": {
      "text/plain": [
       "torch.Size([4, 10, 7, 15])"
      ]
     },
     "execution_count": 21,
     "metadata": {
      "tags": []
     },
     "output_type": "execute_result"
    }
   ],
   "source": [
    "# torch.Size([4, 10, 7, 15])\n",
    "out = torch.nn.Conv2d(C, C_out, kernel_size=(4, 4), padding=1)(x)\n",
    "out.shape"
   ]
  },
  {
   "cell_type": "code",
   "execution_count": 22,
   "id": "0f68970c",
   "metadata": {
    "colab": {
     "base_uri": "https://localhost:8080/"
    },
    "id": "0f68970c",
    "outputId": "0a275629-e6bb-4183-efeb-eb952f34cda7"
   },
   "outputs": [
    {
     "data": {
      "text/plain": [
       "torch.Size([4, 10, 9, 17])"
      ]
     },
     "execution_count": 22,
     "metadata": {
      "tags": []
     },
     "output_type": "execute_result"
    }
   ],
   "source": [
    "# torch.Size([4, 10, 9, 17])\n",
    "out = torch.nn.Conv2d(C, C_out, kernel_size=(2, 2), padding=1)(x)\n",
    "out.shape"
   ]
  },
  {
   "cell_type": "markdown",
   "id": "62y1VFXEbyFS",
   "metadata": {
    "id": "62y1VFXEbyFS"
   },
   "source": [
    "Task 3. Use a convolutional neural network to classify images (CIFAR10 dataset)."
   ]
  },
  {
   "cell_type": "markdown",
   "id": "o8LZpREub_rO",
   "metadata": {
    "id": "o8LZpREub_rO"
   },
   "source": [
    "__Data preparation__"
   ]
  },
  {
   "cell_type": "code",
   "execution_count": null,
   "id": "6e9f3ea1",
   "metadata": {
    "id": "6e9f3ea1"
   },
   "outputs": [],
   "source": [
    "cifar_train = torchvision.datasets.CIFAR10('./', download=True, train=True);\n",
    "cifar_test = torchvision.datasets.CIFAR10('./', download=True, train=False);\n",
    "X_train = torch.Tensor(cifar_train.data)\n",
    "y_train = torch.LongTensor(cifar_train.targets)\n",
    "X_test = torch.Tensor(cifar_test.data)\n",
    "y_test = torch.LongTensor(cifar_test.targets)"
   ]
  },
  {
   "cell_type": "code",
   "execution_count": 24,
   "id": "b6cAqPwOcHJl",
   "metadata": {
    "id": "b6cAqPwOcHJl"
   },
   "outputs": [],
   "source": [
    "X_train /= 255\n",
    "X_test /= 255"
   ]
  },
  {
   "cell_type": "code",
   "execution_count": 25,
   "id": "inIPSYKhcJY7",
   "metadata": {
    "colab": {
     "base_uri": "https://localhost:8080/"
    },
    "id": "inIPSYKhcJY7",
    "outputId": "f8f6316b-fd9a-4622-fa2d-2f49a2f9d878"
   },
   "outputs": [
    {
     "data": {
      "text/plain": [
       "['airplane',\n",
       " 'automobile',\n",
       " 'bird',\n",
       " 'cat',\n",
       " 'deer',\n",
       " 'dog',\n",
       " 'frog',\n",
       " 'horse',\n",
       " 'ship',\n",
       " 'truck']"
      ]
     },
     "execution_count": 25,
     "metadata": {
      "tags": []
     },
     "output_type": "execute_result"
    }
   ],
   "source": [
    "cifar_train.classes"
   ]
  },
  {
   "cell_type": "code",
   "execution_count": 26,
   "id": "OJq4FSLFcK80",
   "metadata": {
    "colab": {
     "base_uri": "https://localhost:8080/",
     "height": 283
    },
    "id": "OJq4FSLFcK80",
    "outputId": "c8404b65-ef59-496c-b234-9bb42198f065"
   },
   "outputs": [
    {
     "data": {
      "text/plain": [
       "tensor(9)"
      ]
     },
     "execution_count": 26,
     "metadata": {
      "tags": []
     },
     "output_type": "execute_result"
    },
    {
     "data": {
      "image/png": "[encoded data removed]",
      "text/plain": [
       "<Figure size 432x288 with 1 Axes>"
      ]
     },
     "metadata": {
      "needs_background": "light",
      "tags": []
     },
     "output_type": "display_data"
    }
   ],
   "source": [
    "# display an example of the data\n",
    "plt.imshow(X_train[1, :, :, :])\n",
    "y_train[1]"
   ]
  },
  {
   "cell_type": "code",
   "execution_count": 27,
   "id": "r2_oKwiUcNnL",
   "metadata": {
    "id": "r2_oKwiUcNnL"
   },
   "outputs": [],
   "source": [
    "X_train = X_train.permute(0, 3, 1, 2)\n",
    "X_test = X_test.permute(0, 3, 1, 2)"
   ]
  },
  {
   "cell_type": "code",
   "execution_count": 28,
   "id": "gYCBRPJrcQ4c",
   "metadata": {
    "colab": {
     "base_uri": "https://localhost:8080/"
    },
    "id": "gYCBRPJrcQ4c",
    "outputId": "38e5b82b-0730-4777-ca11-51d5bd1c7b02"
   },
   "outputs": [
    {
     "name": "stdout",
     "output_type": "stream",
     "text": [
      "torch.Size([50000, 3, 32, 32]) torch.Size([10000, 3, 32, 32])\n",
      "torch.Size([50000]) torch.Size([10000])\n"
     ]
    }
   ],
   "source": [
    "# datasets shapes\n",
    "print(X_train.shape, X_test.shape)\n",
    "print(y_train.shape, y_test.shape)"
   ]
  },
  {
   "cell_type": "markdown",
   "id": "_LjUht3mcZME",
   "metadata": {
    "id": "_LjUht3mcZME"
   },
   "source": [
    "__Model__"
   ]
  },
  {
   "cell_type": "code",
   "execution_count": 29,
   "id": "fFU7LgwTcaEp",
   "metadata": {
    "id": "fFU7LgwTcaEp"
   },
   "outputs": [],
   "source": [
    "class LeNet5_CIFAR10(torch.nn.Module):\n",
    "    \n",
    "    def __init__(self):\n",
    "        super(LeNet5_CIFAR10, self).__init__()\n",
    "        \n",
    "        self.conv1 = torch.nn.Conv2d(in_channels=3, out_channels=6, kernel_size=5, padding=0)\n",
    "        self.ac1 = torch.nn.Tanh()\n",
    "        self.pool1 = torch.nn.AvgPool2d(kernel_size=2, stride=2)\n",
    "        \n",
    "        self.conv2 = torch.nn.Conv2d(in_channels=6, out_channels=16, kernel_size=5, padding=0)\n",
    "        self.ac2 = torch.nn.Tanh()\n",
    "        self.pool2 = torch.nn.AvgPool2d(kernel_size=2, stride=2)\n",
    "        \n",
    "        self.fc1 = torch.nn.Linear(5 * 5 * 16, 120)\n",
    "        self.ac3 = torch.nn.Tanh()\n",
    "        \n",
    "        self.fc2 = torch.nn.Linear(120, 84)\n",
    "        self.ac4 = torch.nn.Tanh()\n",
    "        \n",
    "        self.fc3 = torch.nn.Linear(84, 10)\n",
    "        \n",
    "    def forward(self, x):\n",
    "        x = self.conv1(x)\n",
    "        x = self.ac1(x)\n",
    "        x = self.pool1(x)\n",
    "        \n",
    "        x = self.conv2(x)\n",
    "        x = self.ac2(x)\n",
    "        x = self.pool2(x)\n",
    "        \n",
    "        x = x.view(x.size(0), x.size(1) * x.size(2) * x.size(3))\n",
    "        \n",
    "        x = self.fc1(x) \n",
    "        x = self.ac3(x)\n",
    "        \n",
    "        x = self.fc2(x) \n",
    "        x = self.ac4(x)\n",
    "        \n",
    "        x = self.fc3(x)\n",
    "        \n",
    "        return x"
   ]
  },
  {
   "cell_type": "code",
   "execution_count": 30,
   "id": "XpF5KsmFcsGF",
   "metadata": {
    "colab": {
     "base_uri": "https://localhost:8080/"
    },
    "id": "XpF5KsmFcsGF",
    "outputId": "a50b44b8-4783-411f-a42f-07438adb16df"
   },
   "outputs": [
    {
     "data": {
      "text/plain": [
       "LeNet5_CIFAR10(\n",
       "  (conv1): Conv2d(3, 6, kernel_size=(5, 5), stride=(1, 1))\n",
       "  (ac1): Tanh()\n",
       "  (pool1): AvgPool2d(kernel_size=2, stride=2, padding=0)\n",
       "  (conv2): Conv2d(6, 16, kernel_size=(5, 5), stride=(1, 1))\n",
       "  (ac2): Tanh()\n",
       "  (pool2): AvgPool2d(kernel_size=2, stride=2, padding=0)\n",
       "  (fc1): Linear(in_features=400, out_features=120, bias=True)\n",
       "  (ac3): Tanh()\n",
       "  (fc2): Linear(in_features=120, out_features=84, bias=True)\n",
       "  (ac4): Tanh()\n",
       "  (fc3): Linear(in_features=84, out_features=10, bias=True)\n",
       ")"
      ]
     },
     "execution_count": 30,
     "metadata": {
      "tags": []
     },
     "output_type": "execute_result"
    }
   ],
   "source": [
    "lenet5_cifar = LeNet5_CIFAR10()\n",
    "lenet5_cifar"
   ]
  },
  {
   "cell_type": "markdown",
   "id": "68cIcHkoc1dA",
   "metadata": {
    "id": "68cIcHkoc1dA"
   },
   "source": [
    "__Device__"
   ]
  },
  {
   "cell_type": "code",
   "execution_count": 31,
   "id": "tM_IdsAEc66J",
   "metadata": {
    "id": "tM_IdsAEc66J"
   },
   "outputs": [],
   "source": [
    "device = torch.device('cuda:0' if torch.cuda.is_available() else 'cpu')"
   ]
  },
  {
   "cell_type": "code",
   "execution_count": 32,
   "id": "AZNmrI_2c9uB",
   "metadata": {
    "id": "AZNmrI_2c9uB"
   },
   "outputs": [],
   "source": [
    "X_test = X_test.to(device)\n",
    "y_test = y_test.to(device)\n",
    "lenet5_cifar = lenet5_cifar.to(device)"
   ]
  },
  {
   "cell_type": "markdown",
   "id": "hhC6YdPydFvg",
   "metadata": {
    "id": "hhC6YdPydFvg"
   },
   "source": [
    "__Loss and optimizer__"
   ]
  },
  {
   "cell_type": "code",
   "execution_count": 33,
   "id": "QM_QuxOjdGkE",
   "metadata": {
    "id": "QM_QuxOjdGkE"
   },
   "outputs": [],
   "source": [
    "loss = torch.nn.CrossEntropyLoss()\n",
    "optimizer = torch.optim.Adam(lenet5_cifar.parameters(), lr=1.0e-3)"
   ]
  },
  {
   "cell_type": "markdown",
   "id": "OWN5SOagdLuH",
   "metadata": {
    "id": "OWN5SOagdLuH"
   },
   "source": [
    "__Model training__"
   ]
  },
  {
   "cell_type": "code",
   "execution_count": 34,
   "id": "sbOGOFLUdKiD",
   "metadata": {
    "id": "sbOGOFLUdKiD"
   },
   "outputs": [],
   "source": [
    "batch_size = 100\n",
    "test_accuracy_history = []\n",
    "test_loss_history = []\n",
    "\n",
    "for epoch in range(20):\n",
    "    order = np.random.permutation(len(X_train))\n",
    "\n",
    "    for start_index in range(0, len(X_train), batch_size):\n",
    "        optimizer.zero_grad()\n",
    "\n",
    "        batch_indexes = order[start_index:start_index+batch_size]\n",
    "        X_batch = X_train[batch_indexes].to(device)\n",
    "        y_batch = y_train[batch_indexes].to(device)\n",
    "\n",
    "        preds = lenet5_cifar.forward(X_batch)\n",
    "        loss_value = loss(preds, y_batch)\n",
    "        loss_value.backward()\n",
    "\n",
    "        optimizer.step()\n",
    "\n",
    "    test_preds = lenet5_cifar.forward(X_test)\n",
    "    test_loss_history.append(loss(test_preds, y_test).data.cpu())\n",
    "\n",
    "    accuracy = (test_preds.argmax(dim=1) == y_test).float().mean().data.cpu()\n",
    "    test_accuracy_history.append(accuracy)"
   ]
  },
  {
   "cell_type": "code",
   "execution_count": 35,
   "id": "03SKBvaSdxsh",
   "metadata": {
    "colab": {
     "base_uri": "https://localhost:8080/",
     "height": 390
    },
    "id": "03SKBvaSdxsh",
    "outputId": "31b588aa-ef9f-4fe6-f88b-6f22719fb26d"
   },
   "outputs": [
    {
     "data": {
      "image/png": "[encoded data removed]",
      "text/plain": [
       "<Figure size 1440x432 with 2 Axes>"
      ]
     },
     "metadata": {
      "needs_background": "light",
      "tags": []
     },
     "output_type": "display_data"
    }
   ],
   "source": [
    "fig, ax = plt.subplots(1, 2, figsize=(20, 6))\n",
    "\n",
    "ax[0].plot(test_loss_history)\n",
    "ax[0].title.set_text('Loss history')\n",
    "\n",
    "ax[1].plot(test_accuracy_history)\n",
    "ax[1].title.set_text('Accuracy history')"
   ]
  }
 ],
 "metadata": {
  "accelerator": "GPU",
  "colab": {
   "name": "lab9.ipynb",
   "provenance": []
  },
  "kernelspec": {
   "display_name": "Python 3",
   "language": "python",
   "name": "python3"
  },
  "language_info": {
   "codemirror_mode": {
    "name": "ipython",
    "version": 3
   },
   "file_extension": ".py",
   "mimetype": "text/x-python",
   "name": "python",
   "nbconvert_exporter": "python",
   "pygments_lexer": "ipython3",
   "version": "3.6.9"
  }
 },
 "nbformat": 4,
 "nbformat_minor": 5
}
